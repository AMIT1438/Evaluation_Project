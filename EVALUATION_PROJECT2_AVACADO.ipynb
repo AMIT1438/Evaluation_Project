{
 "cells": [
  {
   "cell_type": "code",
   "execution_count": 1,
   "id": "a038bc81",
   "metadata": {},
   "outputs": [],
   "source": [
    "#importing or including important libraries\n",
    "import pandas as pd\n",
    "import numpy as np"
   ]
  },
  {
   "cell_type": "code",
   "execution_count": 2,
   "id": "bf5ca7d2",
   "metadata": {},
   "outputs": [
    {
     "data": {
      "text/html": [
       "<div>\n",
       "<style scoped>\n",
       "    .dataframe tbody tr th:only-of-type {\n",
       "        vertical-align: middle;\n",
       "    }\n",
       "\n",
       "    .dataframe tbody tr th {\n",
       "        vertical-align: top;\n",
       "    }\n",
       "\n",
       "    .dataframe thead th {\n",
       "        text-align: right;\n",
       "    }\n",
       "</style>\n",
       "<table border=\"1\" class=\"dataframe\">\n",
       "  <thead>\n",
       "    <tr style=\"text-align: right;\">\n",
       "      <th></th>\n",
       "      <th>Unnamed: 0</th>\n",
       "      <th>Date</th>\n",
       "      <th>AveragePrice</th>\n",
       "      <th>Total Volume</th>\n",
       "      <th>4046</th>\n",
       "      <th>4225</th>\n",
       "      <th>4770</th>\n",
       "      <th>Total Bags</th>\n",
       "      <th>Small Bags</th>\n",
       "      <th>Large Bags</th>\n",
       "      <th>XLarge Bags</th>\n",
       "      <th>type</th>\n",
       "      <th>year</th>\n",
       "      <th>region</th>\n",
       "    </tr>\n",
       "  </thead>\n",
       "  <tbody>\n",
       "    <tr>\n",
       "      <th>0</th>\n",
       "      <td>0</td>\n",
       "      <td>2015-12-27</td>\n",
       "      <td>1.33</td>\n",
       "      <td>64236.62</td>\n",
       "      <td>1036.74</td>\n",
       "      <td>54454.85</td>\n",
       "      <td>48.16</td>\n",
       "      <td>8696.87</td>\n",
       "      <td>8603.62</td>\n",
       "      <td>93.25</td>\n",
       "      <td>0.0</td>\n",
       "      <td>conventional</td>\n",
       "      <td>2015</td>\n",
       "      <td>Albany</td>\n",
       "    </tr>\n",
       "    <tr>\n",
       "      <th>1</th>\n",
       "      <td>1</td>\n",
       "      <td>2015-12-20</td>\n",
       "      <td>1.35</td>\n",
       "      <td>54876.98</td>\n",
       "      <td>674.28</td>\n",
       "      <td>44638.81</td>\n",
       "      <td>58.33</td>\n",
       "      <td>9505.56</td>\n",
       "      <td>9408.07</td>\n",
       "      <td>97.49</td>\n",
       "      <td>0.0</td>\n",
       "      <td>conventional</td>\n",
       "      <td>2015</td>\n",
       "      <td>Albany</td>\n",
       "    </tr>\n",
       "    <tr>\n",
       "      <th>2</th>\n",
       "      <td>2</td>\n",
       "      <td>2015-12-13</td>\n",
       "      <td>0.93</td>\n",
       "      <td>118220.22</td>\n",
       "      <td>794.70</td>\n",
       "      <td>109149.67</td>\n",
       "      <td>130.50</td>\n",
       "      <td>8145.35</td>\n",
       "      <td>8042.21</td>\n",
       "      <td>103.14</td>\n",
       "      <td>0.0</td>\n",
       "      <td>conventional</td>\n",
       "      <td>2015</td>\n",
       "      <td>Albany</td>\n",
       "    </tr>\n",
       "    <tr>\n",
       "      <th>3</th>\n",
       "      <td>3</td>\n",
       "      <td>2015-12-06</td>\n",
       "      <td>1.08</td>\n",
       "      <td>78992.15</td>\n",
       "      <td>1132.00</td>\n",
       "      <td>71976.41</td>\n",
       "      <td>72.58</td>\n",
       "      <td>5811.16</td>\n",
       "      <td>5677.40</td>\n",
       "      <td>133.76</td>\n",
       "      <td>0.0</td>\n",
       "      <td>conventional</td>\n",
       "      <td>2015</td>\n",
       "      <td>Albany</td>\n",
       "    </tr>\n",
       "    <tr>\n",
       "      <th>4</th>\n",
       "      <td>4</td>\n",
       "      <td>2015-11-29</td>\n",
       "      <td>1.28</td>\n",
       "      <td>51039.60</td>\n",
       "      <td>941.48</td>\n",
       "      <td>43838.39</td>\n",
       "      <td>75.78</td>\n",
       "      <td>6183.95</td>\n",
       "      <td>5986.26</td>\n",
       "      <td>197.69</td>\n",
       "      <td>0.0</td>\n",
       "      <td>conventional</td>\n",
       "      <td>2015</td>\n",
       "      <td>Albany</td>\n",
       "    </tr>\n",
       "    <tr>\n",
       "      <th>...</th>\n",
       "      <td>...</td>\n",
       "      <td>...</td>\n",
       "      <td>...</td>\n",
       "      <td>...</td>\n",
       "      <td>...</td>\n",
       "      <td>...</td>\n",
       "      <td>...</td>\n",
       "      <td>...</td>\n",
       "      <td>...</td>\n",
       "      <td>...</td>\n",
       "      <td>...</td>\n",
       "      <td>...</td>\n",
       "      <td>...</td>\n",
       "      <td>...</td>\n",
       "    </tr>\n",
       "    <tr>\n",
       "      <th>18244</th>\n",
       "      <td>7</td>\n",
       "      <td>2018-02-04</td>\n",
       "      <td>1.63</td>\n",
       "      <td>17074.83</td>\n",
       "      <td>2046.96</td>\n",
       "      <td>1529.20</td>\n",
       "      <td>0.00</td>\n",
       "      <td>13498.67</td>\n",
       "      <td>13066.82</td>\n",
       "      <td>431.85</td>\n",
       "      <td>0.0</td>\n",
       "      <td>organic</td>\n",
       "      <td>2018</td>\n",
       "      <td>WestTexNewMexico</td>\n",
       "    </tr>\n",
       "    <tr>\n",
       "      <th>18245</th>\n",
       "      <td>8</td>\n",
       "      <td>2018-01-28</td>\n",
       "      <td>1.71</td>\n",
       "      <td>13888.04</td>\n",
       "      <td>1191.70</td>\n",
       "      <td>3431.50</td>\n",
       "      <td>0.00</td>\n",
       "      <td>9264.84</td>\n",
       "      <td>8940.04</td>\n",
       "      <td>324.80</td>\n",
       "      <td>0.0</td>\n",
       "      <td>organic</td>\n",
       "      <td>2018</td>\n",
       "      <td>WestTexNewMexico</td>\n",
       "    </tr>\n",
       "    <tr>\n",
       "      <th>18246</th>\n",
       "      <td>9</td>\n",
       "      <td>2018-01-21</td>\n",
       "      <td>1.87</td>\n",
       "      <td>13766.76</td>\n",
       "      <td>1191.92</td>\n",
       "      <td>2452.79</td>\n",
       "      <td>727.94</td>\n",
       "      <td>9394.11</td>\n",
       "      <td>9351.80</td>\n",
       "      <td>42.31</td>\n",
       "      <td>0.0</td>\n",
       "      <td>organic</td>\n",
       "      <td>2018</td>\n",
       "      <td>WestTexNewMexico</td>\n",
       "    </tr>\n",
       "    <tr>\n",
       "      <th>18247</th>\n",
       "      <td>10</td>\n",
       "      <td>2018-01-14</td>\n",
       "      <td>1.93</td>\n",
       "      <td>16205.22</td>\n",
       "      <td>1527.63</td>\n",
       "      <td>2981.04</td>\n",
       "      <td>727.01</td>\n",
       "      <td>10969.54</td>\n",
       "      <td>10919.54</td>\n",
       "      <td>50.00</td>\n",
       "      <td>0.0</td>\n",
       "      <td>organic</td>\n",
       "      <td>2018</td>\n",
       "      <td>WestTexNewMexico</td>\n",
       "    </tr>\n",
       "    <tr>\n",
       "      <th>18248</th>\n",
       "      <td>11</td>\n",
       "      <td>2018-01-07</td>\n",
       "      <td>1.62</td>\n",
       "      <td>17489.58</td>\n",
       "      <td>2894.77</td>\n",
       "      <td>2356.13</td>\n",
       "      <td>224.53</td>\n",
       "      <td>12014.15</td>\n",
       "      <td>11988.14</td>\n",
       "      <td>26.01</td>\n",
       "      <td>0.0</td>\n",
       "      <td>organic</td>\n",
       "      <td>2018</td>\n",
       "      <td>WestTexNewMexico</td>\n",
       "    </tr>\n",
       "  </tbody>\n",
       "</table>\n",
       "<p>18249 rows × 14 columns</p>\n",
       "</div>"
      ],
      "text/plain": [
       "       Unnamed: 0        Date  AveragePrice  Total Volume     4046       4225  \\\n",
       "0               0  2015-12-27          1.33      64236.62  1036.74   54454.85   \n",
       "1               1  2015-12-20          1.35      54876.98   674.28   44638.81   \n",
       "2               2  2015-12-13          0.93     118220.22   794.70  109149.67   \n",
       "3               3  2015-12-06          1.08      78992.15  1132.00   71976.41   \n",
       "4               4  2015-11-29          1.28      51039.60   941.48   43838.39   \n",
       "...           ...         ...           ...           ...      ...        ...   \n",
       "18244           7  2018-02-04          1.63      17074.83  2046.96    1529.20   \n",
       "18245           8  2018-01-28          1.71      13888.04  1191.70    3431.50   \n",
       "18246           9  2018-01-21          1.87      13766.76  1191.92    2452.79   \n",
       "18247          10  2018-01-14          1.93      16205.22  1527.63    2981.04   \n",
       "18248          11  2018-01-07          1.62      17489.58  2894.77    2356.13   \n",
       "\n",
       "         4770  Total Bags  Small Bags  Large Bags  XLarge Bags          type  \\\n",
       "0       48.16     8696.87     8603.62       93.25          0.0  conventional   \n",
       "1       58.33     9505.56     9408.07       97.49          0.0  conventional   \n",
       "2      130.50     8145.35     8042.21      103.14          0.0  conventional   \n",
       "3       72.58     5811.16     5677.40      133.76          0.0  conventional   \n",
       "4       75.78     6183.95     5986.26      197.69          0.0  conventional   \n",
       "...       ...         ...         ...         ...          ...           ...   \n",
       "18244    0.00    13498.67    13066.82      431.85          0.0       organic   \n",
       "18245    0.00     9264.84     8940.04      324.80          0.0       organic   \n",
       "18246  727.94     9394.11     9351.80       42.31          0.0       organic   \n",
       "18247  727.01    10969.54    10919.54       50.00          0.0       organic   \n",
       "18248  224.53    12014.15    11988.14       26.01          0.0       organic   \n",
       "\n",
       "       year            region  \n",
       "0      2015            Albany  \n",
       "1      2015            Albany  \n",
       "2      2015            Albany  \n",
       "3      2015            Albany  \n",
       "4      2015            Albany  \n",
       "...     ...               ...  \n",
       "18244  2018  WestTexNewMexico  \n",
       "18245  2018  WestTexNewMexico  \n",
       "18246  2018  WestTexNewMexico  \n",
       "18247  2018  WestTexNewMexico  \n",
       "18248  2018  WestTexNewMexico  \n",
       "\n",
       "[18249 rows x 14 columns]"
      ]
     },
     "execution_count": 2,
     "metadata": {},
     "output_type": "execute_result"
    }
   ],
   "source": [
    "#reading the csv file in a data set\n",
    "ds = pd.read_csv('avocado.csv')\n",
    "\n",
    "#storing the data set in a data frame\n",
    "df = pd.DataFrame(data=ds)\n",
    "\n",
    "#displaying the data frame\n",
    "df"
   ]
  },
  {
   "cell_type": "code",
   "execution_count": 3,
   "id": "b7f19fc2",
   "metadata": {},
   "outputs": [
    {
     "data": {
      "text/plain": [
       "pandas.core.frame.DataFrame"
      ]
     },
     "execution_count": 3,
     "metadata": {},
     "output_type": "execute_result"
    }
   ],
   "source": [
    "#printing the the type of data frame\n",
    "type(df)"
   ]
  },
  {
   "cell_type": "code",
   "execution_count": 4,
   "id": "d98328b1",
   "metadata": {},
   "outputs": [
    {
     "data": {
      "text/plain": [
       "Index(['Unnamed: 0', 'Date', 'AveragePrice', 'Total Volume', '4046', '4225',\n",
       "       '4770', 'Total Bags', 'Small Bags', 'Large Bags', 'XLarge Bags', 'type',\n",
       "       'year', 'region'],\n",
       "      dtype='object')"
      ]
     },
     "execution_count": 4,
     "metadata": {},
     "output_type": "execute_result"
    }
   ],
   "source": [
    "#printing the columns available in data frame\n",
    "df.columns"
   ]
  },
  {
   "cell_type": "code",
   "execution_count": 5,
   "id": "977aebfa",
   "metadata": {},
   "outputs": [
    {
     "data": {
      "text/plain": [
       "pandas.core.indexes.base.Index"
      ]
     },
     "execution_count": 5,
     "metadata": {},
     "output_type": "execute_result"
    }
   ],
   "source": [
    "#displaying the type of data frame columns\n",
    "type(df.columns)"
   ]
  },
  {
   "cell_type": "code",
   "execution_count": 6,
   "id": "96162101",
   "metadata": {},
   "outputs": [
    {
     "data": {
      "text/html": [
       "<div>\n",
       "<style scoped>\n",
       "    .dataframe tbody tr th:only-of-type {\n",
       "        vertical-align: middle;\n",
       "    }\n",
       "\n",
       "    .dataframe tbody tr th {\n",
       "        vertical-align: top;\n",
       "    }\n",
       "\n",
       "    .dataframe thead th {\n",
       "        text-align: right;\n",
       "    }\n",
       "</style>\n",
       "<table border=\"1\" class=\"dataframe\">\n",
       "  <thead>\n",
       "    <tr style=\"text-align: right;\">\n",
       "      <th></th>\n",
       "      <th>Unnamed: 0</th>\n",
       "      <th>Date</th>\n",
       "      <th>AveragePrice</th>\n",
       "      <th>Total Volume</th>\n",
       "      <th>4046</th>\n",
       "      <th>4225</th>\n",
       "      <th>4770</th>\n",
       "      <th>Total Bags</th>\n",
       "      <th>Small Bags</th>\n",
       "      <th>Large Bags</th>\n",
       "      <th>XLarge Bags</th>\n",
       "      <th>type</th>\n",
       "      <th>year</th>\n",
       "      <th>region</th>\n",
       "    </tr>\n",
       "  </thead>\n",
       "  <tbody>\n",
       "    <tr>\n",
       "      <th>0</th>\n",
       "      <td>0</td>\n",
       "      <td>2015-12-27</td>\n",
       "      <td>1.33</td>\n",
       "      <td>64236.62</td>\n",
       "      <td>1036.74</td>\n",
       "      <td>54454.85</td>\n",
       "      <td>48.16</td>\n",
       "      <td>8696.87</td>\n",
       "      <td>8603.62</td>\n",
       "      <td>93.25</td>\n",
       "      <td>0.0</td>\n",
       "      <td>conventional</td>\n",
       "      <td>2015</td>\n",
       "      <td>Albany</td>\n",
       "    </tr>\n",
       "    <tr>\n",
       "      <th>1</th>\n",
       "      <td>1</td>\n",
       "      <td>2015-12-20</td>\n",
       "      <td>1.35</td>\n",
       "      <td>54876.98</td>\n",
       "      <td>674.28</td>\n",
       "      <td>44638.81</td>\n",
       "      <td>58.33</td>\n",
       "      <td>9505.56</td>\n",
       "      <td>9408.07</td>\n",
       "      <td>97.49</td>\n",
       "      <td>0.0</td>\n",
       "      <td>conventional</td>\n",
       "      <td>2015</td>\n",
       "      <td>Albany</td>\n",
       "    </tr>\n",
       "    <tr>\n",
       "      <th>2</th>\n",
       "      <td>2</td>\n",
       "      <td>2015-12-13</td>\n",
       "      <td>0.93</td>\n",
       "      <td>118220.22</td>\n",
       "      <td>794.70</td>\n",
       "      <td>109149.67</td>\n",
       "      <td>130.50</td>\n",
       "      <td>8145.35</td>\n",
       "      <td>8042.21</td>\n",
       "      <td>103.14</td>\n",
       "      <td>0.0</td>\n",
       "      <td>conventional</td>\n",
       "      <td>2015</td>\n",
       "      <td>Albany</td>\n",
       "    </tr>\n",
       "    <tr>\n",
       "      <th>3</th>\n",
       "      <td>3</td>\n",
       "      <td>2015-12-06</td>\n",
       "      <td>1.08</td>\n",
       "      <td>78992.15</td>\n",
       "      <td>1132.00</td>\n",
       "      <td>71976.41</td>\n",
       "      <td>72.58</td>\n",
       "      <td>5811.16</td>\n",
       "      <td>5677.40</td>\n",
       "      <td>133.76</td>\n",
       "      <td>0.0</td>\n",
       "      <td>conventional</td>\n",
       "      <td>2015</td>\n",
       "      <td>Albany</td>\n",
       "    </tr>\n",
       "    <tr>\n",
       "      <th>4</th>\n",
       "      <td>4</td>\n",
       "      <td>2015-11-29</td>\n",
       "      <td>1.28</td>\n",
       "      <td>51039.60</td>\n",
       "      <td>941.48</td>\n",
       "      <td>43838.39</td>\n",
       "      <td>75.78</td>\n",
       "      <td>6183.95</td>\n",
       "      <td>5986.26</td>\n",
       "      <td>197.69</td>\n",
       "      <td>0.0</td>\n",
       "      <td>conventional</td>\n",
       "      <td>2015</td>\n",
       "      <td>Albany</td>\n",
       "    </tr>\n",
       "  </tbody>\n",
       "</table>\n",
       "</div>"
      ],
      "text/plain": [
       "   Unnamed: 0        Date  AveragePrice  Total Volume     4046       4225  \\\n",
       "0           0  2015-12-27          1.33      64236.62  1036.74   54454.85   \n",
       "1           1  2015-12-20          1.35      54876.98   674.28   44638.81   \n",
       "2           2  2015-12-13          0.93     118220.22   794.70  109149.67   \n",
       "3           3  2015-12-06          1.08      78992.15  1132.00   71976.41   \n",
       "4           4  2015-11-29          1.28      51039.60   941.48   43838.39   \n",
       "\n",
       "     4770  Total Bags  Small Bags  Large Bags  XLarge Bags          type  \\\n",
       "0   48.16     8696.87     8603.62       93.25          0.0  conventional   \n",
       "1   58.33     9505.56     9408.07       97.49          0.0  conventional   \n",
       "2  130.50     8145.35     8042.21      103.14          0.0  conventional   \n",
       "3   72.58     5811.16     5677.40      133.76          0.0  conventional   \n",
       "4   75.78     6183.95     5986.26      197.69          0.0  conventional   \n",
       "\n",
       "   year  region  \n",
       "0  2015  Albany  \n",
       "1  2015  Albany  \n",
       "2  2015  Albany  \n",
       "3  2015  Albany  \n",
       "4  2015  Albany  "
      ]
     },
     "execution_count": 6,
     "metadata": {},
     "output_type": "execute_result"
    }
   ],
   "source": [
    "#displaying the top 5 rows of data frame\n",
    "df.head()"
   ]
  },
  {
   "cell_type": "code",
   "execution_count": 7,
   "id": "c7d55fe2",
   "metadata": {},
   "outputs": [
    {
     "data": {
      "text/html": [
       "<div>\n",
       "<style scoped>\n",
       "    .dataframe tbody tr th:only-of-type {\n",
       "        vertical-align: middle;\n",
       "    }\n",
       "\n",
       "    .dataframe tbody tr th {\n",
       "        vertical-align: top;\n",
       "    }\n",
       "\n",
       "    .dataframe thead th {\n",
       "        text-align: right;\n",
       "    }\n",
       "</style>\n",
       "<table border=\"1\" class=\"dataframe\">\n",
       "  <thead>\n",
       "    <tr style=\"text-align: right;\">\n",
       "      <th></th>\n",
       "      <th>Unnamed: 0</th>\n",
       "      <th>Date</th>\n",
       "      <th>AveragePrice</th>\n",
       "      <th>Total Volume</th>\n",
       "      <th>4046</th>\n",
       "      <th>4225</th>\n",
       "      <th>4770</th>\n",
       "      <th>Total Bags</th>\n",
       "      <th>Small Bags</th>\n",
       "      <th>Large Bags</th>\n",
       "      <th>XLarge Bags</th>\n",
       "      <th>type</th>\n",
       "      <th>year</th>\n",
       "      <th>region</th>\n",
       "    </tr>\n",
       "  </thead>\n",
       "  <tbody>\n",
       "    <tr>\n",
       "      <th>18242</th>\n",
       "      <td>5</td>\n",
       "      <td>2018-02-18</td>\n",
       "      <td>1.56</td>\n",
       "      <td>17597.12</td>\n",
       "      <td>1892.05</td>\n",
       "      <td>1928.36</td>\n",
       "      <td>0.00</td>\n",
       "      <td>13776.71</td>\n",
       "      <td>13553.53</td>\n",
       "      <td>223.18</td>\n",
       "      <td>0.0</td>\n",
       "      <td>organic</td>\n",
       "      <td>2018</td>\n",
       "      <td>WestTexNewMexico</td>\n",
       "    </tr>\n",
       "    <tr>\n",
       "      <th>18243</th>\n",
       "      <td>6</td>\n",
       "      <td>2018-02-11</td>\n",
       "      <td>1.57</td>\n",
       "      <td>15986.17</td>\n",
       "      <td>1924.28</td>\n",
       "      <td>1368.32</td>\n",
       "      <td>0.00</td>\n",
       "      <td>12693.57</td>\n",
       "      <td>12437.35</td>\n",
       "      <td>256.22</td>\n",
       "      <td>0.0</td>\n",
       "      <td>organic</td>\n",
       "      <td>2018</td>\n",
       "      <td>WestTexNewMexico</td>\n",
       "    </tr>\n",
       "    <tr>\n",
       "      <th>18244</th>\n",
       "      <td>7</td>\n",
       "      <td>2018-02-04</td>\n",
       "      <td>1.63</td>\n",
       "      <td>17074.83</td>\n",
       "      <td>2046.96</td>\n",
       "      <td>1529.20</td>\n",
       "      <td>0.00</td>\n",
       "      <td>13498.67</td>\n",
       "      <td>13066.82</td>\n",
       "      <td>431.85</td>\n",
       "      <td>0.0</td>\n",
       "      <td>organic</td>\n",
       "      <td>2018</td>\n",
       "      <td>WestTexNewMexico</td>\n",
       "    </tr>\n",
       "    <tr>\n",
       "      <th>18245</th>\n",
       "      <td>8</td>\n",
       "      <td>2018-01-28</td>\n",
       "      <td>1.71</td>\n",
       "      <td>13888.04</td>\n",
       "      <td>1191.70</td>\n",
       "      <td>3431.50</td>\n",
       "      <td>0.00</td>\n",
       "      <td>9264.84</td>\n",
       "      <td>8940.04</td>\n",
       "      <td>324.80</td>\n",
       "      <td>0.0</td>\n",
       "      <td>organic</td>\n",
       "      <td>2018</td>\n",
       "      <td>WestTexNewMexico</td>\n",
       "    </tr>\n",
       "    <tr>\n",
       "      <th>18246</th>\n",
       "      <td>9</td>\n",
       "      <td>2018-01-21</td>\n",
       "      <td>1.87</td>\n",
       "      <td>13766.76</td>\n",
       "      <td>1191.92</td>\n",
       "      <td>2452.79</td>\n",
       "      <td>727.94</td>\n",
       "      <td>9394.11</td>\n",
       "      <td>9351.80</td>\n",
       "      <td>42.31</td>\n",
       "      <td>0.0</td>\n",
       "      <td>organic</td>\n",
       "      <td>2018</td>\n",
       "      <td>WestTexNewMexico</td>\n",
       "    </tr>\n",
       "    <tr>\n",
       "      <th>18247</th>\n",
       "      <td>10</td>\n",
       "      <td>2018-01-14</td>\n",
       "      <td>1.93</td>\n",
       "      <td>16205.22</td>\n",
       "      <td>1527.63</td>\n",
       "      <td>2981.04</td>\n",
       "      <td>727.01</td>\n",
       "      <td>10969.54</td>\n",
       "      <td>10919.54</td>\n",
       "      <td>50.00</td>\n",
       "      <td>0.0</td>\n",
       "      <td>organic</td>\n",
       "      <td>2018</td>\n",
       "      <td>WestTexNewMexico</td>\n",
       "    </tr>\n",
       "    <tr>\n",
       "      <th>18248</th>\n",
       "      <td>11</td>\n",
       "      <td>2018-01-07</td>\n",
       "      <td>1.62</td>\n",
       "      <td>17489.58</td>\n",
       "      <td>2894.77</td>\n",
       "      <td>2356.13</td>\n",
       "      <td>224.53</td>\n",
       "      <td>12014.15</td>\n",
       "      <td>11988.14</td>\n",
       "      <td>26.01</td>\n",
       "      <td>0.0</td>\n",
       "      <td>organic</td>\n",
       "      <td>2018</td>\n",
       "      <td>WestTexNewMexico</td>\n",
       "    </tr>\n",
       "  </tbody>\n",
       "</table>\n",
       "</div>"
      ],
      "text/plain": [
       "       Unnamed: 0        Date  AveragePrice  Total Volume     4046     4225  \\\n",
       "18242           5  2018-02-18          1.56      17597.12  1892.05  1928.36   \n",
       "18243           6  2018-02-11          1.57      15986.17  1924.28  1368.32   \n",
       "18244           7  2018-02-04          1.63      17074.83  2046.96  1529.20   \n",
       "18245           8  2018-01-28          1.71      13888.04  1191.70  3431.50   \n",
       "18246           9  2018-01-21          1.87      13766.76  1191.92  2452.79   \n",
       "18247          10  2018-01-14          1.93      16205.22  1527.63  2981.04   \n",
       "18248          11  2018-01-07          1.62      17489.58  2894.77  2356.13   \n",
       "\n",
       "         4770  Total Bags  Small Bags  Large Bags  XLarge Bags     type  year  \\\n",
       "18242    0.00    13776.71    13553.53      223.18          0.0  organic  2018   \n",
       "18243    0.00    12693.57    12437.35      256.22          0.0  organic  2018   \n",
       "18244    0.00    13498.67    13066.82      431.85          0.0  organic  2018   \n",
       "18245    0.00     9264.84     8940.04      324.80          0.0  organic  2018   \n",
       "18246  727.94     9394.11     9351.80       42.31          0.0  organic  2018   \n",
       "18247  727.01    10969.54    10919.54       50.00          0.0  organic  2018   \n",
       "18248  224.53    12014.15    11988.14       26.01          0.0  organic  2018   \n",
       "\n",
       "                 region  \n",
       "18242  WestTexNewMexico  \n",
       "18243  WestTexNewMexico  \n",
       "18244  WestTexNewMexico  \n",
       "18245  WestTexNewMexico  \n",
       "18246  WestTexNewMexico  \n",
       "18247  WestTexNewMexico  \n",
       "18248  WestTexNewMexico  "
      ]
     },
     "execution_count": 7,
     "metadata": {},
     "output_type": "execute_result"
    }
   ],
   "source": [
    "#displaying the bottom 7 rows of data frame\n",
    "df.tail(7)"
   ]
  },
  {
   "cell_type": "code",
   "execution_count": 8,
   "id": "cb6696de",
   "metadata": {},
   "outputs": [
    {
     "data": {
      "text/html": [
       "<div>\n",
       "<style scoped>\n",
       "    .dataframe tbody tr th:only-of-type {\n",
       "        vertical-align: middle;\n",
       "    }\n",
       "\n",
       "    .dataframe tbody tr th {\n",
       "        vertical-align: top;\n",
       "    }\n",
       "\n",
       "    .dataframe thead th {\n",
       "        text-align: right;\n",
       "    }\n",
       "</style>\n",
       "<table border=\"1\" class=\"dataframe\">\n",
       "  <thead>\n",
       "    <tr style=\"text-align: right;\">\n",
       "      <th></th>\n",
       "      <th>Unnamed: 0</th>\n",
       "      <th>Date</th>\n",
       "      <th>AveragePrice</th>\n",
       "      <th>Total Volume</th>\n",
       "      <th>4046</th>\n",
       "      <th>4225</th>\n",
       "      <th>4770</th>\n",
       "      <th>Total Bags</th>\n",
       "      <th>Small Bags</th>\n",
       "      <th>Large Bags</th>\n",
       "      <th>XLarge Bags</th>\n",
       "      <th>type</th>\n",
       "      <th>year</th>\n",
       "      <th>region</th>\n",
       "    </tr>\n",
       "  </thead>\n",
       "  <tbody>\n",
       "    <tr>\n",
       "      <th>16893</th>\n",
       "      <td>32</td>\n",
       "      <td>2017-05-21</td>\n",
       "      <td>2.40</td>\n",
       "      <td>5955.32</td>\n",
       "      <td>2135.74</td>\n",
       "      <td>2881.30</td>\n",
       "      <td>1.35</td>\n",
       "      <td>936.93</td>\n",
       "      <td>896.93</td>\n",
       "      <td>40.00</td>\n",
       "      <td>0.00</td>\n",
       "      <td>organic</td>\n",
       "      <td>2017</td>\n",
       "      <td>Sacramento</td>\n",
       "    </tr>\n",
       "    <tr>\n",
       "      <th>758</th>\n",
       "      <td>30</td>\n",
       "      <td>2015-05-31</td>\n",
       "      <td>1.31</td>\n",
       "      <td>167907.51</td>\n",
       "      <td>7097.00</td>\n",
       "      <td>90411.80</td>\n",
       "      <td>3360.05</td>\n",
       "      <td>67038.66</td>\n",
       "      <td>64208.38</td>\n",
       "      <td>2794.35</td>\n",
       "      <td>35.93</td>\n",
       "      <td>conventional</td>\n",
       "      <td>2015</td>\n",
       "      <td>GrandRapids</td>\n",
       "    </tr>\n",
       "    <tr>\n",
       "      <th>5797</th>\n",
       "      <td>22</td>\n",
       "      <td>2017-07-30</td>\n",
       "      <td>1.54</td>\n",
       "      <td>72020.82</td>\n",
       "      <td>36727.08</td>\n",
       "      <td>3472.94</td>\n",
       "      <td>7264.42</td>\n",
       "      <td>24556.38</td>\n",
       "      <td>15602.20</td>\n",
       "      <td>8946.81</td>\n",
       "      <td>7.37</td>\n",
       "      <td>conventional</td>\n",
       "      <td>2017</td>\n",
       "      <td>Boise</td>\n",
       "    </tr>\n",
       "    <tr>\n",
       "      <th>3471</th>\n",
       "      <td>39</td>\n",
       "      <td>2016-03-27</td>\n",
       "      <td>0.95</td>\n",
       "      <td>716900.40</td>\n",
       "      <td>150919.31</td>\n",
       "      <td>208644.01</td>\n",
       "      <td>20423.50</td>\n",
       "      <td>336913.58</td>\n",
       "      <td>47124.43</td>\n",
       "      <td>289789.15</td>\n",
       "      <td>0.00</td>\n",
       "      <td>conventional</td>\n",
       "      <td>2016</td>\n",
       "      <td>Denver</td>\n",
       "    </tr>\n",
       "    <tr>\n",
       "      <th>13088</th>\n",
       "      <td>11</td>\n",
       "      <td>2016-10-09</td>\n",
       "      <td>1.58</td>\n",
       "      <td>72073.73</td>\n",
       "      <td>10127.13</td>\n",
       "      <td>23301.08</td>\n",
       "      <td>12.66</td>\n",
       "      <td>38632.86</td>\n",
       "      <td>38000.26</td>\n",
       "      <td>632.60</td>\n",
       "      <td>0.00</td>\n",
       "      <td>organic</td>\n",
       "      <td>2016</td>\n",
       "      <td>LosAngeles</td>\n",
       "    </tr>\n",
       "  </tbody>\n",
       "</table>\n",
       "</div>"
      ],
      "text/plain": [
       "       Unnamed: 0        Date  AveragePrice  Total Volume       4046  \\\n",
       "16893          32  2017-05-21          2.40       5955.32    2135.74   \n",
       "758            30  2015-05-31          1.31     167907.51    7097.00   \n",
       "5797           22  2017-07-30          1.54      72020.82   36727.08   \n",
       "3471           39  2016-03-27          0.95     716900.40  150919.31   \n",
       "13088          11  2016-10-09          1.58      72073.73   10127.13   \n",
       "\n",
       "            4225      4770  Total Bags  Small Bags  Large Bags  XLarge Bags  \\\n",
       "16893    2881.30      1.35      936.93      896.93       40.00         0.00   \n",
       "758     90411.80   3360.05    67038.66    64208.38     2794.35        35.93   \n",
       "5797     3472.94   7264.42    24556.38    15602.20     8946.81         7.37   \n",
       "3471   208644.01  20423.50   336913.58    47124.43   289789.15         0.00   \n",
       "13088   23301.08     12.66    38632.86    38000.26      632.60         0.00   \n",
       "\n",
       "               type  year       region  \n",
       "16893       organic  2017   Sacramento  \n",
       "758    conventional  2015  GrandRapids  \n",
       "5797   conventional  2017        Boise  \n",
       "3471   conventional  2016       Denver  \n",
       "13088       organic  2016   LosAngeles  "
      ]
     },
     "execution_count": 8,
     "metadata": {},
     "output_type": "execute_result"
    }
   ],
   "source": [
    "#displaying 5 sample rows of the data frame\n",
    "df.sample(5)"
   ]
  },
  {
   "cell_type": "markdown",
   "id": "46471e46",
   "metadata": {},
   "source": [
    "# Checking Null Values"
   ]
  },
  {
   "cell_type": "code",
   "execution_count": 9,
   "id": "d83477c7",
   "metadata": {},
   "outputs": [
    {
     "data": {
      "text/html": [
       "<div>\n",
       "<style scoped>\n",
       "    .dataframe tbody tr th:only-of-type {\n",
       "        vertical-align: middle;\n",
       "    }\n",
       "\n",
       "    .dataframe tbody tr th {\n",
       "        vertical-align: top;\n",
       "    }\n",
       "\n",
       "    .dataframe thead th {\n",
       "        text-align: right;\n",
       "    }\n",
       "</style>\n",
       "<table border=\"1\" class=\"dataframe\">\n",
       "  <thead>\n",
       "    <tr style=\"text-align: right;\">\n",
       "      <th></th>\n",
       "      <th>Unnamed: 0</th>\n",
       "      <th>Date</th>\n",
       "      <th>AveragePrice</th>\n",
       "      <th>Total Volume</th>\n",
       "      <th>4046</th>\n",
       "      <th>4225</th>\n",
       "      <th>4770</th>\n",
       "      <th>Total Bags</th>\n",
       "      <th>Small Bags</th>\n",
       "      <th>Large Bags</th>\n",
       "      <th>XLarge Bags</th>\n",
       "      <th>type</th>\n",
       "      <th>year</th>\n",
       "      <th>region</th>\n",
       "    </tr>\n",
       "  </thead>\n",
       "  <tbody>\n",
       "    <tr>\n",
       "      <th>0</th>\n",
       "      <td>False</td>\n",
       "      <td>False</td>\n",
       "      <td>False</td>\n",
       "      <td>False</td>\n",
       "      <td>False</td>\n",
       "      <td>False</td>\n",
       "      <td>False</td>\n",
       "      <td>False</td>\n",
       "      <td>False</td>\n",
       "      <td>False</td>\n",
       "      <td>False</td>\n",
       "      <td>False</td>\n",
       "      <td>False</td>\n",
       "      <td>False</td>\n",
       "    </tr>\n",
       "    <tr>\n",
       "      <th>1</th>\n",
       "      <td>False</td>\n",
       "      <td>False</td>\n",
       "      <td>False</td>\n",
       "      <td>False</td>\n",
       "      <td>False</td>\n",
       "      <td>False</td>\n",
       "      <td>False</td>\n",
       "      <td>False</td>\n",
       "      <td>False</td>\n",
       "      <td>False</td>\n",
       "      <td>False</td>\n",
       "      <td>False</td>\n",
       "      <td>False</td>\n",
       "      <td>False</td>\n",
       "    </tr>\n",
       "    <tr>\n",
       "      <th>2</th>\n",
       "      <td>False</td>\n",
       "      <td>False</td>\n",
       "      <td>False</td>\n",
       "      <td>False</td>\n",
       "      <td>False</td>\n",
       "      <td>False</td>\n",
       "      <td>False</td>\n",
       "      <td>False</td>\n",
       "      <td>False</td>\n",
       "      <td>False</td>\n",
       "      <td>False</td>\n",
       "      <td>False</td>\n",
       "      <td>False</td>\n",
       "      <td>False</td>\n",
       "    </tr>\n",
       "    <tr>\n",
       "      <th>3</th>\n",
       "      <td>False</td>\n",
       "      <td>False</td>\n",
       "      <td>False</td>\n",
       "      <td>False</td>\n",
       "      <td>False</td>\n",
       "      <td>False</td>\n",
       "      <td>False</td>\n",
       "      <td>False</td>\n",
       "      <td>False</td>\n",
       "      <td>False</td>\n",
       "      <td>False</td>\n",
       "      <td>False</td>\n",
       "      <td>False</td>\n",
       "      <td>False</td>\n",
       "    </tr>\n",
       "    <tr>\n",
       "      <th>4</th>\n",
       "      <td>False</td>\n",
       "      <td>False</td>\n",
       "      <td>False</td>\n",
       "      <td>False</td>\n",
       "      <td>False</td>\n",
       "      <td>False</td>\n",
       "      <td>False</td>\n",
       "      <td>False</td>\n",
       "      <td>False</td>\n",
       "      <td>False</td>\n",
       "      <td>False</td>\n",
       "      <td>False</td>\n",
       "      <td>False</td>\n",
       "      <td>False</td>\n",
       "    </tr>\n",
       "    <tr>\n",
       "      <th>...</th>\n",
       "      <td>...</td>\n",
       "      <td>...</td>\n",
       "      <td>...</td>\n",
       "      <td>...</td>\n",
       "      <td>...</td>\n",
       "      <td>...</td>\n",
       "      <td>...</td>\n",
       "      <td>...</td>\n",
       "      <td>...</td>\n",
       "      <td>...</td>\n",
       "      <td>...</td>\n",
       "      <td>...</td>\n",
       "      <td>...</td>\n",
       "      <td>...</td>\n",
       "    </tr>\n",
       "    <tr>\n",
       "      <th>18244</th>\n",
       "      <td>False</td>\n",
       "      <td>False</td>\n",
       "      <td>False</td>\n",
       "      <td>False</td>\n",
       "      <td>False</td>\n",
       "      <td>False</td>\n",
       "      <td>False</td>\n",
       "      <td>False</td>\n",
       "      <td>False</td>\n",
       "      <td>False</td>\n",
       "      <td>False</td>\n",
       "      <td>False</td>\n",
       "      <td>False</td>\n",
       "      <td>False</td>\n",
       "    </tr>\n",
       "    <tr>\n",
       "      <th>18245</th>\n",
       "      <td>False</td>\n",
       "      <td>False</td>\n",
       "      <td>False</td>\n",
       "      <td>False</td>\n",
       "      <td>False</td>\n",
       "      <td>False</td>\n",
       "      <td>False</td>\n",
       "      <td>False</td>\n",
       "      <td>False</td>\n",
       "      <td>False</td>\n",
       "      <td>False</td>\n",
       "      <td>False</td>\n",
       "      <td>False</td>\n",
       "      <td>False</td>\n",
       "    </tr>\n",
       "    <tr>\n",
       "      <th>18246</th>\n",
       "      <td>False</td>\n",
       "      <td>False</td>\n",
       "      <td>False</td>\n",
       "      <td>False</td>\n",
       "      <td>False</td>\n",
       "      <td>False</td>\n",
       "      <td>False</td>\n",
       "      <td>False</td>\n",
       "      <td>False</td>\n",
       "      <td>False</td>\n",
       "      <td>False</td>\n",
       "      <td>False</td>\n",
       "      <td>False</td>\n",
       "      <td>False</td>\n",
       "    </tr>\n",
       "    <tr>\n",
       "      <th>18247</th>\n",
       "      <td>False</td>\n",
       "      <td>False</td>\n",
       "      <td>False</td>\n",
       "      <td>False</td>\n",
       "      <td>False</td>\n",
       "      <td>False</td>\n",
       "      <td>False</td>\n",
       "      <td>False</td>\n",
       "      <td>False</td>\n",
       "      <td>False</td>\n",
       "      <td>False</td>\n",
       "      <td>False</td>\n",
       "      <td>False</td>\n",
       "      <td>False</td>\n",
       "    </tr>\n",
       "    <tr>\n",
       "      <th>18248</th>\n",
       "      <td>False</td>\n",
       "      <td>False</td>\n",
       "      <td>False</td>\n",
       "      <td>False</td>\n",
       "      <td>False</td>\n",
       "      <td>False</td>\n",
       "      <td>False</td>\n",
       "      <td>False</td>\n",
       "      <td>False</td>\n",
       "      <td>False</td>\n",
       "      <td>False</td>\n",
       "      <td>False</td>\n",
       "      <td>False</td>\n",
       "      <td>False</td>\n",
       "    </tr>\n",
       "  </tbody>\n",
       "</table>\n",
       "<p>18249 rows × 14 columns</p>\n",
       "</div>"
      ],
      "text/plain": [
       "       Unnamed: 0   Date  AveragePrice  Total Volume   4046   4225   4770  \\\n",
       "0           False  False         False         False  False  False  False   \n",
       "1           False  False         False         False  False  False  False   \n",
       "2           False  False         False         False  False  False  False   \n",
       "3           False  False         False         False  False  False  False   \n",
       "4           False  False         False         False  False  False  False   \n",
       "...           ...    ...           ...           ...    ...    ...    ...   \n",
       "18244       False  False         False         False  False  False  False   \n",
       "18245       False  False         False         False  False  False  False   \n",
       "18246       False  False         False         False  False  False  False   \n",
       "18247       False  False         False         False  False  False  False   \n",
       "18248       False  False         False         False  False  False  False   \n",
       "\n",
       "       Total Bags  Small Bags  Large Bags  XLarge Bags   type   year  region  \n",
       "0           False       False       False        False  False  False   False  \n",
       "1           False       False       False        False  False  False   False  \n",
       "2           False       False       False        False  False  False   False  \n",
       "3           False       False       False        False  False  False   False  \n",
       "4           False       False       False        False  False  False   False  \n",
       "...           ...         ...         ...          ...    ...    ...     ...  \n",
       "18244       False       False       False        False  False  False   False  \n",
       "18245       False       False       False        False  False  False   False  \n",
       "18246       False       False       False        False  False  False   False  \n",
       "18247       False       False       False        False  False  False   False  \n",
       "18248       False       False       False        False  False  False   False  \n",
       "\n",
       "[18249 rows x 14 columns]"
      ]
     },
     "execution_count": 9,
     "metadata": {},
     "output_type": "execute_result"
    }
   ],
   "source": [
    "#displaying boolean (T/F) for the values if it is null or not null\n",
    "df.isnull()"
   ]
  },
  {
   "cell_type": "code",
   "execution_count": 10,
   "id": "e60c8243",
   "metadata": {},
   "outputs": [
    {
     "data": {
      "text/plain": [
       "Unnamed: 0      0\n",
       "Date            0\n",
       "AveragePrice    0\n",
       "Total Volume    0\n",
       "4046            0\n",
       "4225            0\n",
       "4770            0\n",
       "Total Bags      0\n",
       "Small Bags      0\n",
       "Large Bags      0\n",
       "XLarge Bags     0\n",
       "type            0\n",
       "year            0\n",
       "region          0\n",
       "dtype: int64"
      ]
     },
     "execution_count": 10,
     "metadata": {},
     "output_type": "execute_result"
    }
   ],
   "source": [
    "#displaying the total number of Null Values available columnwise\n",
    "df.isnull().sum()"
   ]
  },
  {
   "cell_type": "code",
   "execution_count": 11,
   "id": "cf5a9bb6",
   "metadata": {},
   "outputs": [
    {
     "data": {
      "text/plain": [
       "0"
      ]
     },
     "execution_count": 11,
     "metadata": {},
     "output_type": "execute_result"
    }
   ],
   "source": [
    "#displaying the total number of Null Values available in the entire data frame\n",
    "df.isnull().sum().sum()"
   ]
  },
  {
   "cell_type": "markdown",
   "id": "a73751f3",
   "metadata": {},
   "source": [
    "Since there are no null values so we leave the null treatment process "
   ]
  },
  {
   "cell_type": "code",
   "execution_count": 12,
   "id": "f07e5b5c",
   "metadata": {},
   "outputs": [
    {
     "data": {
      "text/plain": [
       "Unnamed: 0        int64\n",
       "Date             object\n",
       "AveragePrice    float64\n",
       "Total Volume    float64\n",
       "4046            float64\n",
       "4225            float64\n",
       "4770            float64\n",
       "Total Bags      float64\n",
       "Small Bags      float64\n",
       "Large Bags      float64\n",
       "XLarge Bags     float64\n",
       "type             object\n",
       "year              int64\n",
       "region           object\n",
       "dtype: object"
      ]
     },
     "execution_count": 12,
     "metadata": {},
     "output_type": "execute_result"
    }
   ],
   "source": [
    "df.dtypes"
   ]
  },
  {
   "cell_type": "markdown",
   "id": "7c15a63b",
   "metadata": {},
   "source": [
    "- Features Date, type and region are object type that means they are string and need to be coverted in integer tyep data as the machine does not understand the string data\n",
    "\n",
    "- All other feature variables are int64 or float64\n",
    "\n",
    "- The target variable region (for classification) is string (Object) type\n",
    "\n",
    "- The target variable AveragePrice (for regression) is float64\n",
    "\n",
    "- Conclusion : Encoading for string (objet) feature is required"
   ]
  },
  {
   "cell_type": "code",
   "execution_count": 13,
   "id": "f0c3a195",
   "metadata": {},
   "outputs": [],
   "source": [
    "#renaming the unnammed columns\n",
    "df.rename(columns={'Unnamed: 0':'Sno'},inplace=True)"
   ]
  },
  {
   "cell_type": "markdown",
   "id": "ba35a545",
   "metadata": {},
   "source": [
    "#### Encoding of Data"
   ]
  },
  {
   "cell_type": "code",
   "execution_count": 15,
   "id": "e471f5f1",
   "metadata": {},
   "outputs": [
    {
     "data": {
      "text/html": [
       "<div>\n",
       "<style scoped>\n",
       "    .dataframe tbody tr th:only-of-type {\n",
       "        vertical-align: middle;\n",
       "    }\n",
       "\n",
       "    .dataframe tbody tr th {\n",
       "        vertical-align: top;\n",
       "    }\n",
       "\n",
       "    .dataframe thead th {\n",
       "        text-align: right;\n",
       "    }\n",
       "</style>\n",
       "<table border=\"1\" class=\"dataframe\">\n",
       "  <thead>\n",
       "    <tr style=\"text-align: right;\">\n",
       "      <th></th>\n",
       "      <th>Sno</th>\n",
       "      <th>Date</th>\n",
       "      <th>AveragePrice</th>\n",
       "      <th>Total Volume</th>\n",
       "      <th>4046</th>\n",
       "      <th>4225</th>\n",
       "      <th>4770</th>\n",
       "      <th>Total Bags</th>\n",
       "      <th>Small Bags</th>\n",
       "      <th>Large Bags</th>\n",
       "      <th>XLarge Bags</th>\n",
       "      <th>type</th>\n",
       "      <th>year</th>\n",
       "      <th>region</th>\n",
       "    </tr>\n",
       "  </thead>\n",
       "  <tbody>\n",
       "    <tr>\n",
       "      <th>0</th>\n",
       "      <td>0</td>\n",
       "      <td>51</td>\n",
       "      <td>1.33</td>\n",
       "      <td>64236.62</td>\n",
       "      <td>1036.74</td>\n",
       "      <td>54454.85</td>\n",
       "      <td>48.16</td>\n",
       "      <td>8696.87</td>\n",
       "      <td>8603.62</td>\n",
       "      <td>93.25</td>\n",
       "      <td>0.0</td>\n",
       "      <td>0</td>\n",
       "      <td>2015</td>\n",
       "      <td>0</td>\n",
       "    </tr>\n",
       "    <tr>\n",
       "      <th>1</th>\n",
       "      <td>1</td>\n",
       "      <td>50</td>\n",
       "      <td>1.35</td>\n",
       "      <td>54876.98</td>\n",
       "      <td>674.28</td>\n",
       "      <td>44638.81</td>\n",
       "      <td>58.33</td>\n",
       "      <td>9505.56</td>\n",
       "      <td>9408.07</td>\n",
       "      <td>97.49</td>\n",
       "      <td>0.0</td>\n",
       "      <td>0</td>\n",
       "      <td>2015</td>\n",
       "      <td>0</td>\n",
       "    </tr>\n",
       "    <tr>\n",
       "      <th>2</th>\n",
       "      <td>2</td>\n",
       "      <td>49</td>\n",
       "      <td>0.93</td>\n",
       "      <td>118220.22</td>\n",
       "      <td>794.70</td>\n",
       "      <td>109149.67</td>\n",
       "      <td>130.50</td>\n",
       "      <td>8145.35</td>\n",
       "      <td>8042.21</td>\n",
       "      <td>103.14</td>\n",
       "      <td>0.0</td>\n",
       "      <td>0</td>\n",
       "      <td>2015</td>\n",
       "      <td>0</td>\n",
       "    </tr>\n",
       "    <tr>\n",
       "      <th>3</th>\n",
       "      <td>3</td>\n",
       "      <td>48</td>\n",
       "      <td>1.08</td>\n",
       "      <td>78992.15</td>\n",
       "      <td>1132.00</td>\n",
       "      <td>71976.41</td>\n",
       "      <td>72.58</td>\n",
       "      <td>5811.16</td>\n",
       "      <td>5677.40</td>\n",
       "      <td>133.76</td>\n",
       "      <td>0.0</td>\n",
       "      <td>0</td>\n",
       "      <td>2015</td>\n",
       "      <td>0</td>\n",
       "    </tr>\n",
       "    <tr>\n",
       "      <th>4</th>\n",
       "      <td>4</td>\n",
       "      <td>47</td>\n",
       "      <td>1.28</td>\n",
       "      <td>51039.60</td>\n",
       "      <td>941.48</td>\n",
       "      <td>43838.39</td>\n",
       "      <td>75.78</td>\n",
       "      <td>6183.95</td>\n",
       "      <td>5986.26</td>\n",
       "      <td>197.69</td>\n",
       "      <td>0.0</td>\n",
       "      <td>0</td>\n",
       "      <td>2015</td>\n",
       "      <td>0</td>\n",
       "    </tr>\n",
       "    <tr>\n",
       "      <th>...</th>\n",
       "      <td>...</td>\n",
       "      <td>...</td>\n",
       "      <td>...</td>\n",
       "      <td>...</td>\n",
       "      <td>...</td>\n",
       "      <td>...</td>\n",
       "      <td>...</td>\n",
       "      <td>...</td>\n",
       "      <td>...</td>\n",
       "      <td>...</td>\n",
       "      <td>...</td>\n",
       "      <td>...</td>\n",
       "      <td>...</td>\n",
       "      <td>...</td>\n",
       "    </tr>\n",
       "    <tr>\n",
       "      <th>18244</th>\n",
       "      <td>7</td>\n",
       "      <td>161</td>\n",
       "      <td>1.63</td>\n",
       "      <td>17074.83</td>\n",
       "      <td>2046.96</td>\n",
       "      <td>1529.20</td>\n",
       "      <td>0.00</td>\n",
       "      <td>13498.67</td>\n",
       "      <td>13066.82</td>\n",
       "      <td>431.85</td>\n",
       "      <td>0.0</td>\n",
       "      <td>1</td>\n",
       "      <td>2018</td>\n",
       "      <td>53</td>\n",
       "    </tr>\n",
       "    <tr>\n",
       "      <th>18245</th>\n",
       "      <td>8</td>\n",
       "      <td>160</td>\n",
       "      <td>1.71</td>\n",
       "      <td>13888.04</td>\n",
       "      <td>1191.70</td>\n",
       "      <td>3431.50</td>\n",
       "      <td>0.00</td>\n",
       "      <td>9264.84</td>\n",
       "      <td>8940.04</td>\n",
       "      <td>324.80</td>\n",
       "      <td>0.0</td>\n",
       "      <td>1</td>\n",
       "      <td>2018</td>\n",
       "      <td>53</td>\n",
       "    </tr>\n",
       "    <tr>\n",
       "      <th>18246</th>\n",
       "      <td>9</td>\n",
       "      <td>159</td>\n",
       "      <td>1.87</td>\n",
       "      <td>13766.76</td>\n",
       "      <td>1191.92</td>\n",
       "      <td>2452.79</td>\n",
       "      <td>727.94</td>\n",
       "      <td>9394.11</td>\n",
       "      <td>9351.80</td>\n",
       "      <td>42.31</td>\n",
       "      <td>0.0</td>\n",
       "      <td>1</td>\n",
       "      <td>2018</td>\n",
       "      <td>53</td>\n",
       "    </tr>\n",
       "    <tr>\n",
       "      <th>18247</th>\n",
       "      <td>10</td>\n",
       "      <td>158</td>\n",
       "      <td>1.93</td>\n",
       "      <td>16205.22</td>\n",
       "      <td>1527.63</td>\n",
       "      <td>2981.04</td>\n",
       "      <td>727.01</td>\n",
       "      <td>10969.54</td>\n",
       "      <td>10919.54</td>\n",
       "      <td>50.00</td>\n",
       "      <td>0.0</td>\n",
       "      <td>1</td>\n",
       "      <td>2018</td>\n",
       "      <td>53</td>\n",
       "    </tr>\n",
       "    <tr>\n",
       "      <th>18248</th>\n",
       "      <td>11</td>\n",
       "      <td>157</td>\n",
       "      <td>1.62</td>\n",
       "      <td>17489.58</td>\n",
       "      <td>2894.77</td>\n",
       "      <td>2356.13</td>\n",
       "      <td>224.53</td>\n",
       "      <td>12014.15</td>\n",
       "      <td>11988.14</td>\n",
       "      <td>26.01</td>\n",
       "      <td>0.0</td>\n",
       "      <td>1</td>\n",
       "      <td>2018</td>\n",
       "      <td>53</td>\n",
       "    </tr>\n",
       "  </tbody>\n",
       "</table>\n",
       "<p>18249 rows × 14 columns</p>\n",
       "</div>"
      ],
      "text/plain": [
       "       Sno  Date  AveragePrice  Total Volume     4046       4225    4770  \\\n",
       "0        0    51          1.33      64236.62  1036.74   54454.85   48.16   \n",
       "1        1    50          1.35      54876.98   674.28   44638.81   58.33   \n",
       "2        2    49          0.93     118220.22   794.70  109149.67  130.50   \n",
       "3        3    48          1.08      78992.15  1132.00   71976.41   72.58   \n",
       "4        4    47          1.28      51039.60   941.48   43838.39   75.78   \n",
       "...    ...   ...           ...           ...      ...        ...     ...   \n",
       "18244    7   161          1.63      17074.83  2046.96    1529.20    0.00   \n",
       "18245    8   160          1.71      13888.04  1191.70    3431.50    0.00   \n",
       "18246    9   159          1.87      13766.76  1191.92    2452.79  727.94   \n",
       "18247   10   158          1.93      16205.22  1527.63    2981.04  727.01   \n",
       "18248   11   157          1.62      17489.58  2894.77    2356.13  224.53   \n",
       "\n",
       "       Total Bags  Small Bags  Large Bags  XLarge Bags  type  year  region  \n",
       "0         8696.87     8603.62       93.25          0.0     0  2015       0  \n",
       "1         9505.56     9408.07       97.49          0.0     0  2015       0  \n",
       "2         8145.35     8042.21      103.14          0.0     0  2015       0  \n",
       "3         5811.16     5677.40      133.76          0.0     0  2015       0  \n",
       "4         6183.95     5986.26      197.69          0.0     0  2015       0  \n",
       "...           ...         ...         ...          ...   ...   ...     ...  \n",
       "18244    13498.67    13066.82      431.85          0.0     1  2018      53  \n",
       "18245     9264.84     8940.04      324.80          0.0     1  2018      53  \n",
       "18246     9394.11     9351.80       42.31          0.0     1  2018      53  \n",
       "18247    10969.54    10919.54       50.00          0.0     1  2018      53  \n",
       "18248    12014.15    11988.14       26.01          0.0     1  2018      53  \n",
       "\n",
       "[18249 rows x 14 columns]"
      ]
     },
     "execution_count": 15,
     "metadata": {},
     "output_type": "execute_result"
    }
   ],
   "source": [
    "#getting the names of columns which are object type and int type in two different lists\n",
    "str_columns = []\n",
    "num_columns = []\n",
    "for i in df.columns:\n",
    "    if(df.dtypes[i]=='O'):\n",
    "        str_columns.append(i)\n",
    "    else:\n",
    "        num_columns.append(i)\n",
    "\n",
    "#Encode the categorical data in int format to be used by Machine Learning\n",
    "from sklearn.preprocessing import LabelEncoder\n",
    "le=LabelEncoder()\n",
    "\n",
    "for i in df.columns:\n",
    "    if(df.dtypes[i]=='O'):\n",
    "        df[i]=le.fit_transform(df[i])\n",
    "\n",
    "df"
   ]
  },
  {
   "cell_type": "code",
   "execution_count": 16,
   "id": "587c5b32",
   "metadata": {},
   "outputs": [
    {
     "data": {
      "text/plain": [
       "['Date', 'type', 'region']"
      ]
     },
     "execution_count": 16,
     "metadata": {},
     "output_type": "execute_result"
    }
   ],
   "source": [
    "#showing the list of columns which were string previously\n",
    "str_columns"
   ]
  },
  {
   "cell_type": "code",
   "execution_count": 17,
   "id": "5ed13aaa",
   "metadata": {},
   "outputs": [
    {
     "data": {
      "text/plain": [
       "['Sno',\n",
       " 'AveragePrice',\n",
       " 'Total Volume',\n",
       " '4046',\n",
       " '4225',\n",
       " '4770',\n",
       " 'Total Bags',\n",
       " 'Small Bags',\n",
       " 'Large Bags',\n",
       " 'XLarge Bags',\n",
       " 'year']"
      ]
     },
     "execution_count": 17,
     "metadata": {},
     "output_type": "execute_result"
    }
   ],
   "source": [
    "#showing the list of columns which int64 from beginning\n",
    "num_columns"
   ]
  },
  {
   "cell_type": "code",
   "execution_count": 18,
   "id": "423dccf7",
   "metadata": {},
   "outputs": [
    {
     "data": {
      "text/plain": [
       "str"
      ]
     },
     "execution_count": 18,
     "metadata": {},
     "output_type": "execute_result"
    }
   ],
   "source": [
    "#showing the type of column name\n",
    "type(str_columns[0])"
   ]
  },
  {
   "cell_type": "code",
   "execution_count": 19,
   "id": "93451628",
   "metadata": {},
   "outputs": [
    {
     "name": "stdout",
     "output_type": "stream",
     "text": [
      "Number of String Columns =  3 \n",
      " Number of Int64 columsn are = 11\n"
     ]
    }
   ],
   "source": [
    "print(\"Number of String Columns = \",len(str_columns),\"\\n Number of Int64 columsn are =\",len(num_columns))"
   ]
  },
  {
   "cell_type": "markdown",
   "id": "d91c8de0",
   "metadata": {},
   "source": [
    "- 118249 rows × 14 columns are in the data frame\n",
    "\n",
    "- Number of String Columns =  3 in data frame\n",
    "\n",
    "- Number of Int64 columsn are = 11 in data frame"
   ]
  },
  {
   "cell_type": "code",
   "execution_count": 20,
   "id": "36d11b06",
   "metadata": {},
   "outputs": [
    {
     "data": {
      "image/png": "[encoded data removed]",
      "text/plain": [
       "<Figure size 432x288 with 2 Axes>"
      ]
     },
     "metadata": {
      "needs_background": "light"
     },
     "output_type": "display_data"
    }
   ],
   "source": [
    "#Checking null values by showing it on heatmap, There is no null values in dataframe now\n",
    "import seaborn as sns\n",
    "import matplotlib.pyplot as plt\n",
    "sns.heatmap(df.isnull())\n",
    "plt.title(\"Null Values\")\n",
    "plt.show()"
   ]
  },
  {
   "cell_type": "markdown",
   "id": "0772fe7c",
   "metadata": {},
   "source": [
    "##### There are no null values in the data frame"
   ]
  },
  {
   "cell_type": "code",
   "execution_count": 21,
   "id": "e57f3f5a",
   "metadata": {},
   "outputs": [
    {
     "data": {
      "text/plain": [
       "array([ 0,  1,  2,  3,  4,  5,  6,  7,  8,  9, 10, 11, 12, 13, 14, 15, 16,\n",
       "       17, 18, 19, 20, 21, 22, 23, 24, 25, 26, 27, 28, 29, 30, 31, 32, 33,\n",
       "       34, 35, 36, 37, 38, 39, 40, 41, 42, 43, 44, 45, 46, 47, 48, 49, 50,\n",
       "       51, 52, 53])"
      ]
     },
     "execution_count": 21,
     "metadata": {},
     "output_type": "execute_result"
    }
   ],
   "source": [
    "#Showing region columns has which unique values \n",
    "df['region'].unique()"
   ]
  },
  {
   "cell_type": "code",
   "execution_count": 22,
   "id": "0955cdc6",
   "metadata": {},
   "outputs": [
    {
     "data": {
      "text/plain": [
       "54"
      ]
     },
     "execution_count": 22,
     "metadata": {},
     "output_type": "execute_result"
    }
   ],
   "source": [
    "#Showing region columns how many unique values \n",
    "df['region'].nunique()"
   ]
  },
  {
   "cell_type": "code",
   "execution_count": 23,
   "id": "e81e4802",
   "metadata": {},
   "outputs": [
    {
     "name": "stdout",
     "output_type": "stream",
     "text": [
      "Unique values in feature  Date  are =  [ 51  50  49  48  47  46  45  44  43  42  41  40  39  38  37  36  35  34\n",
      "  33  32  31  30  29  28  27  26  25  24  23  22  21  20  19  18  17  16\n",
      "  15  14  13  12  11  10   9   8   7   6   5   4   3   2   1   0 103 102\n",
      " 101 100  99  98  97  96  95  94  93  92  91  90  89  88  87  86  85  84\n",
      "  83  82  81  80  79  78  77  76  75  74  73  72  71  70  69  68  67  66\n",
      "  65  64  63  62  61  60  59  58  57  56  55  54  53  52 156 155 154 153\n",
      " 152 151 150 149 148 147 146 145 144 143 142 141 140 139 138 137 136 135\n",
      " 134 133 132 131 130 129 128 127 126 125 124 123 122 121 120 119 118 117\n",
      " 116 115 114 113 112 111 110 109 108 107 106 105 104 168 167 166 165 164\n",
      " 163 162 161 160 159 158 157]  and their count is = 169 \n",
      "\n",
      "Unique values in feature  type  are =  [0 1]  and their count is = 2 \n",
      "\n",
      "Unique values in feature  region  are =  [ 0  1  2  3  4  5  6  7  8  9 10 11 12 13 14 15 16 17 18 19 20 21 22 23\n",
      " 24 25 26 27 28 29 30 31 32 33 34 35 36 37 38 39 40 41 42 43 44 45 46 47\n",
      " 48 49 50 51 52 53]  and their count is = 54 \n",
      "\n"
     ]
    }
   ],
   "source": [
    "#Showing other categorical columns unique values and their counts \n",
    "for i in str_columns:\n",
    "    print(\"Unique values in feature \",i,\" are = \",df[i].unique(),\" and their count is =\", df[i].nunique(),\"\\n\")"
   ]
  },
  {
   "cell_type": "markdown",
   "id": "3a642805",
   "metadata": {},
   "source": [
    "My target variable region has 54 unique classes  and those are from 0 to 53"
   ]
  },
  {
   "cell_type": "markdown",
   "id": "bcf74500",
   "metadata": {},
   "source": [
    "# EDA \n",
    "Visualization of Data"
   ]
  },
  {
   "cell_type": "code",
   "execution_count": 24,
   "id": "374f8fc4",
   "metadata": {},
   "outputs": [],
   "source": [
    "#importing seaborn library as sns\n",
    "import seaborn as sns\n",
    "import matplotlib.pyplot as plt"
   ]
  },
  {
   "cell_type": "code",
   "execution_count": 25,
   "id": "29d546af",
   "metadata": {},
   "outputs": [
    {
     "name": "stderr",
     "output_type": "stream",
     "text": [
      "C:\\Users\\Hp\\anaconda3\\lib\\site-packages\\seaborn\\_decorators.py:36: FutureWarning: Pass the following variable as a keyword arg: x. From version 0.12, the only valid positional argument will be `data`, and passing other arguments without an explicit keyword will result in an error or misinterpretation.\n",
      "  warnings.warn(\n"
     ]
    },
    {
     "data": {
      "text/plain": [
       "<AxesSubplot:xlabel='region', ylabel='count'>"
      ]
     },
     "execution_count": 25,
     "metadata": {},
     "output_type": "execute_result"
    },
    {
     "data": {
      "image/png": "[encoded data removed]",
      "text/plain": [
       "<Figure size 432x288 with 1 Axes>"
      ]
     },
     "metadata": {
      "needs_background": "light"
     },
     "output_type": "display_data"
    }
   ],
   "source": [
    "#Showing counts of target feature\n",
    "sns.countplot(df['region'])"
   ]
  },
  {
   "cell_type": "markdown",
   "id": "27379920",
   "metadata": {},
   "source": [
    "- almost all region have smimilar count"
   ]
  },
  {
   "cell_type": "code",
   "execution_count": 26,
   "id": "c96ac6e2",
   "metadata": {},
   "outputs": [
    {
     "data": {
      "text/plain": [
       "0     338\n",
       "40    338\n",
       "29    338\n",
       "30    338\n",
       "31    338\n",
       "32    338\n",
       "33    338\n",
       "34    338\n",
       "35    338\n",
       "36    338\n",
       "37    338\n",
       "38    338\n",
       "39    338\n",
       "41    338\n",
       "1     338\n",
       "42    338\n",
       "43    338\n",
       "44    338\n",
       "45    338\n",
       "46    338\n",
       "47    338\n",
       "48    338\n",
       "49    338\n",
       "50    338\n",
       "51    338\n",
       "52    338\n",
       "28    338\n",
       "27    338\n",
       "26    338\n",
       "25    338\n",
       "2     338\n",
       "3     338\n",
       "4     338\n",
       "5     338\n",
       "6     338\n",
       "7     338\n",
       "8     338\n",
       "9     338\n",
       "10    338\n",
       "11    338\n",
       "12    338\n",
       "13    338\n",
       "14    338\n",
       "15    338\n",
       "16    338\n",
       "17    338\n",
       "18    338\n",
       "19    338\n",
       "20    338\n",
       "21    338\n",
       "22    338\n",
       "23    338\n",
       "24    338\n",
       "53    335\n",
       "Name: region, dtype: int64"
      ]
     },
     "execution_count": 26,
     "metadata": {},
     "output_type": "execute_result"
    },
    {
     "data": {
      "image/png": "[encoded data removed]",
      "text/plain": [
       "<Figure size 360x360 with 1 Axes>"
      ]
     },
     "metadata": {
      "needs_background": "light"
     },
     "output_type": "display_data"
    }
   ],
   "source": [
    "#showing frequency Attrition column\n",
    "sns.displot(x=df['region'],kde=True)\n",
    "df['region'].value_counts()"
   ]
  },
  {
   "cell_type": "markdown",
   "id": "01e6d871",
   "metadata": {},
   "source": [
    "##### The Target Variable region has 338 approximately for all classes\n",
    "##### There is a clear indication of class balance so no need to to anything with it"
   ]
  },
  {
   "cell_type": "code",
   "execution_count": 27,
   "id": "d882c562",
   "metadata": {},
   "outputs": [
    {
     "data": {
      "image/png": "[encoded data removed]",
      "text/plain": [
       "<Figure size 360x360 with 1 Axes>"
      ]
     },
     "metadata": {
      "needs_background": "light"
     },
     "output_type": "display_data"
    },
    {
     "data": {
      "image/png": "[encoded data removed]",
      "text/plain": [
       "<Figure size 360x360 with 1 Axes>"
      ]
     },
     "metadata": {
      "needs_background": "light"
     },
     "output_type": "display_data"
    },
    {
     "data": {
      "image/png": "[encoded data removed]",
      "text/plain": [
       "<Figure size 360x360 with 1 Axes>"
      ]
     },
     "metadata": {
      "needs_background": "light"
     },
     "output_type": "display_data"
    }
   ],
   "source": [
    "#showing frequency of categorical columns using displot\n",
    "for i in str_columns:\n",
    "    sns.displot(x=df[i],kde=True)\n",
    "    df[i].value_counts()"
   ]
  },
  {
   "cell_type": "markdown",
   "id": "b2a4483b",
   "metadata": {},
   "source": [
    "- Above displots shows the distribution of all categorical columns with the counts of all unique values"
   ]
  },
  {
   "cell_type": "code",
   "execution_count": 28,
   "id": "eec1e0da",
   "metadata": {},
   "outputs": [
    {
     "data": {
      "text/plain": [
       "<AxesSubplot:xlabel='region', ylabel='AveragePrice'>"
      ]
     },
     "execution_count": 28,
     "metadata": {},
     "output_type": "execute_result"
    },
    {
     "data": {
      "image/png": "[encoded data removed]",
      "text/plain": [
       "<Figure size 432x288 with 1 Axes>"
      ]
     },
     "metadata": {
      "needs_background": "light"
     },
     "output_type": "display_data"
    }
   ],
   "source": [
    "import pandas as pd\n",
    "import matplotlib.pyplot as plt\n",
    "\n",
    "#showing the presence of values of BusinessTravel with respect to Attrition feature\n",
    "df.plot(kind = 'scatter', x = 'region', y = 'AveragePrice')"
   ]
  },
  {
   "cell_type": "code",
   "execution_count": 29,
   "id": "56dfb9e6",
   "metadata": {},
   "outputs": [],
   "source": [
    "#Creating dataframe of string columns and numeric columns\n",
    "df_str=df.drop(columns=num_columns,axis=1)\n",
    "df_num=df.drop(columns=str_columns,axis=1)"
   ]
  },
  {
   "cell_type": "code",
   "execution_count": 30,
   "id": "fbb0ecfc",
   "metadata": {},
   "outputs": [
    {
     "data": {
      "text/html": [
       "<div>\n",
       "<style scoped>\n",
       "    .dataframe tbody tr th:only-of-type {\n",
       "        vertical-align: middle;\n",
       "    }\n",
       "\n",
       "    .dataframe tbody tr th {\n",
       "        vertical-align: top;\n",
       "    }\n",
       "\n",
       "    .dataframe thead th {\n",
       "        text-align: right;\n",
       "    }\n",
       "</style>\n",
       "<table border=\"1\" class=\"dataframe\">\n",
       "  <thead>\n",
       "    <tr style=\"text-align: right;\">\n",
       "      <th></th>\n",
       "      <th>Date</th>\n",
       "      <th>type</th>\n",
       "      <th>region</th>\n",
       "    </tr>\n",
       "  </thead>\n",
       "  <tbody>\n",
       "    <tr>\n",
       "      <th>0</th>\n",
       "      <td>51</td>\n",
       "      <td>0</td>\n",
       "      <td>0</td>\n",
       "    </tr>\n",
       "    <tr>\n",
       "      <th>1</th>\n",
       "      <td>50</td>\n",
       "      <td>0</td>\n",
       "      <td>0</td>\n",
       "    </tr>\n",
       "    <tr>\n",
       "      <th>2</th>\n",
       "      <td>49</td>\n",
       "      <td>0</td>\n",
       "      <td>0</td>\n",
       "    </tr>\n",
       "    <tr>\n",
       "      <th>3</th>\n",
       "      <td>48</td>\n",
       "      <td>0</td>\n",
       "      <td>0</td>\n",
       "    </tr>\n",
       "    <tr>\n",
       "      <th>4</th>\n",
       "      <td>47</td>\n",
       "      <td>0</td>\n",
       "      <td>0</td>\n",
       "    </tr>\n",
       "    <tr>\n",
       "      <th>...</th>\n",
       "      <td>...</td>\n",
       "      <td>...</td>\n",
       "      <td>...</td>\n",
       "    </tr>\n",
       "    <tr>\n",
       "      <th>18244</th>\n",
       "      <td>161</td>\n",
       "      <td>1</td>\n",
       "      <td>53</td>\n",
       "    </tr>\n",
       "    <tr>\n",
       "      <th>18245</th>\n",
       "      <td>160</td>\n",
       "      <td>1</td>\n",
       "      <td>53</td>\n",
       "    </tr>\n",
       "    <tr>\n",
       "      <th>18246</th>\n",
       "      <td>159</td>\n",
       "      <td>1</td>\n",
       "      <td>53</td>\n",
       "    </tr>\n",
       "    <tr>\n",
       "      <th>18247</th>\n",
       "      <td>158</td>\n",
       "      <td>1</td>\n",
       "      <td>53</td>\n",
       "    </tr>\n",
       "    <tr>\n",
       "      <th>18248</th>\n",
       "      <td>157</td>\n",
       "      <td>1</td>\n",
       "      <td>53</td>\n",
       "    </tr>\n",
       "  </tbody>\n",
       "</table>\n",
       "<p>18249 rows × 3 columns</p>\n",
       "</div>"
      ],
      "text/plain": [
       "       Date  type  region\n",
       "0        51     0       0\n",
       "1        50     0       0\n",
       "2        49     0       0\n",
       "3        48     0       0\n",
       "4        47     0       0\n",
       "...     ...   ...     ...\n",
       "18244   161     1      53\n",
       "18245   160     1      53\n",
       "18246   159     1      53\n",
       "18247   158     1      53\n",
       "18248   157     1      53\n",
       "\n",
       "[18249 rows x 3 columns]"
      ]
     },
     "execution_count": 30,
     "metadata": {},
     "output_type": "execute_result"
    }
   ],
   "source": [
    "df_str"
   ]
  },
  {
   "cell_type": "code",
   "execution_count": 31,
   "id": "4c2c98fd",
   "metadata": {},
   "outputs": [
    {
     "data": {
      "text/html": [
       "<div>\n",
       "<style scoped>\n",
       "    .dataframe tbody tr th:only-of-type {\n",
       "        vertical-align: middle;\n",
       "    }\n",
       "\n",
       "    .dataframe tbody tr th {\n",
       "        vertical-align: top;\n",
       "    }\n",
       "\n",
       "    .dataframe thead th {\n",
       "        text-align: right;\n",
       "    }\n",
       "</style>\n",
       "<table border=\"1\" class=\"dataframe\">\n",
       "  <thead>\n",
       "    <tr style=\"text-align: right;\">\n",
       "      <th></th>\n",
       "      <th>Sno</th>\n",
       "      <th>AveragePrice</th>\n",
       "      <th>Total Volume</th>\n",
       "      <th>4046</th>\n",
       "      <th>4225</th>\n",
       "      <th>4770</th>\n",
       "      <th>Total Bags</th>\n",
       "      <th>Small Bags</th>\n",
       "      <th>Large Bags</th>\n",
       "      <th>XLarge Bags</th>\n",
       "      <th>year</th>\n",
       "    </tr>\n",
       "  </thead>\n",
       "  <tbody>\n",
       "    <tr>\n",
       "      <th>0</th>\n",
       "      <td>0</td>\n",
       "      <td>1.33</td>\n",
       "      <td>64236.62</td>\n",
       "      <td>1036.74</td>\n",
       "      <td>54454.85</td>\n",
       "      <td>48.16</td>\n",
       "      <td>8696.87</td>\n",
       "      <td>8603.62</td>\n",
       "      <td>93.25</td>\n",
       "      <td>0.0</td>\n",
       "      <td>2015</td>\n",
       "    </tr>\n",
       "    <tr>\n",
       "      <th>1</th>\n",
       "      <td>1</td>\n",
       "      <td>1.35</td>\n",
       "      <td>54876.98</td>\n",
       "      <td>674.28</td>\n",
       "      <td>44638.81</td>\n",
       "      <td>58.33</td>\n",
       "      <td>9505.56</td>\n",
       "      <td>9408.07</td>\n",
       "      <td>97.49</td>\n",
       "      <td>0.0</td>\n",
       "      <td>2015</td>\n",
       "    </tr>\n",
       "    <tr>\n",
       "      <th>2</th>\n",
       "      <td>2</td>\n",
       "      <td>0.93</td>\n",
       "      <td>118220.22</td>\n",
       "      <td>794.70</td>\n",
       "      <td>109149.67</td>\n",
       "      <td>130.50</td>\n",
       "      <td>8145.35</td>\n",
       "      <td>8042.21</td>\n",
       "      <td>103.14</td>\n",
       "      <td>0.0</td>\n",
       "      <td>2015</td>\n",
       "    </tr>\n",
       "    <tr>\n",
       "      <th>3</th>\n",
       "      <td>3</td>\n",
       "      <td>1.08</td>\n",
       "      <td>78992.15</td>\n",
       "      <td>1132.00</td>\n",
       "      <td>71976.41</td>\n",
       "      <td>72.58</td>\n",
       "      <td>5811.16</td>\n",
       "      <td>5677.40</td>\n",
       "      <td>133.76</td>\n",
       "      <td>0.0</td>\n",
       "      <td>2015</td>\n",
       "    </tr>\n",
       "    <tr>\n",
       "      <th>4</th>\n",
       "      <td>4</td>\n",
       "      <td>1.28</td>\n",
       "      <td>51039.60</td>\n",
       "      <td>941.48</td>\n",
       "      <td>43838.39</td>\n",
       "      <td>75.78</td>\n",
       "      <td>6183.95</td>\n",
       "      <td>5986.26</td>\n",
       "      <td>197.69</td>\n",
       "      <td>0.0</td>\n",
       "      <td>2015</td>\n",
       "    </tr>\n",
       "    <tr>\n",
       "      <th>...</th>\n",
       "      <td>...</td>\n",
       "      <td>...</td>\n",
       "      <td>...</td>\n",
       "      <td>...</td>\n",
       "      <td>...</td>\n",
       "      <td>...</td>\n",
       "      <td>...</td>\n",
       "      <td>...</td>\n",
       "      <td>...</td>\n",
       "      <td>...</td>\n",
       "      <td>...</td>\n",
       "    </tr>\n",
       "    <tr>\n",
       "      <th>18244</th>\n",
       "      <td>7</td>\n",
       "      <td>1.63</td>\n",
       "      <td>17074.83</td>\n",
       "      <td>2046.96</td>\n",
       "      <td>1529.20</td>\n",
       "      <td>0.00</td>\n",
       "      <td>13498.67</td>\n",
       "      <td>13066.82</td>\n",
       "      <td>431.85</td>\n",
       "      <td>0.0</td>\n",
       "      <td>2018</td>\n",
       "    </tr>\n",
       "    <tr>\n",
       "      <th>18245</th>\n",
       "      <td>8</td>\n",
       "      <td>1.71</td>\n",
       "      <td>13888.04</td>\n",
       "      <td>1191.70</td>\n",
       "      <td>3431.50</td>\n",
       "      <td>0.00</td>\n",
       "      <td>9264.84</td>\n",
       "      <td>8940.04</td>\n",
       "      <td>324.80</td>\n",
       "      <td>0.0</td>\n",
       "      <td>2018</td>\n",
       "    </tr>\n",
       "    <tr>\n",
       "      <th>18246</th>\n",
       "      <td>9</td>\n",
       "      <td>1.87</td>\n",
       "      <td>13766.76</td>\n",
       "      <td>1191.92</td>\n",
       "      <td>2452.79</td>\n",
       "      <td>727.94</td>\n",
       "      <td>9394.11</td>\n",
       "      <td>9351.80</td>\n",
       "      <td>42.31</td>\n",
       "      <td>0.0</td>\n",
       "      <td>2018</td>\n",
       "    </tr>\n",
       "    <tr>\n",
       "      <th>18247</th>\n",
       "      <td>10</td>\n",
       "      <td>1.93</td>\n",
       "      <td>16205.22</td>\n",
       "      <td>1527.63</td>\n",
       "      <td>2981.04</td>\n",
       "      <td>727.01</td>\n",
       "      <td>10969.54</td>\n",
       "      <td>10919.54</td>\n",
       "      <td>50.00</td>\n",
       "      <td>0.0</td>\n",
       "      <td>2018</td>\n",
       "    </tr>\n",
       "    <tr>\n",
       "      <th>18248</th>\n",
       "      <td>11</td>\n",
       "      <td>1.62</td>\n",
       "      <td>17489.58</td>\n",
       "      <td>2894.77</td>\n",
       "      <td>2356.13</td>\n",
       "      <td>224.53</td>\n",
       "      <td>12014.15</td>\n",
       "      <td>11988.14</td>\n",
       "      <td>26.01</td>\n",
       "      <td>0.0</td>\n",
       "      <td>2018</td>\n",
       "    </tr>\n",
       "  </tbody>\n",
       "</table>\n",
       "<p>18249 rows × 11 columns</p>\n",
       "</div>"
      ],
      "text/plain": [
       "       Sno  AveragePrice  Total Volume     4046       4225    4770  \\\n",
       "0        0          1.33      64236.62  1036.74   54454.85   48.16   \n",
       "1        1          1.35      54876.98   674.28   44638.81   58.33   \n",
       "2        2          0.93     118220.22   794.70  109149.67  130.50   \n",
       "3        3          1.08      78992.15  1132.00   71976.41   72.58   \n",
       "4        4          1.28      51039.60   941.48   43838.39   75.78   \n",
       "...    ...           ...           ...      ...        ...     ...   \n",
       "18244    7          1.63      17074.83  2046.96    1529.20    0.00   \n",
       "18245    8          1.71      13888.04  1191.70    3431.50    0.00   \n",
       "18246    9          1.87      13766.76  1191.92    2452.79  727.94   \n",
       "18247   10          1.93      16205.22  1527.63    2981.04  727.01   \n",
       "18248   11          1.62      17489.58  2894.77    2356.13  224.53   \n",
       "\n",
       "       Total Bags  Small Bags  Large Bags  XLarge Bags  year  \n",
       "0         8696.87     8603.62       93.25          0.0  2015  \n",
       "1         9505.56     9408.07       97.49          0.0  2015  \n",
       "2         8145.35     8042.21      103.14          0.0  2015  \n",
       "3         5811.16     5677.40      133.76          0.0  2015  \n",
       "4         6183.95     5986.26      197.69          0.0  2015  \n",
       "...           ...         ...         ...          ...   ...  \n",
       "18244    13498.67    13066.82      431.85          0.0  2018  \n",
       "18245     9264.84     8940.04      324.80          0.0  2018  \n",
       "18246     9394.11     9351.80       42.31          0.0  2018  \n",
       "18247    10969.54    10919.54       50.00          0.0  2018  \n",
       "18248    12014.15    11988.14       26.01          0.0  2018  \n",
       "\n",
       "[18249 rows x 11 columns]"
      ]
     },
     "execution_count": 31,
     "metadata": {},
     "output_type": "execute_result"
    }
   ],
   "source": [
    "df_num"
   ]
  },
  {
   "cell_type": "code",
   "execution_count": 32,
   "id": "4b3b1d93",
   "metadata": {},
   "outputs": [
    {
     "data": {
      "image/png": "[encoded data removed]",
      "text/plain": [
       "<Figure size 1440x1152 with 30 Axes>"
      ]
     },
     "metadata": {
      "needs_background": "light"
     },
     "output_type": "display_data"
    }
   ],
   "source": [
    "#Showing the distribution of values of other columns of the data frame with respect to Attrition (Target) feature\n",
    "df_num.plot(kind='hist',subplots=True, layout=(5,6), sharex=False, legend=False, fontsize=1, figsize=(20,16),title=list(df_num.columns))\n",
    "\n",
    "plt.show()"
   ]
  },
  {
   "cell_type": "code",
   "execution_count": 33,
   "id": "69efe379",
   "metadata": {},
   "outputs": [
    {
     "data": {
      "image/png": "[encoded data removed]",
      "text/plain": [
       "<Figure size 432x288 with 1 Axes>"
      ]
     },
     "metadata": {
      "needs_background": "light"
     },
     "output_type": "display_data"
    }
   ],
   "source": [
    "#Showing the distribution of values of other columns of the data frame with respect to Attrition (Target) feature\n",
    "plt.scatter(x=df['region'],y=df['AveragePrice'])\n",
    "plt.xlabel='region'\n",
    "plt.ylabel='AveragePrice'\n",
    "plt.show()"
   ]
  },
  {
   "cell_type": "markdown",
   "id": "22dd390d",
   "metadata": {},
   "source": [
    "- Shows the where the values of age lies for Attrition , it is almost equal "
   ]
  },
  {
   "cell_type": "code",
   "execution_count": 34,
   "id": "fa47ca27",
   "metadata": {},
   "outputs": [
    {
     "data": {
      "image/png": "[encoded data removed]",
      "text/plain": [
       "<Figure size 360x360 with 1 Axes>"
      ]
     },
     "metadata": {
      "needs_background": "light"
     },
     "output_type": "display_data"
    },
    {
     "data": {
      "image/png": "[encoded data removed]",
      "text/plain": [
       "<Figure size 360x360 with 1 Axes>"
      ]
     },
     "metadata": {
      "needs_background": "light"
     },
     "output_type": "display_data"
    },
    {
     "data": {
      "image/png": "[encoded data removed]",
      "text/plain": [
       "<Figure size 360x360 with 1 Axes>"
      ]
     },
     "metadata": {
      "needs_background": "light"
     },
     "output_type": "display_data"
    },
    {
     "data": {
      "image/png": "[encoded data removed]",
      "text/plain": [
       "<Figure size 360x360 with 1 Axes>"
      ]
     },
     "metadata": {
      "needs_background": "light"
     },
     "output_type": "display_data"
    },
    {
     "data": {
      "image/png": "[encoded data removed]",
      "text/plain": [
       "<Figure size 360x360 with 1 Axes>"
      ]
     },
     "metadata": {
      "needs_background": "light"
     },
     "output_type": "display_data"
    },
    {
     "data": {
      "image/png": "[encoded data removed]",
      "text/plain": [
       "<Figure size 360x360 with 1 Axes>"
      ]
     },
     "metadata": {
      "needs_background": "light"
     },
     "output_type": "display_data"
    },
    {
     "data": {
      "image/png": "[encoded data removed]",
      "text/plain": [
       "<Figure size 360x360 with 1 Axes>"
      ]
     },
     "metadata": {
      "needs_background": "light"
     },
     "output_type": "display_data"
    },
    {
     "data": {
      "image/png": "[encoded data removed]",
      "text/plain": [
       "<Figure size 360x360 with 1 Axes>"
      ]
     },
     "metadata": {
      "needs_background": "light"
     },
     "output_type": "display_data"
    },
    {
     "data": {
      "image/png": "[encoded data removed]",
      "text/plain": [
       "<Figure size 360x360 with 1 Axes>"
      ]
     },
     "metadata": {
      "needs_background": "light"
     },
     "output_type": "display_data"
    },
    {
     "data": {
      "image/png": "[encoded data removed]",
      "text/plain": [
       "<Figure size 360x360 with 1 Axes>"
      ]
     },
     "metadata": {
      "needs_background": "light"
     },
     "output_type": "display_data"
    },
    {
     "data": {
      "image/png": "[encoded data removed]",
      "text/plain": [
       "<Figure size 360x360 with 1 Axes>"
      ]
     },
     "metadata": {
      "needs_background": "light"
     },
     "output_type": "display_data"
    }
   ],
   "source": [
    "#showing frequency of categorical columns using displot\n",
    "for i in num_columns:\n",
    "    sns.displot(x=df[i],kde=True)\n",
    "    df[i].value_counts()"
   ]
  },
  {
   "cell_type": "markdown",
   "id": "3442331c",
   "metadata": {},
   "source": [
    "- All numeric features are Skewed except averageprice"
   ]
  },
  {
   "cell_type": "code",
   "execution_count": 40,
   "id": "ded45c41",
   "metadata": {},
   "outputs": [],
   "source": [
    "#showing the pairplot for all the features in the data frame\n",
    "#sns.pairplot(data=df)"
   ]
  },
  {
   "cell_type": "code",
   "execution_count": 36,
   "id": "608ba900",
   "metadata": {},
   "outputs": [
    {
     "data": {
      "image/png": "[encoded data removed]",
      "text/plain": [
       "<Figure size 1440x1152 with 30 Axes>"
      ]
     },
     "metadata": {
      "needs_background": "light"
     },
     "output_type": "display_data"
    }
   ],
   "source": [
    "#showing box plots\n",
    "df_num.plot(kind='box', subplots=True, layout=(6,5), sharex=False, legend=False, fontsize=1, figsize=(20,16),title=list(df_num.columns))\n",
    "plt.show()"
   ]
  },
  {
   "cell_type": "markdown",
   "id": "aba98a80",
   "metadata": {},
   "source": [
    "- almost all features shows outliers"
   ]
  },
  {
   "cell_type": "code",
   "execution_count": 37,
   "id": "d7ef796d",
   "metadata": {},
   "outputs": [
    {
     "data": {
      "text/plain": [
       "AveragePrice   -0.011716\n",
       "Sno            -0.000489\n",
       "type           -0.000280\n",
       "Date           -0.000101\n",
       "year           -0.000055\n",
       "XLarge Bags     0.082281\n",
       "4770            0.095252\n",
       "4225            0.145726\n",
       "Small Bags      0.164702\n",
       "Total Volume    0.174176\n",
       "Total Bags      0.175256\n",
       "4046            0.192073\n",
       "Large Bags      0.198768\n",
       "region          1.000000\n",
       "Name: region, dtype: float64"
      ]
     },
     "execution_count": 37,
     "metadata": {},
     "output_type": "execute_result"
    }
   ],
   "source": [
    "#showing correlation of target feature with all other features \n",
    "df.corr()['region'].sort_values()"
   ]
  },
  {
   "cell_type": "markdown",
   "id": "e341c27a",
   "metadata": {},
   "source": [
    "- AveragePrice is highly negative correlated and LargeBags is highly positive correlated to region feature / target columns"
   ]
  },
  {
   "cell_type": "code",
   "execution_count": 38,
   "id": "0c164371",
   "metadata": {},
   "outputs": [
    {
     "data": {
      "text/plain": [
       "4046           -0.208317\n",
       "Total Volume   -0.192752\n",
       "4770           -0.179446\n",
       "Total Bags     -0.177088\n",
       "Small Bags     -0.174730\n",
       "Large Bags     -0.172940\n",
       "4225           -0.172928\n",
       "Sno            -0.133008\n",
       "XLarge Bags    -0.117592\n",
       "region         -0.011716\n",
       "year            0.093197\n",
       "Date            0.145514\n",
       "type            0.615845\n",
       "AveragePrice    1.000000\n",
       "Name: AveragePrice, dtype: float64"
      ]
     },
     "execution_count": 38,
     "metadata": {},
     "output_type": "execute_result"
    }
   ],
   "source": [
    "#showing correlation of target feature with all other features \n",
    "df.corr()['AveragePrice'].sort_values()"
   ]
  },
  {
   "cell_type": "markdown",
   "id": "521a8ece",
   "metadata": {},
   "source": [
    "- 4046 is highly negative correlated and type is highly positive correlated to averageprice feature / target columns\n",
    "\n",
    "- Almost all features are contribution to our regression target so we can not drop any feature even though they are not correlated to classification target"
   ]
  },
  {
   "cell_type": "code",
   "execution_count": 39,
   "id": "f286a83f",
   "metadata": {},
   "outputs": [
    {
     "data": {
      "image/png": "[encoded data removed]",
      "text/plain": [
       "<Figure size 2160x1440 with 2 Axes>"
      ]
     },
     "metadata": {
      "needs_background": "light"
     },
     "output_type": "display_data"
    }
   ],
   "source": [
    "plt.figure(figsize=(30,20))\n",
    "sns.heatmap(df.corr(),annot=True)\n",
    "plt.show()"
   ]
  },
  {
   "cell_type": "markdown",
   "id": "90575f3a",
   "metadata": {},
   "source": [
    "- AveragePrice is highly negative correlated and LargeBags is highly positive correlated to region feature / target columns"
   ]
  },
  {
   "cell_type": "markdown",
   "id": "0155d273",
   "metadata": {},
   "source": [
    "#### Describe the Dataset"
   ]
  },
  {
   "cell_type": "code",
   "execution_count": 41,
   "id": "f9b4bd98",
   "metadata": {},
   "outputs": [
    {
     "data": {
      "text/html": [
       "<div>\n",
       "<style scoped>\n",
       "    .dataframe tbody tr th:only-of-type {\n",
       "        vertical-align: middle;\n",
       "    }\n",
       "\n",
       "    .dataframe tbody tr th {\n",
       "        vertical-align: top;\n",
       "    }\n",
       "\n",
       "    .dataframe thead th {\n",
       "        text-align: right;\n",
       "    }\n",
       "</style>\n",
       "<table border=\"1\" class=\"dataframe\">\n",
       "  <thead>\n",
       "    <tr style=\"text-align: right;\">\n",
       "      <th></th>\n",
       "      <th>count</th>\n",
       "      <th>mean</th>\n",
       "      <th>std</th>\n",
       "      <th>min</th>\n",
       "      <th>25%</th>\n",
       "      <th>50%</th>\n",
       "      <th>75%</th>\n",
       "      <th>max</th>\n",
       "    </tr>\n",
       "  </thead>\n",
       "  <tbody>\n",
       "    <tr>\n",
       "      <th>Sno</th>\n",
       "      <td>18249.0</td>\n",
       "      <td>24.232232</td>\n",
       "      <td>1.548104e+01</td>\n",
       "      <td>0.00</td>\n",
       "      <td>10.00</td>\n",
       "      <td>24.00</td>\n",
       "      <td>38.00</td>\n",
       "      <td>52.00</td>\n",
       "    </tr>\n",
       "    <tr>\n",
       "      <th>AveragePrice</th>\n",
       "      <td>18249.0</td>\n",
       "      <td>1.405978</td>\n",
       "      <td>4.026766e-01</td>\n",
       "      <td>0.44</td>\n",
       "      <td>1.10</td>\n",
       "      <td>1.37</td>\n",
       "      <td>1.66</td>\n",
       "      <td>3.25</td>\n",
       "    </tr>\n",
       "    <tr>\n",
       "      <th>Total Volume</th>\n",
       "      <td>18249.0</td>\n",
       "      <td>850644.013009</td>\n",
       "      <td>3.453545e+06</td>\n",
       "      <td>84.56</td>\n",
       "      <td>10838.58</td>\n",
       "      <td>107376.76</td>\n",
       "      <td>432962.29</td>\n",
       "      <td>62505646.52</td>\n",
       "    </tr>\n",
       "    <tr>\n",
       "      <th>4046</th>\n",
       "      <td>18249.0</td>\n",
       "      <td>293008.424531</td>\n",
       "      <td>1.264989e+06</td>\n",
       "      <td>0.00</td>\n",
       "      <td>854.07</td>\n",
       "      <td>8645.30</td>\n",
       "      <td>111020.20</td>\n",
       "      <td>22743616.17</td>\n",
       "    </tr>\n",
       "    <tr>\n",
       "      <th>4225</th>\n",
       "      <td>18249.0</td>\n",
       "      <td>295154.568356</td>\n",
       "      <td>1.204120e+06</td>\n",
       "      <td>0.00</td>\n",
       "      <td>3008.78</td>\n",
       "      <td>29061.02</td>\n",
       "      <td>150206.86</td>\n",
       "      <td>20470572.61</td>\n",
       "    </tr>\n",
       "    <tr>\n",
       "      <th>4770</th>\n",
       "      <td>18249.0</td>\n",
       "      <td>22839.735993</td>\n",
       "      <td>1.074641e+05</td>\n",
       "      <td>0.00</td>\n",
       "      <td>0.00</td>\n",
       "      <td>184.99</td>\n",
       "      <td>6243.42</td>\n",
       "      <td>2546439.11</td>\n",
       "    </tr>\n",
       "    <tr>\n",
       "      <th>Total Bags</th>\n",
       "      <td>18249.0</td>\n",
       "      <td>239639.202060</td>\n",
       "      <td>9.862424e+05</td>\n",
       "      <td>0.00</td>\n",
       "      <td>5088.64</td>\n",
       "      <td>39743.83</td>\n",
       "      <td>110783.37</td>\n",
       "      <td>19373134.37</td>\n",
       "    </tr>\n",
       "    <tr>\n",
       "      <th>Small Bags</th>\n",
       "      <td>18249.0</td>\n",
       "      <td>182194.686696</td>\n",
       "      <td>7.461785e+05</td>\n",
       "      <td>0.00</td>\n",
       "      <td>2849.42</td>\n",
       "      <td>26362.82</td>\n",
       "      <td>83337.67</td>\n",
       "      <td>13384586.80</td>\n",
       "    </tr>\n",
       "    <tr>\n",
       "      <th>Large Bags</th>\n",
       "      <td>18249.0</td>\n",
       "      <td>54338.088145</td>\n",
       "      <td>2.439660e+05</td>\n",
       "      <td>0.00</td>\n",
       "      <td>127.47</td>\n",
       "      <td>2647.71</td>\n",
       "      <td>22029.25</td>\n",
       "      <td>5719096.61</td>\n",
       "    </tr>\n",
       "    <tr>\n",
       "      <th>XLarge Bags</th>\n",
       "      <td>18249.0</td>\n",
       "      <td>3106.426507</td>\n",
       "      <td>1.769289e+04</td>\n",
       "      <td>0.00</td>\n",
       "      <td>0.00</td>\n",
       "      <td>0.00</td>\n",
       "      <td>132.50</td>\n",
       "      <td>551693.65</td>\n",
       "    </tr>\n",
       "    <tr>\n",
       "      <th>year</th>\n",
       "      <td>18249.0</td>\n",
       "      <td>2016.147899</td>\n",
       "      <td>9.399385e-01</td>\n",
       "      <td>2015.00</td>\n",
       "      <td>2015.00</td>\n",
       "      <td>2016.00</td>\n",
       "      <td>2017.00</td>\n",
       "      <td>2018.00</td>\n",
       "    </tr>\n",
       "  </tbody>\n",
       "</table>\n",
       "</div>"
      ],
      "text/plain": [
       "                count           mean           std      min       25%  \\\n",
       "Sno           18249.0      24.232232  1.548104e+01     0.00     10.00   \n",
       "AveragePrice  18249.0       1.405978  4.026766e-01     0.44      1.10   \n",
       "Total Volume  18249.0  850644.013009  3.453545e+06    84.56  10838.58   \n",
       "4046          18249.0  293008.424531  1.264989e+06     0.00    854.07   \n",
       "4225          18249.0  295154.568356  1.204120e+06     0.00   3008.78   \n",
       "4770          18249.0   22839.735993  1.074641e+05     0.00      0.00   \n",
       "Total Bags    18249.0  239639.202060  9.862424e+05     0.00   5088.64   \n",
       "Small Bags    18249.0  182194.686696  7.461785e+05     0.00   2849.42   \n",
       "Large Bags    18249.0   54338.088145  2.439660e+05     0.00    127.47   \n",
       "XLarge Bags   18249.0    3106.426507  1.769289e+04     0.00      0.00   \n",
       "year          18249.0    2016.147899  9.399385e-01  2015.00   2015.00   \n",
       "\n",
       "                    50%        75%          max  \n",
       "Sno               24.00      38.00        52.00  \n",
       "AveragePrice       1.37       1.66         3.25  \n",
       "Total Volume  107376.76  432962.29  62505646.52  \n",
       "4046            8645.30  111020.20  22743616.17  \n",
       "4225           29061.02  150206.86  20470572.61  \n",
       "4770             184.99    6243.42   2546439.11  \n",
       "Total Bags     39743.83  110783.37  19373134.37  \n",
       "Small Bags     26362.82   83337.67  13384586.80  \n",
       "Large Bags      2647.71   22029.25   5719096.61  \n",
       "XLarge Bags        0.00     132.50    551693.65  \n",
       "year            2016.00    2017.00      2018.00  "
      ]
     },
     "execution_count": 41,
     "metadata": {},
     "output_type": "execute_result"
    }
   ],
   "source": [
    "#Describing the data and showing it in transpose manner\n",
    "df_num.describe().T"
   ]
  },
  {
   "cell_type": "code",
   "execution_count": 42,
   "id": "ec4f8db7",
   "metadata": {},
   "outputs": [
    {
     "data": {
      "text/html": [
       "<div>\n",
       "<style scoped>\n",
       "    .dataframe tbody tr th:only-of-type {\n",
       "        vertical-align: middle;\n",
       "    }\n",
       "\n",
       "    .dataframe tbody tr th {\n",
       "        vertical-align: top;\n",
       "    }\n",
       "\n",
       "    .dataframe thead th {\n",
       "        text-align: right;\n",
       "    }\n",
       "</style>\n",
       "<table border=\"1\" class=\"dataframe\">\n",
       "  <thead>\n",
       "    <tr style=\"text-align: right;\">\n",
       "      <th></th>\n",
       "      <th>MEAN</th>\n",
       "      <th>MEDIAN</th>\n",
       "    </tr>\n",
       "  </thead>\n",
       "  <tbody>\n",
       "    <tr>\n",
       "      <th>Sno</th>\n",
       "      <td>24.232232</td>\n",
       "      <td>24.00</td>\n",
       "    </tr>\n",
       "    <tr>\n",
       "      <th>AveragePrice</th>\n",
       "      <td>1.405978</td>\n",
       "      <td>1.37</td>\n",
       "    </tr>\n",
       "    <tr>\n",
       "      <th>Total Volume</th>\n",
       "      <td>850644.013009</td>\n",
       "      <td>107376.76</td>\n",
       "    </tr>\n",
       "    <tr>\n",
       "      <th>4046</th>\n",
       "      <td>293008.424531</td>\n",
       "      <td>8645.30</td>\n",
       "    </tr>\n",
       "    <tr>\n",
       "      <th>4225</th>\n",
       "      <td>295154.568356</td>\n",
       "      <td>29061.02</td>\n",
       "    </tr>\n",
       "    <tr>\n",
       "      <th>4770</th>\n",
       "      <td>22839.735993</td>\n",
       "      <td>184.99</td>\n",
       "    </tr>\n",
       "    <tr>\n",
       "      <th>Total Bags</th>\n",
       "      <td>239639.202060</td>\n",
       "      <td>39743.83</td>\n",
       "    </tr>\n",
       "    <tr>\n",
       "      <th>Small Bags</th>\n",
       "      <td>182194.686696</td>\n",
       "      <td>26362.82</td>\n",
       "    </tr>\n",
       "    <tr>\n",
       "      <th>Large Bags</th>\n",
       "      <td>54338.088145</td>\n",
       "      <td>2647.71</td>\n",
       "    </tr>\n",
       "    <tr>\n",
       "      <th>XLarge Bags</th>\n",
       "      <td>3106.426507</td>\n",
       "      <td>0.00</td>\n",
       "    </tr>\n",
       "    <tr>\n",
       "      <th>year</th>\n",
       "      <td>2016.147899</td>\n",
       "      <td>2016.00</td>\n",
       "    </tr>\n",
       "  </tbody>\n",
       "</table>\n",
       "</div>"
      ],
      "text/plain": [
       "                       MEAN     MEDIAN\n",
       "Sno               24.232232      24.00\n",
       "AveragePrice       1.405978       1.37\n",
       "Total Volume  850644.013009  107376.76\n",
       "4046          293008.424531    8645.30\n",
       "4225          295154.568356   29061.02\n",
       "4770           22839.735993     184.99\n",
       "Total Bags    239639.202060   39743.83\n",
       "Small Bags    182194.686696   26362.82\n",
       "Large Bags     54338.088145    2647.71\n",
       "XLarge Bags     3106.426507       0.00\n",
       "year            2016.147899    2016.00"
      ]
     },
     "execution_count": 42,
     "metadata": {},
     "output_type": "execute_result"
    }
   ],
   "source": [
    "#showing important columns of the describe \n",
    "df_desc=df_num.describe().T\n",
    "df_desc=pd.DataFrame(df_desc,columns=['mean','50%'])\n",
    "df_desc.rename(columns={'mean': 'MEAN','50%':'MEDIAN'},inplace=True)  \n",
    "df_desc"
   ]
  },
  {
   "cell_type": "markdown",
   "id": "8ebde674",
   "metadata": {},
   "source": [
    "##### The Mean and median of the columns are as above"
   ]
  },
  {
   "cell_type": "code",
   "execution_count": 43,
   "id": "df863924",
   "metadata": {},
   "outputs": [
    {
     "data": {
      "text/plain": [
       "<AxesSubplot:>"
      ]
     },
     "execution_count": 43,
     "metadata": {},
     "output_type": "execute_result"
    },
    {
     "data": {
      "image/png": "[encoded data removed]",
      "text/plain": [
       "<Figure size 1584x504 with 2 Axes>"
      ]
     },
     "metadata": {
      "needs_background": "light"
     },
     "output_type": "display_data"
    }
   ],
   "source": [
    "#showing the describe values in heatmap\n",
    "import matplotlib.pyplot as plt\n",
    "plt.figure(figsize=(22, 7))\n",
    "sns.heatmap(df.describe().T,annot=True,linewidth=0.1,linecolor=\"black\",fmt=\"0.2f\")"
   ]
  },
  {
   "cell_type": "markdown",
   "id": "9ddac8a5",
   "metadata": {},
   "source": [
    "#### Correlation of columns with target column"
   ]
  },
  {
   "cell_type": "markdown",
   "id": "19daa65b",
   "metadata": {},
   "source": [
    "#### Checking Outliers"
   ]
  },
  {
   "cell_type": "markdown",
   "id": "7945b43c",
   "metadata": {},
   "source": [
    "Outliers present as per box plot , plotted above"
   ]
  },
  {
   "cell_type": "code",
   "execution_count": 44,
   "id": "d582ed3d",
   "metadata": {},
   "outputs": [],
   "source": [
    "#Declaring variables \n",
    "collist=df_num.columns.values\n",
    "ncol=20\n",
    "nrow=10"
   ]
  },
  {
   "cell_type": "code",
   "execution_count": 45,
   "id": "511d4fce",
   "metadata": {},
   "outputs": [
    {
     "data": {
      "image/png": "[encoded data removed]",
      "text/plain": [
       "<Figure size 1440x4320 with 11 Axes>"
      ]
     },
     "metadata": {
      "needs_background": "light"
     },
     "output_type": "display_data"
    }
   ],
   "source": [
    "plt.figure(figsize=(ncol,3*ncol))\n",
    "for i in range(0,len(collist)):\n",
    "    plt.subplot(nrow,ncol,i+1)\n",
    "    sns.boxplot(data=df_num[collist[i]],color='blue',orient='v')\n",
    "    plt.tight_layout()"
   ]
  },
  {
   "cell_type": "markdown",
   "id": "5409d4d6",
   "metadata": {},
   "source": [
    "Outliers are present in almost all the features of the dataset"
   ]
  },
  {
   "cell_type": "markdown",
   "id": "7b5a0a7c",
   "metadata": {},
   "source": [
    "#### Checking outliers with zscore and removing these"
   ]
  },
  {
   "cell_type": "code",
   "execution_count": 46,
   "id": "39f61284",
   "metadata": {},
   "outputs": [
    {
     "data": {
      "text/plain": [
       "(array([  346,   359,   780, ..., 17304, 17402, 17428], dtype=int64),\n",
       " array([ 4,  4, 10, ...,  2,  2,  2], dtype=int64))"
      ]
     },
     "execution_count": 46,
     "metadata": {},
     "output_type": "execute_result"
    }
   ],
   "source": [
    "from scipy.stats import zscore\n",
    "import numpy as np\n",
    "z=np.abs(zscore(df))\n",
    "np.where(z>3)"
   ]
  },
  {
   "cell_type": "code",
   "execution_count": 47,
   "id": "5c31dcc6",
   "metadata": {},
   "outputs": [
    {
     "data": {
      "text/html": [
       "<div>\n",
       "<style scoped>\n",
       "    .dataframe tbody tr th:only-of-type {\n",
       "        vertical-align: middle;\n",
       "    }\n",
       "\n",
       "    .dataframe tbody tr th {\n",
       "        vertical-align: top;\n",
       "    }\n",
       "\n",
       "    .dataframe thead th {\n",
       "        text-align: right;\n",
       "    }\n",
       "</style>\n",
       "<table border=\"1\" class=\"dataframe\">\n",
       "  <thead>\n",
       "    <tr style=\"text-align: right;\">\n",
       "      <th></th>\n",
       "      <th>Sno</th>\n",
       "      <th>Date</th>\n",
       "      <th>AveragePrice</th>\n",
       "      <th>Total Volume</th>\n",
       "      <th>4046</th>\n",
       "      <th>4225</th>\n",
       "      <th>4770</th>\n",
       "      <th>Total Bags</th>\n",
       "      <th>Small Bags</th>\n",
       "      <th>Large Bags</th>\n",
       "      <th>XLarge Bags</th>\n",
       "      <th>type</th>\n",
       "      <th>year</th>\n",
       "      <th>region</th>\n",
       "    </tr>\n",
       "  </thead>\n",
       "  <tbody>\n",
       "    <tr>\n",
       "      <th>0</th>\n",
       "      <td>0</td>\n",
       "      <td>51</td>\n",
       "      <td>1.33</td>\n",
       "      <td>64236.62</td>\n",
       "      <td>1036.74</td>\n",
       "      <td>54454.85</td>\n",
       "      <td>48.16</td>\n",
       "      <td>8696.87</td>\n",
       "      <td>8603.62</td>\n",
       "      <td>93.25</td>\n",
       "      <td>0.0</td>\n",
       "      <td>0</td>\n",
       "      <td>2015</td>\n",
       "      <td>0</td>\n",
       "    </tr>\n",
       "    <tr>\n",
       "      <th>1</th>\n",
       "      <td>1</td>\n",
       "      <td>50</td>\n",
       "      <td>1.35</td>\n",
       "      <td>54876.98</td>\n",
       "      <td>674.28</td>\n",
       "      <td>44638.81</td>\n",
       "      <td>58.33</td>\n",
       "      <td>9505.56</td>\n",
       "      <td>9408.07</td>\n",
       "      <td>97.49</td>\n",
       "      <td>0.0</td>\n",
       "      <td>0</td>\n",
       "      <td>2015</td>\n",
       "      <td>0</td>\n",
       "    </tr>\n",
       "    <tr>\n",
       "      <th>2</th>\n",
       "      <td>2</td>\n",
       "      <td>49</td>\n",
       "      <td>0.93</td>\n",
       "      <td>118220.22</td>\n",
       "      <td>794.70</td>\n",
       "      <td>109149.67</td>\n",
       "      <td>130.50</td>\n",
       "      <td>8145.35</td>\n",
       "      <td>8042.21</td>\n",
       "      <td>103.14</td>\n",
       "      <td>0.0</td>\n",
       "      <td>0</td>\n",
       "      <td>2015</td>\n",
       "      <td>0</td>\n",
       "    </tr>\n",
       "    <tr>\n",
       "      <th>3</th>\n",
       "      <td>3</td>\n",
       "      <td>48</td>\n",
       "      <td>1.08</td>\n",
       "      <td>78992.15</td>\n",
       "      <td>1132.00</td>\n",
       "      <td>71976.41</td>\n",
       "      <td>72.58</td>\n",
       "      <td>5811.16</td>\n",
       "      <td>5677.40</td>\n",
       "      <td>133.76</td>\n",
       "      <td>0.0</td>\n",
       "      <td>0</td>\n",
       "      <td>2015</td>\n",
       "      <td>0</td>\n",
       "    </tr>\n",
       "    <tr>\n",
       "      <th>4</th>\n",
       "      <td>4</td>\n",
       "      <td>47</td>\n",
       "      <td>1.28</td>\n",
       "      <td>51039.60</td>\n",
       "      <td>941.48</td>\n",
       "      <td>43838.39</td>\n",
       "      <td>75.78</td>\n",
       "      <td>6183.95</td>\n",
       "      <td>5986.26</td>\n",
       "      <td>197.69</td>\n",
       "      <td>0.0</td>\n",
       "      <td>0</td>\n",
       "      <td>2015</td>\n",
       "      <td>0</td>\n",
       "    </tr>\n",
       "    <tr>\n",
       "      <th>...</th>\n",
       "      <td>...</td>\n",
       "      <td>...</td>\n",
       "      <td>...</td>\n",
       "      <td>...</td>\n",
       "      <td>...</td>\n",
       "      <td>...</td>\n",
       "      <td>...</td>\n",
       "      <td>...</td>\n",
       "      <td>...</td>\n",
       "      <td>...</td>\n",
       "      <td>...</td>\n",
       "      <td>...</td>\n",
       "      <td>...</td>\n",
       "      <td>...</td>\n",
       "    </tr>\n",
       "    <tr>\n",
       "      <th>18244</th>\n",
       "      <td>7</td>\n",
       "      <td>161</td>\n",
       "      <td>1.63</td>\n",
       "      <td>17074.83</td>\n",
       "      <td>2046.96</td>\n",
       "      <td>1529.20</td>\n",
       "      <td>0.00</td>\n",
       "      <td>13498.67</td>\n",
       "      <td>13066.82</td>\n",
       "      <td>431.85</td>\n",
       "      <td>0.0</td>\n",
       "      <td>1</td>\n",
       "      <td>2018</td>\n",
       "      <td>53</td>\n",
       "    </tr>\n",
       "    <tr>\n",
       "      <th>18245</th>\n",
       "      <td>8</td>\n",
       "      <td>160</td>\n",
       "      <td>1.71</td>\n",
       "      <td>13888.04</td>\n",
       "      <td>1191.70</td>\n",
       "      <td>3431.50</td>\n",
       "      <td>0.00</td>\n",
       "      <td>9264.84</td>\n",
       "      <td>8940.04</td>\n",
       "      <td>324.80</td>\n",
       "      <td>0.0</td>\n",
       "      <td>1</td>\n",
       "      <td>2018</td>\n",
       "      <td>53</td>\n",
       "    </tr>\n",
       "    <tr>\n",
       "      <th>18246</th>\n",
       "      <td>9</td>\n",
       "      <td>159</td>\n",
       "      <td>1.87</td>\n",
       "      <td>13766.76</td>\n",
       "      <td>1191.92</td>\n",
       "      <td>2452.79</td>\n",
       "      <td>727.94</td>\n",
       "      <td>9394.11</td>\n",
       "      <td>9351.80</td>\n",
       "      <td>42.31</td>\n",
       "      <td>0.0</td>\n",
       "      <td>1</td>\n",
       "      <td>2018</td>\n",
       "      <td>53</td>\n",
       "    </tr>\n",
       "    <tr>\n",
       "      <th>18247</th>\n",
       "      <td>10</td>\n",
       "      <td>158</td>\n",
       "      <td>1.93</td>\n",
       "      <td>16205.22</td>\n",
       "      <td>1527.63</td>\n",
       "      <td>2981.04</td>\n",
       "      <td>727.01</td>\n",
       "      <td>10969.54</td>\n",
       "      <td>10919.54</td>\n",
       "      <td>50.00</td>\n",
       "      <td>0.0</td>\n",
       "      <td>1</td>\n",
       "      <td>2018</td>\n",
       "      <td>53</td>\n",
       "    </tr>\n",
       "    <tr>\n",
       "      <th>18248</th>\n",
       "      <td>11</td>\n",
       "      <td>157</td>\n",
       "      <td>1.62</td>\n",
       "      <td>17489.58</td>\n",
       "      <td>2894.77</td>\n",
       "      <td>2356.13</td>\n",
       "      <td>224.53</td>\n",
       "      <td>12014.15</td>\n",
       "      <td>11988.14</td>\n",
       "      <td>26.01</td>\n",
       "      <td>0.0</td>\n",
       "      <td>1</td>\n",
       "      <td>2018</td>\n",
       "      <td>53</td>\n",
       "    </tr>\n",
       "  </tbody>\n",
       "</table>\n",
       "<p>17651 rows × 14 columns</p>\n",
       "</div>"
      ],
      "text/plain": [
       "       Sno  Date  AveragePrice  Total Volume     4046       4225    4770  \\\n",
       "0        0    51          1.33      64236.62  1036.74   54454.85   48.16   \n",
       "1        1    50          1.35      54876.98   674.28   44638.81   58.33   \n",
       "2        2    49          0.93     118220.22   794.70  109149.67  130.50   \n",
       "3        3    48          1.08      78992.15  1132.00   71976.41   72.58   \n",
       "4        4    47          1.28      51039.60   941.48   43838.39   75.78   \n",
       "...    ...   ...           ...           ...      ...        ...     ...   \n",
       "18244    7   161          1.63      17074.83  2046.96    1529.20    0.00   \n",
       "18245    8   160          1.71      13888.04  1191.70    3431.50    0.00   \n",
       "18246    9   159          1.87      13766.76  1191.92    2452.79  727.94   \n",
       "18247   10   158          1.93      16205.22  1527.63    2981.04  727.01   \n",
       "18248   11   157          1.62      17489.58  2894.77    2356.13  224.53   \n",
       "\n",
       "       Total Bags  Small Bags  Large Bags  XLarge Bags  type  year  region  \n",
       "0         8696.87     8603.62       93.25          0.0     0  2015       0  \n",
       "1         9505.56     9408.07       97.49          0.0     0  2015       0  \n",
       "2         8145.35     8042.21      103.14          0.0     0  2015       0  \n",
       "3         5811.16     5677.40      133.76          0.0     0  2015       0  \n",
       "4         6183.95     5986.26      197.69          0.0     0  2015       0  \n",
       "...           ...         ...         ...          ...   ...   ...     ...  \n",
       "18244    13498.67    13066.82      431.85          0.0     1  2018      53  \n",
       "18245     9264.84     8940.04      324.80          0.0     1  2018      53  \n",
       "18246     9394.11     9351.80       42.31          0.0     1  2018      53  \n",
       "18247    10969.54    10919.54       50.00          0.0     1  2018      53  \n",
       "18248    12014.15    11988.14       26.01          0.0     1  2018      53  \n",
       "\n",
       "[17651 rows x 14 columns]"
      ]
     },
     "execution_count": 47,
     "metadata": {},
     "output_type": "execute_result"
    }
   ],
   "source": [
    "df_new_z=df[(z<3).all(axis=1)]\n",
    "df_new_z"
   ]
  },
  {
   "cell_type": "code",
   "execution_count": 48,
   "id": "71ef20cb",
   "metadata": {},
   "outputs": [
    {
     "data": {
      "text/plain": [
       "(17651, 14)"
      ]
     },
     "execution_count": 48,
     "metadata": {},
     "output_type": "execute_result"
    }
   ],
   "source": [
    "df_new_z.shape"
   ]
  },
  {
   "cell_type": "code",
   "execution_count": 49,
   "id": "2601acbf",
   "metadata": {},
   "outputs": [
    {
     "data": {
      "text/plain": [
       "(18249, 14)"
      ]
     },
     "execution_count": 49,
     "metadata": {},
     "output_type": "execute_result"
    }
   ],
   "source": [
    "df.shape"
   ]
  },
  {
   "cell_type": "code",
   "execution_count": 50,
   "id": "bcf83107",
   "metadata": {},
   "outputs": [
    {
     "data": {
      "text/plain": [
       "3.276891884486821"
      ]
     },
     "execution_count": 50,
     "metadata": {},
     "output_type": "execute_result"
    }
   ],
   "source": [
    "data_loss=(18249-17651)/18249*100\n",
    "data_loss"
   ]
  },
  {
   "cell_type": "markdown",
   "id": "4c374253",
   "metadata": {},
   "source": [
    "##### Data loss 3% so we will remove outliers"
   ]
  },
  {
   "cell_type": "code",
   "execution_count": 51,
   "id": "7b919346",
   "metadata": {},
   "outputs": [
    {
     "data": {
      "text/html": [
       "<div>\n",
       "<style scoped>\n",
       "    .dataframe tbody tr th:only-of-type {\n",
       "        vertical-align: middle;\n",
       "    }\n",
       "\n",
       "    .dataframe tbody tr th {\n",
       "        vertical-align: top;\n",
       "    }\n",
       "\n",
       "    .dataframe thead th {\n",
       "        text-align: right;\n",
       "    }\n",
       "</style>\n",
       "<table border=\"1\" class=\"dataframe\">\n",
       "  <thead>\n",
       "    <tr style=\"text-align: right;\">\n",
       "      <th></th>\n",
       "      <th>Sno</th>\n",
       "      <th>Date</th>\n",
       "      <th>AveragePrice</th>\n",
       "      <th>Total Volume</th>\n",
       "      <th>4046</th>\n",
       "      <th>4225</th>\n",
       "      <th>4770</th>\n",
       "      <th>Total Bags</th>\n",
       "      <th>Small Bags</th>\n",
       "      <th>Large Bags</th>\n",
       "      <th>XLarge Bags</th>\n",
       "      <th>type</th>\n",
       "      <th>year</th>\n",
       "      <th>region</th>\n",
       "    </tr>\n",
       "  </thead>\n",
       "  <tbody>\n",
       "    <tr>\n",
       "      <th>0</th>\n",
       "      <td>0</td>\n",
       "      <td>51</td>\n",
       "      <td>1.33</td>\n",
       "      <td>64236.62</td>\n",
       "      <td>1036.74</td>\n",
       "      <td>54454.85</td>\n",
       "      <td>48.16</td>\n",
       "      <td>8696.87</td>\n",
       "      <td>8603.62</td>\n",
       "      <td>93.25</td>\n",
       "      <td>0.0</td>\n",
       "      <td>0</td>\n",
       "      <td>2015</td>\n",
       "      <td>0</td>\n",
       "    </tr>\n",
       "    <tr>\n",
       "      <th>1</th>\n",
       "      <td>1</td>\n",
       "      <td>50</td>\n",
       "      <td>1.35</td>\n",
       "      <td>54876.98</td>\n",
       "      <td>674.28</td>\n",
       "      <td>44638.81</td>\n",
       "      <td>58.33</td>\n",
       "      <td>9505.56</td>\n",
       "      <td>9408.07</td>\n",
       "      <td>97.49</td>\n",
       "      <td>0.0</td>\n",
       "      <td>0</td>\n",
       "      <td>2015</td>\n",
       "      <td>0</td>\n",
       "    </tr>\n",
       "    <tr>\n",
       "      <th>2</th>\n",
       "      <td>2</td>\n",
       "      <td>49</td>\n",
       "      <td>0.93</td>\n",
       "      <td>118220.22</td>\n",
       "      <td>794.70</td>\n",
       "      <td>109149.67</td>\n",
       "      <td>130.50</td>\n",
       "      <td>8145.35</td>\n",
       "      <td>8042.21</td>\n",
       "      <td>103.14</td>\n",
       "      <td>0.0</td>\n",
       "      <td>0</td>\n",
       "      <td>2015</td>\n",
       "      <td>0</td>\n",
       "    </tr>\n",
       "    <tr>\n",
       "      <th>3</th>\n",
       "      <td>3</td>\n",
       "      <td>48</td>\n",
       "      <td>1.08</td>\n",
       "      <td>78992.15</td>\n",
       "      <td>1132.00</td>\n",
       "      <td>71976.41</td>\n",
       "      <td>72.58</td>\n",
       "      <td>5811.16</td>\n",
       "      <td>5677.40</td>\n",
       "      <td>133.76</td>\n",
       "      <td>0.0</td>\n",
       "      <td>0</td>\n",
       "      <td>2015</td>\n",
       "      <td>0</td>\n",
       "    </tr>\n",
       "    <tr>\n",
       "      <th>4</th>\n",
       "      <td>4</td>\n",
       "      <td>47</td>\n",
       "      <td>1.28</td>\n",
       "      <td>51039.60</td>\n",
       "      <td>941.48</td>\n",
       "      <td>43838.39</td>\n",
       "      <td>75.78</td>\n",
       "      <td>6183.95</td>\n",
       "      <td>5986.26</td>\n",
       "      <td>197.69</td>\n",
       "      <td>0.0</td>\n",
       "      <td>0</td>\n",
       "      <td>2015</td>\n",
       "      <td>0</td>\n",
       "    </tr>\n",
       "    <tr>\n",
       "      <th>...</th>\n",
       "      <td>...</td>\n",
       "      <td>...</td>\n",
       "      <td>...</td>\n",
       "      <td>...</td>\n",
       "      <td>...</td>\n",
       "      <td>...</td>\n",
       "      <td>...</td>\n",
       "      <td>...</td>\n",
       "      <td>...</td>\n",
       "      <td>...</td>\n",
       "      <td>...</td>\n",
       "      <td>...</td>\n",
       "      <td>...</td>\n",
       "      <td>...</td>\n",
       "    </tr>\n",
       "    <tr>\n",
       "      <th>18244</th>\n",
       "      <td>7</td>\n",
       "      <td>161</td>\n",
       "      <td>1.63</td>\n",
       "      <td>17074.83</td>\n",
       "      <td>2046.96</td>\n",
       "      <td>1529.20</td>\n",
       "      <td>0.00</td>\n",
       "      <td>13498.67</td>\n",
       "      <td>13066.82</td>\n",
       "      <td>431.85</td>\n",
       "      <td>0.0</td>\n",
       "      <td>1</td>\n",
       "      <td>2018</td>\n",
       "      <td>53</td>\n",
       "    </tr>\n",
       "    <tr>\n",
       "      <th>18245</th>\n",
       "      <td>8</td>\n",
       "      <td>160</td>\n",
       "      <td>1.71</td>\n",
       "      <td>13888.04</td>\n",
       "      <td>1191.70</td>\n",
       "      <td>3431.50</td>\n",
       "      <td>0.00</td>\n",
       "      <td>9264.84</td>\n",
       "      <td>8940.04</td>\n",
       "      <td>324.80</td>\n",
       "      <td>0.0</td>\n",
       "      <td>1</td>\n",
       "      <td>2018</td>\n",
       "      <td>53</td>\n",
       "    </tr>\n",
       "    <tr>\n",
       "      <th>18246</th>\n",
       "      <td>9</td>\n",
       "      <td>159</td>\n",
       "      <td>1.87</td>\n",
       "      <td>13766.76</td>\n",
       "      <td>1191.92</td>\n",
       "      <td>2452.79</td>\n",
       "      <td>727.94</td>\n",
       "      <td>9394.11</td>\n",
       "      <td>9351.80</td>\n",
       "      <td>42.31</td>\n",
       "      <td>0.0</td>\n",
       "      <td>1</td>\n",
       "      <td>2018</td>\n",
       "      <td>53</td>\n",
       "    </tr>\n",
       "    <tr>\n",
       "      <th>18247</th>\n",
       "      <td>10</td>\n",
       "      <td>158</td>\n",
       "      <td>1.93</td>\n",
       "      <td>16205.22</td>\n",
       "      <td>1527.63</td>\n",
       "      <td>2981.04</td>\n",
       "      <td>727.01</td>\n",
       "      <td>10969.54</td>\n",
       "      <td>10919.54</td>\n",
       "      <td>50.00</td>\n",
       "      <td>0.0</td>\n",
       "      <td>1</td>\n",
       "      <td>2018</td>\n",
       "      <td>53</td>\n",
       "    </tr>\n",
       "    <tr>\n",
       "      <th>18248</th>\n",
       "      <td>11</td>\n",
       "      <td>157</td>\n",
       "      <td>1.62</td>\n",
       "      <td>17489.58</td>\n",
       "      <td>2894.77</td>\n",
       "      <td>2356.13</td>\n",
       "      <td>224.53</td>\n",
       "      <td>12014.15</td>\n",
       "      <td>11988.14</td>\n",
       "      <td>26.01</td>\n",
       "      <td>0.0</td>\n",
       "      <td>1</td>\n",
       "      <td>2018</td>\n",
       "      <td>53</td>\n",
       "    </tr>\n",
       "  </tbody>\n",
       "</table>\n",
       "<p>17651 rows × 14 columns</p>\n",
       "</div>"
      ],
      "text/plain": [
       "       Sno  Date  AveragePrice  Total Volume     4046       4225    4770  \\\n",
       "0        0    51          1.33      64236.62  1036.74   54454.85   48.16   \n",
       "1        1    50          1.35      54876.98   674.28   44638.81   58.33   \n",
       "2        2    49          0.93     118220.22   794.70  109149.67  130.50   \n",
       "3        3    48          1.08      78992.15  1132.00   71976.41   72.58   \n",
       "4        4    47          1.28      51039.60   941.48   43838.39   75.78   \n",
       "...    ...   ...           ...           ...      ...        ...     ...   \n",
       "18244    7   161          1.63      17074.83  2046.96    1529.20    0.00   \n",
       "18245    8   160          1.71      13888.04  1191.70    3431.50    0.00   \n",
       "18246    9   159          1.87      13766.76  1191.92    2452.79  727.94   \n",
       "18247   10   158          1.93      16205.22  1527.63    2981.04  727.01   \n",
       "18248   11   157          1.62      17489.58  2894.77    2356.13  224.53   \n",
       "\n",
       "       Total Bags  Small Bags  Large Bags  XLarge Bags  type  year  region  \n",
       "0         8696.87     8603.62       93.25          0.0     0  2015       0  \n",
       "1         9505.56     9408.07       97.49          0.0     0  2015       0  \n",
       "2         8145.35     8042.21      103.14          0.0     0  2015       0  \n",
       "3         5811.16     5677.40      133.76          0.0     0  2015       0  \n",
       "4         6183.95     5986.26      197.69          0.0     0  2015       0  \n",
       "...           ...         ...         ...          ...   ...   ...     ...  \n",
       "18244    13498.67    13066.82      431.85          0.0     1  2018      53  \n",
       "18245     9264.84     8940.04      324.80          0.0     1  2018      53  \n",
       "18246     9394.11     9351.80       42.31          0.0     1  2018      53  \n",
       "18247    10969.54    10919.54       50.00          0.0     1  2018      53  \n",
       "18248    12014.15    11988.14       26.01          0.0     1  2018      53  \n",
       "\n",
       "[17651 rows x 14 columns]"
      ]
     },
     "execution_count": 51,
     "metadata": {},
     "output_type": "execute_result"
    }
   ],
   "source": [
    "#using the outlier removed dataframe\n",
    "df=df_new_z\n",
    "df"
   ]
  },
  {
   "cell_type": "markdown",
   "id": "93d8935e",
   "metadata": {},
   "source": [
    "### Separating the data into feature and target"
   ]
  },
  {
   "cell_type": "code",
   "execution_count": 52,
   "id": "184d75d2",
   "metadata": {},
   "outputs": [],
   "source": [
    "x=df.drop('region', axis=1)\n",
    "y=df['region']"
   ]
  },
  {
   "cell_type": "code",
   "execution_count": 108,
   "id": "70738b95",
   "metadata": {},
   "outputs": [],
   "source": [
    "import warnings\n",
    "warnings.filterwarnings('ignore')\n",
    "\n",
    "from sklearn.linear_model import LinearRegression\n",
    "lr=LinearRegression()\n",
    "\n",
    "from sklearn.metrics import r2_score,mean_squared_error, mean_absolute_error #For checking loss function (errors)\n",
    "\n",
    "from sklearn.model_selection import train_test_split"
   ]
  },
  {
   "cell_type": "markdown",
   "id": "535c8f6b",
   "metadata": {},
   "source": [
    "##### Checking the best random state for splitting the the data in train and test"
   ]
  },
  {
   "cell_type": "code",
   "execution_count": 109,
   "id": "d9d80200",
   "metadata": {},
   "outputs": [
    {
     "name": "stdout",
     "output_type": "stream",
     "text": [
      "best random state is 0   99\n"
     ]
    }
   ],
   "source": [
    "rstate=0\n",
    "rscore=0\n",
    "\n",
    "for i in range(0,1000):\n",
    "    x_train,x_test,y_train,y_test=train_test_split(x1,y,test_size=.2,random_state=i)\n",
    "    lr.fit(x_train,y_train)\n",
    "    pred=lr.predict(x_test)\n",
    "    if(round(r2_score(y_test,pred)*100)>rscore):\n",
    "        rstate=i\n",
    "        rscore=round(r2_score(y_test,pred)*100)\n",
    "\n",
    "print('best random state is',rstate,\" \",rscore)\n"
   ]
  },
  {
   "cell_type": "code",
   "execution_count": 111,
   "id": "768e7085",
   "metadata": {},
   "outputs": [],
   "source": [
    "x_train,x_test,y_train,y_test=train_test_split(x,y,test_size=.2,random_state=0)"
   ]
  },
  {
   "cell_type": "code",
   "execution_count": 112,
   "id": "e4cac716",
   "metadata": {},
   "outputs": [
    {
     "data": {
      "text/plain": [
       "(14120, 13)"
      ]
     },
     "execution_count": 112,
     "metadata": {},
     "output_type": "execute_result"
    }
   ],
   "source": [
    "#checking the shape of x_train\n",
    "x_train.shape"
   ]
  },
  {
   "cell_type": "code",
   "execution_count": 113,
   "id": "3506b875",
   "metadata": {},
   "outputs": [
    {
     "data": {
      "text/plain": [
       "(14120,)"
      ]
     },
     "execution_count": 113,
     "metadata": {},
     "output_type": "execute_result"
    }
   ],
   "source": [
    "#checking the shape of y_train\n",
    "y_train.shape"
   ]
  },
  {
   "cell_type": "code",
   "execution_count": 114,
   "id": "97a2c659",
   "metadata": {},
   "outputs": [
    {
     "data": {
      "text/plain": [
       "(3531, 13)"
      ]
     },
     "execution_count": 114,
     "metadata": {},
     "output_type": "execute_result"
    }
   ],
   "source": [
    "#checking the shape of x_test\n",
    "x_test.shape"
   ]
  },
  {
   "cell_type": "code",
   "execution_count": 115,
   "id": "628ee6ad",
   "metadata": {},
   "outputs": [
    {
     "data": {
      "text/plain": [
       "(3531,)"
      ]
     },
     "execution_count": 115,
     "metadata": {},
     "output_type": "execute_result"
    }
   ],
   "source": [
    "#checking the shape of y_test\n",
    "y_test.shape"
   ]
  },
  {
   "cell_type": "code",
   "execution_count": 116,
   "id": "c0e80b85",
   "metadata": {},
   "outputs": [],
   "source": [
    "lr.fit(x_train,y_train)\n",
    "pred=lr.predict(x_test)"
   ]
  },
  {
   "cell_type": "code",
   "execution_count": 54,
   "id": "6f07eb5f",
   "metadata": {},
   "outputs": [
    {
     "data": {
      "text/plain": [
       "0         0\n",
       "1         0\n",
       "2         0\n",
       "3         0\n",
       "4         0\n",
       "         ..\n",
       "18244    53\n",
       "18245    53\n",
       "18246    53\n",
       "18247    53\n",
       "18248    53\n",
       "Name: region, Length: 17651, dtype: int32"
      ]
     },
     "execution_count": 54,
     "metadata": {},
     "output_type": "execute_result"
    }
   ],
   "source": [
    "#showing target column values\n",
    "y"
   ]
  },
  {
   "cell_type": "markdown",
   "id": "360b6751",
   "metadata": {},
   "source": [
    "- Checking Variance Influence Factor"
   ]
  },
  {
   "cell_type": "code",
   "execution_count": 55,
   "id": "2624b675",
   "metadata": {},
   "outputs": [],
   "source": [
    "from statsmodels.stats.outliers_influence import variance_inflation_factor\n",
    "\n",
    "def calc_vif(x):\n",
    "    vif=pd.DataFrame()\n",
    "    vif[\"VIF FACTOR\"]=[variance_inflation_factor(x.values, i) for i in range(x.shape[1])]\n",
    "    vif['Features']=x.columns\n",
    "    print(vif)"
   ]
  },
  {
   "cell_type": "code",
   "execution_count": 56,
   "id": "71652aa4",
   "metadata": {},
   "outputs": [
    {
     "name": "stdout",
     "output_type": "stream",
     "text": [
      "      VIF FACTOR      Features\n",
      "0   4.244844e+00           Sno\n",
      "1   5.283347e+00          Date\n",
      "2   2.503389e+01  AveragePrice\n",
      "3   4.985219e+08  Total Volume\n",
      "4   8.741400e+07          4046\n",
      "5   7.516160e+07          4225\n",
      "6   5.289809e+05          4770\n",
      "7   2.333471e+13    Total Bags\n",
      "8   1.518921e+13    Small Bags\n",
      "9   1.478286e+12    Large Bags\n",
      "10  7.092769e+09   XLarge Bags\n",
      "11  3.724748e+00          type\n",
      "12  2.869043e+01          year\n"
     ]
    }
   ],
   "source": [
    "calc_vif(x)"
   ]
  },
  {
   "cell_type": "markdown",
   "id": "d94a2912",
   "metadata": {},
   "source": [
    "#### Almost All Vif factor are less than 10  so we will leave the feature as it is\n"
   ]
  },
  {
   "cell_type": "markdown",
   "id": "34f191d1",
   "metadata": {},
   "source": [
    "##### Transforming data to remove skewness"
   ]
  },
  {
   "cell_type": "code",
   "execution_count": 57,
   "id": "ce9da199",
   "metadata": {},
   "outputs": [
    {
     "data": {
      "text/plain": [
       "type           -0.037741\n",
       "Date            0.013714\n",
       "Sno             0.106116\n",
       "year            0.229976\n",
       "AveragePrice    0.377432\n",
       "Total Volume    3.767138\n",
       "Total Bags      4.066771\n",
       "Small Bags      4.222706\n",
       "4225            4.455745\n",
       "4046            4.909848\n",
       "Large Bags      5.053434\n",
       "4770            5.117170\n",
       "XLarge Bags     6.135607\n",
       "dtype: float64"
      ]
     },
     "execution_count": 57,
     "metadata": {},
     "output_type": "execute_result"
    }
   ],
   "source": [
    "#showing skewness of features in sorted order\n",
    "x.skew().sort_values()"
   ]
  },
  {
   "cell_type": "markdown",
   "id": "136291ac",
   "metadata": {},
   "source": [
    "- skewness is present in some features so we will remove it "
   ]
  },
  {
   "cell_type": "code",
   "execution_count": 58,
   "id": "b336a114",
   "metadata": {},
   "outputs": [
    {
     "data": {
      "text/html": [
       "<div>\n",
       "<style scoped>\n",
       "    .dataframe tbody tr th:only-of-type {\n",
       "        vertical-align: middle;\n",
       "    }\n",
       "\n",
       "    .dataframe tbody tr th {\n",
       "        vertical-align: top;\n",
       "    }\n",
       "\n",
       "    .dataframe thead th {\n",
       "        text-align: right;\n",
       "    }\n",
       "</style>\n",
       "<table border=\"1\" class=\"dataframe\">\n",
       "  <thead>\n",
       "    <tr style=\"text-align: right;\">\n",
       "      <th></th>\n",
       "      <th>Sno</th>\n",
       "      <th>Date</th>\n",
       "      <th>AveragePrice</th>\n",
       "      <th>Total Volume</th>\n",
       "      <th>4046</th>\n",
       "      <th>4225</th>\n",
       "      <th>4770</th>\n",
       "      <th>Total Bags</th>\n",
       "      <th>Small Bags</th>\n",
       "      <th>Large Bags</th>\n",
       "      <th>XLarge Bags</th>\n",
       "      <th>type</th>\n",
       "      <th>year</th>\n",
       "    </tr>\n",
       "  </thead>\n",
       "  <tbody>\n",
       "    <tr>\n",
       "      <th>0</th>\n",
       "      <td>0</td>\n",
       "      <td>51</td>\n",
       "      <td>1.33</td>\n",
       "      <td>64236.62</td>\n",
       "      <td>1036.74</td>\n",
       "      <td>54454.85</td>\n",
       "      <td>48.16</td>\n",
       "      <td>8696.87</td>\n",
       "      <td>8603.62</td>\n",
       "      <td>93.25</td>\n",
       "      <td>0.0</td>\n",
       "      <td>0</td>\n",
       "      <td>2015</td>\n",
       "    </tr>\n",
       "    <tr>\n",
       "      <th>1</th>\n",
       "      <td>1</td>\n",
       "      <td>50</td>\n",
       "      <td>1.35</td>\n",
       "      <td>54876.98</td>\n",
       "      <td>674.28</td>\n",
       "      <td>44638.81</td>\n",
       "      <td>58.33</td>\n",
       "      <td>9505.56</td>\n",
       "      <td>9408.07</td>\n",
       "      <td>97.49</td>\n",
       "      <td>0.0</td>\n",
       "      <td>0</td>\n",
       "      <td>2015</td>\n",
       "    </tr>\n",
       "    <tr>\n",
       "      <th>2</th>\n",
       "      <td>2</td>\n",
       "      <td>49</td>\n",
       "      <td>0.93</td>\n",
       "      <td>118220.22</td>\n",
       "      <td>794.70</td>\n",
       "      <td>109149.67</td>\n",
       "      <td>130.50</td>\n",
       "      <td>8145.35</td>\n",
       "      <td>8042.21</td>\n",
       "      <td>103.14</td>\n",
       "      <td>0.0</td>\n",
       "      <td>0</td>\n",
       "      <td>2015</td>\n",
       "    </tr>\n",
       "    <tr>\n",
       "      <th>3</th>\n",
       "      <td>3</td>\n",
       "      <td>48</td>\n",
       "      <td>1.08</td>\n",
       "      <td>78992.15</td>\n",
       "      <td>1132.00</td>\n",
       "      <td>71976.41</td>\n",
       "      <td>72.58</td>\n",
       "      <td>5811.16</td>\n",
       "      <td>5677.40</td>\n",
       "      <td>133.76</td>\n",
       "      <td>0.0</td>\n",
       "      <td>0</td>\n",
       "      <td>2015</td>\n",
       "    </tr>\n",
       "    <tr>\n",
       "      <th>4</th>\n",
       "      <td>4</td>\n",
       "      <td>47</td>\n",
       "      <td>1.28</td>\n",
       "      <td>51039.60</td>\n",
       "      <td>941.48</td>\n",
       "      <td>43838.39</td>\n",
       "      <td>75.78</td>\n",
       "      <td>6183.95</td>\n",
       "      <td>5986.26</td>\n",
       "      <td>197.69</td>\n",
       "      <td>0.0</td>\n",
       "      <td>0</td>\n",
       "      <td>2015</td>\n",
       "    </tr>\n",
       "    <tr>\n",
       "      <th>...</th>\n",
       "      <td>...</td>\n",
       "      <td>...</td>\n",
       "      <td>...</td>\n",
       "      <td>...</td>\n",
       "      <td>...</td>\n",
       "      <td>...</td>\n",
       "      <td>...</td>\n",
       "      <td>...</td>\n",
       "      <td>...</td>\n",
       "      <td>...</td>\n",
       "      <td>...</td>\n",
       "      <td>...</td>\n",
       "      <td>...</td>\n",
       "    </tr>\n",
       "    <tr>\n",
       "      <th>18244</th>\n",
       "      <td>7</td>\n",
       "      <td>161</td>\n",
       "      <td>1.63</td>\n",
       "      <td>17074.83</td>\n",
       "      <td>2046.96</td>\n",
       "      <td>1529.20</td>\n",
       "      <td>0.00</td>\n",
       "      <td>13498.67</td>\n",
       "      <td>13066.82</td>\n",
       "      <td>431.85</td>\n",
       "      <td>0.0</td>\n",
       "      <td>1</td>\n",
       "      <td>2018</td>\n",
       "    </tr>\n",
       "    <tr>\n",
       "      <th>18245</th>\n",
       "      <td>8</td>\n",
       "      <td>160</td>\n",
       "      <td>1.71</td>\n",
       "      <td>13888.04</td>\n",
       "      <td>1191.70</td>\n",
       "      <td>3431.50</td>\n",
       "      <td>0.00</td>\n",
       "      <td>9264.84</td>\n",
       "      <td>8940.04</td>\n",
       "      <td>324.80</td>\n",
       "      <td>0.0</td>\n",
       "      <td>1</td>\n",
       "      <td>2018</td>\n",
       "    </tr>\n",
       "    <tr>\n",
       "      <th>18246</th>\n",
       "      <td>9</td>\n",
       "      <td>159</td>\n",
       "      <td>1.87</td>\n",
       "      <td>13766.76</td>\n",
       "      <td>1191.92</td>\n",
       "      <td>2452.79</td>\n",
       "      <td>727.94</td>\n",
       "      <td>9394.11</td>\n",
       "      <td>9351.80</td>\n",
       "      <td>42.31</td>\n",
       "      <td>0.0</td>\n",
       "      <td>1</td>\n",
       "      <td>2018</td>\n",
       "    </tr>\n",
       "    <tr>\n",
       "      <th>18247</th>\n",
       "      <td>10</td>\n",
       "      <td>158</td>\n",
       "      <td>1.93</td>\n",
       "      <td>16205.22</td>\n",
       "      <td>1527.63</td>\n",
       "      <td>2981.04</td>\n",
       "      <td>727.01</td>\n",
       "      <td>10969.54</td>\n",
       "      <td>10919.54</td>\n",
       "      <td>50.00</td>\n",
       "      <td>0.0</td>\n",
       "      <td>1</td>\n",
       "      <td>2018</td>\n",
       "    </tr>\n",
       "    <tr>\n",
       "      <th>18248</th>\n",
       "      <td>11</td>\n",
       "      <td>157</td>\n",
       "      <td>1.62</td>\n",
       "      <td>17489.58</td>\n",
       "      <td>2894.77</td>\n",
       "      <td>2356.13</td>\n",
       "      <td>224.53</td>\n",
       "      <td>12014.15</td>\n",
       "      <td>11988.14</td>\n",
       "      <td>26.01</td>\n",
       "      <td>0.0</td>\n",
       "      <td>1</td>\n",
       "      <td>2018</td>\n",
       "    </tr>\n",
       "  </tbody>\n",
       "</table>\n",
       "<p>17651 rows × 13 columns</p>\n",
       "</div>"
      ],
      "text/plain": [
       "       Sno  Date  AveragePrice  Total Volume     4046       4225    4770  \\\n",
       "0        0    51          1.33      64236.62  1036.74   54454.85   48.16   \n",
       "1        1    50          1.35      54876.98   674.28   44638.81   58.33   \n",
       "2        2    49          0.93     118220.22   794.70  109149.67  130.50   \n",
       "3        3    48          1.08      78992.15  1132.00   71976.41   72.58   \n",
       "4        4    47          1.28      51039.60   941.48   43838.39   75.78   \n",
       "...    ...   ...           ...           ...      ...        ...     ...   \n",
       "18244    7   161          1.63      17074.83  2046.96    1529.20    0.00   \n",
       "18245    8   160          1.71      13888.04  1191.70    3431.50    0.00   \n",
       "18246    9   159          1.87      13766.76  1191.92    2452.79  727.94   \n",
       "18247   10   158          1.93      16205.22  1527.63    2981.04  727.01   \n",
       "18248   11   157          1.62      17489.58  2894.77    2356.13  224.53   \n",
       "\n",
       "       Total Bags  Small Bags  Large Bags  XLarge Bags  type  year  \n",
       "0         8696.87     8603.62       93.25          0.0     0  2015  \n",
       "1         9505.56     9408.07       97.49          0.0     0  2015  \n",
       "2         8145.35     8042.21      103.14          0.0     0  2015  \n",
       "3         5811.16     5677.40      133.76          0.0     0  2015  \n",
       "4         6183.95     5986.26      197.69          0.0     0  2015  \n",
       "...           ...         ...         ...          ...   ...   ...  \n",
       "18244    13498.67    13066.82      431.85          0.0     1  2018  \n",
       "18245     9264.84     8940.04      324.80          0.0     1  2018  \n",
       "18246     9394.11     9351.80       42.31          0.0     1  2018  \n",
       "18247    10969.54    10919.54       50.00          0.0     1  2018  \n",
       "18248    12014.15    11988.14       26.01          0.0     1  2018  \n",
       "\n",
       "[17651 rows x 13 columns]"
      ]
     },
     "execution_count": 58,
     "metadata": {},
     "output_type": "execute_result"
    }
   ],
   "source": [
    "#making a new dataframe of feature variables\n",
    "x1=pd.DataFrame(data=x,columns=x.columns)\n",
    "x1"
   ]
  },
  {
   "cell_type": "markdown",
   "id": "9913277d",
   "metadata": {},
   "source": [
    "#### Scaling the data "
   ]
  },
  {
   "cell_type": "code",
   "execution_count": 59,
   "id": "b418078b",
   "metadata": {},
   "outputs": [],
   "source": [
    "from sklearn.preprocessing import MinMaxScaler\n",
    "mms=MinMaxScaler()\n",
    "from sklearn.naive_bayes import MultinomialNB \n",
    "mnb=MultinomialNB()\n",
    "from sklearn.metrics import r2_score\n",
    "from sklearn.model_selection import train_test_split\n",
    "from sklearn.metrics import accuracy_score,confusion_matrix,classification_report\n",
    "\n",
    "from sklearn.preprocessing import power_transform,PowerTransformer"
   ]
  },
  {
   "cell_type": "markdown",
   "id": "6d07e94a",
   "metadata": {},
   "source": [
    "#### Removing skewness"
   ]
  },
  {
   "cell_type": "code",
   "execution_count": 60,
   "id": "e6e16cc8",
   "metadata": {},
   "outputs": [
    {
     "data": {
      "text/plain": [
       "type           -0.037741\n",
       "Date            0.013714\n",
       "Sno             0.106116\n",
       "year            0.229976\n",
       "AveragePrice    0.377432\n",
       "Total Volume    3.767138\n",
       "Total Bags      4.066771\n",
       "Small Bags      4.222706\n",
       "4225            4.455745\n",
       "4046            4.909848\n",
       "Large Bags      5.053434\n",
       "4770            5.117170\n",
       "XLarge Bags     6.135607\n",
       "dtype: float64"
      ]
     },
     "execution_count": 60,
     "metadata": {},
     "output_type": "execute_result"
    }
   ],
   "source": [
    "x1.skew().sort_values()"
   ]
  },
  {
   "cell_type": "code",
   "execution_count": 61,
   "id": "3fa411d4",
   "metadata": {},
   "outputs": [
    {
     "data": {
      "text/plain": [
       "0    -0.243656\n",
       "1    -0.274852\n",
       "2     0.000464\n",
       "3    -0.008642\n",
       "4    -0.039282\n",
       "5    -0.044675\n",
       "6     0.024168\n",
       "7    -0.022204\n",
       "8    -0.024405\n",
       "9    -0.110913\n",
       "10    0.853758\n",
       "11   -0.037741\n",
       "12    0.227731\n",
       "dtype: float64"
      ]
     },
     "execution_count": 61,
     "metadata": {},
     "output_type": "execute_result"
    }
   ],
   "source": [
    "#Transforming the data for skewness\n",
    "x1=power_transform(x1)\n",
    "x1=pd.DataFrame(x1)\n",
    "x1.skew()\n",
    "\n"
   ]
  },
  {
   "cell_type": "markdown",
   "id": "9e83d1da",
   "metadata": {},
   "source": [
    "- Skewness is at acceptable level"
   ]
  },
  {
   "cell_type": "code",
   "execution_count": 62,
   "id": "c2a3ee76",
   "metadata": {},
   "outputs": [],
   "source": [
    "#After removing skewness of x1 , it is used as x\n",
    "x=x1"
   ]
  },
  {
   "cell_type": "markdown",
   "id": "8ce7de5f",
   "metadata": {},
   "source": [
    "Skeyness is at acceptable level now we can use this data"
   ]
  },
  {
   "cell_type": "code",
   "execution_count": 63,
   "id": "aac79aca",
   "metadata": {},
   "outputs": [],
   "source": [
    "import warnings\n",
    "warnings.filterwarnings('ignore')"
   ]
  },
  {
   "cell_type": "code",
   "execution_count": 64,
   "id": "eaed52c6",
   "metadata": {},
   "outputs": [
    {
     "data": {
      "text/plain": [
       "array([[0.        , 0.41994043, 0.52577355, ..., 0.        , 0.        ,\n",
       "        0.        ],\n",
       "       [0.04996677, 0.41385363, 0.5350686 , ..., 0.        , 0.        ,\n",
       "        0.        ],\n",
       "       [0.09086627, 0.40773155, 0.32055982, ..., 0.        , 0.        ,\n",
       "        0.        ],\n",
       "       ...,\n",
       "       [0.29516893, 0.96109673, 0.75203058, ..., 0.        , 1.        ,\n",
       "        1.        ],\n",
       "       [0.31882584, 0.95673484, 0.77444045, ..., 0.        , 1.        ,\n",
       "        1.        ],\n",
       "       [0.34167993, 0.95236486, 0.65321426, ..., 0.        , 1.        ,\n",
       "        1.        ]])"
      ]
     },
     "execution_count": 64,
     "metadata": {},
     "output_type": "execute_result"
    }
   ],
   "source": [
    "#Scaling the data, since outlier are not present and features are on different scale so we will use MinMaxScaler\n",
    "\n",
    "from sklearn.preprocessing import MinMaxScaler\n",
    "scale = MinMaxScaler()\n",
    "x1 = scale.fit_transform(x)\n",
    "x1"
   ]
  },
  {
   "cell_type": "code",
   "execution_count": 65,
   "id": "75795956",
   "metadata": {},
   "outputs": [],
   "source": [
    "from sklearn.svm import SVC\n",
    "svc=SVC()"
   ]
  },
  {
   "cell_type": "code",
   "execution_count": 68,
   "id": "ee7c1834",
   "metadata": {},
   "outputs": [
    {
     "name": "stdout",
     "output_type": "stream",
     "text": [
      " Test Accuracy  76.12574341546305  at  0\n"
     ]
    }
   ],
   "source": [
    "#Checking the best random state\n",
    "tr_acc=0\n",
    "tr_i=0\n",
    "\n",
    "for i in range(0,1):\n",
    "    x_train,x_test,y_train,y_test=train_test_split(x1,y,test_size=.2,random_state=i)\n",
    "    svc.fit(x_train,y_train)\n",
    "    pred_test=svc.predict(x_test)\n",
    " \n",
    "    if(round(accuracy_score(y_test,pred_test)*100)>tr_acc):\n",
    "        tr_acc=accuracy_score(y_test,pred_test)*100\n",
    "        tr_i=i\n",
    "\n",
    "print(\" Test Accuracy \",tr_acc,\" at \",tr_i)\n"
   ]
  },
  {
   "cell_type": "markdown",
   "id": "43c80576",
   "metadata": {},
   "source": [
    "Accuracy Score is 91% in LogisticRegression which is good"
   ]
  },
  {
   "cell_type": "code",
   "execution_count": 69,
   "id": "a94afc9f",
   "metadata": {},
   "outputs": [],
   "source": [
    "x=x1\n",
    "#splitting the data in train and test variables\n",
    "x_train,x_test,y_train,y_test=train_test_split(x,y,test_size=.2,random_state=26)"
   ]
  },
  {
   "cell_type": "code",
   "execution_count": 70,
   "id": "65ea6eee",
   "metadata": {},
   "outputs": [
    {
     "data": {
      "text/plain": [
       "<AxesSubplot:xlabel='region', ylabel='count'>"
      ]
     },
     "execution_count": 70,
     "metadata": {},
     "output_type": "execute_result"
    },
    {
     "data": {
      "image/png": "[encoded data removed]",
      "text/plain": [
       "<Figure size 432x288 with 1 Axes>"
      ]
     },
     "metadata": {
      "needs_background": "light"
     },
     "output_type": "display_data"
    }
   ],
   "source": [
    "#showing the counts of target classes are not balanced\n",
    "sns.countplot(y)"
   ]
  },
  {
   "cell_type": "code",
   "execution_count": 71,
   "id": "695fdc1c",
   "metadata": {},
   "outputs": [],
   "source": [
    "#balancing the class in target feature\n",
    "from imblearn.over_sampling import SMOTE\n",
    "smt=SMOTE()\n",
    "x,y=smt.fit_resample(x,y)"
   ]
  },
  {
   "cell_type": "code",
   "execution_count": 72,
   "id": "10744aa5",
   "metadata": {},
   "outputs": [
    {
     "data": {
      "text/plain": [
       "(18252, 13)"
      ]
     },
     "execution_count": 72,
     "metadata": {},
     "output_type": "execute_result"
    }
   ],
   "source": [
    "x.shape"
   ]
  },
  {
   "cell_type": "code",
   "execution_count": 73,
   "id": "b85b540b",
   "metadata": {},
   "outputs": [
    {
     "data": {
      "text/plain": [
       "(18252,)"
      ]
     },
     "execution_count": 73,
     "metadata": {},
     "output_type": "execute_result"
    }
   ],
   "source": [
    "y.shape"
   ]
  },
  {
   "cell_type": "code",
   "execution_count": 74,
   "id": "b8b293cd",
   "metadata": {},
   "outputs": [
    {
     "data": {
      "text/plain": [
       "0     338\n",
       "40    338\n",
       "29    338\n",
       "30    338\n",
       "31    338\n",
       "32    338\n",
       "33    338\n",
       "34    338\n",
       "35    338\n",
       "36    338\n",
       "37    338\n",
       "38    338\n",
       "39    338\n",
       "41    338\n",
       "1     338\n",
       "42    338\n",
       "43    338\n",
       "44    338\n",
       "45    338\n",
       "46    338\n",
       "47    338\n",
       "48    338\n",
       "49    338\n",
       "50    338\n",
       "52    338\n",
       "53    338\n",
       "28    338\n",
       "27    338\n",
       "26    338\n",
       "25    338\n",
       "2     338\n",
       "3     338\n",
       "4     338\n",
       "5     338\n",
       "6     338\n",
       "7     338\n",
       "8     338\n",
       "9     338\n",
       "10    338\n",
       "11    338\n",
       "12    338\n",
       "13    338\n",
       "14    338\n",
       "15    338\n",
       "16    338\n",
       "17    338\n",
       "18    338\n",
       "19    338\n",
       "20    338\n",
       "21    338\n",
       "22    338\n",
       "23    338\n",
       "24    338\n",
       "51    338\n",
       "Name: region, dtype: int64"
      ]
     },
     "execution_count": 74,
     "metadata": {},
     "output_type": "execute_result"
    }
   ],
   "source": [
    "y.value_counts()"
   ]
  },
  {
   "cell_type": "code",
   "execution_count": 75,
   "id": "7e097565",
   "metadata": {},
   "outputs": [
    {
     "data": {
      "text/plain": [
       "<AxesSubplot:xlabel='region', ylabel='count'>"
      ]
     },
     "execution_count": 75,
     "metadata": {},
     "output_type": "execute_result"
    },
    {
     "data": {
      "image/png": "[encoded data removed]",
      "text/plain": [
       "<Figure size 432x288 with 1 Axes>"
      ]
     },
     "metadata": {
      "needs_background": "light"
     },
     "output_type": "display_data"
    }
   ],
   "source": [
    "#showing the counts of target , now class is balanced\n",
    "sns.countplot(y)"
   ]
  },
  {
   "cell_type": "code",
   "execution_count": 76,
   "id": "7a5a3ddf",
   "metadata": {},
   "outputs": [
    {
     "name": "stdout",
     "output_type": "stream",
     "text": [
      "Accuracy Score =  0.7538940809968847\n",
      "Confusion Matrix = \n",
      " [[64  0  0 ...  0  0  0]\n",
      " [ 0 47  0 ...  0  0  0]\n",
      " [ 0  0 78 ...  0  0  0]\n",
      " ...\n",
      " [ 0  0  0 ... 35  0  0]\n",
      " [ 0  0  0 ...  1 38  0]\n",
      " [ 0  2  1 ...  0  0 37]]\n",
      "Classification Report =                precision    recall  f1-score   support\n",
      "\n",
      "           0       0.67      0.85      0.75        75\n",
      "           1       0.43      0.65      0.52        72\n",
      "           2       0.93      0.97      0.95        80\n",
      "           3       0.87      0.60      0.71        65\n",
      "           4       0.81      0.87      0.84        70\n",
      "           5       0.84      0.65      0.73        65\n",
      "           6       0.98      0.91      0.94        56\n",
      "           7       0.78      0.71      0.74        63\n",
      "           8       0.94      0.98      0.96        66\n",
      "           9       0.56      0.73      0.63        59\n",
      "          10       0.60      0.55      0.58        76\n",
      "          11       0.73      0.75      0.74        72\n",
      "          12       0.93      0.97      0.95        58\n",
      "          13       0.70      0.58      0.63        76\n",
      "          14       0.85      0.87      0.86        63\n",
      "          15       0.89      0.80      0.84        60\n",
      "          16       0.96      0.94      0.95        54\n",
      "          17       0.90      0.84      0.87        73\n",
      "          18       0.61      0.77      0.68        69\n",
      "          19       0.85      0.68      0.76        78\n",
      "          20       0.94      0.81      0.87        54\n",
      "          21       0.53      0.65      0.59        66\n",
      "          22       0.94      0.97      0.95        62\n",
      "          23       0.67      0.83      0.74        66\n",
      "          24       0.69      0.29      0.41        69\n",
      "          25       0.77      0.98      0.87        56\n",
      "          26       0.58      0.37      0.45        78\n",
      "          27       0.67      0.54      0.60        63\n",
      "          28       0.95      0.96      0.96        83\n",
      "          29       1.00      0.96      0.98        75\n",
      "          30       0.88      0.80      0.84        64\n",
      "          31       0.54      0.36      0.43        81\n",
      "          32       0.75      0.68      0.72        63\n",
      "          33       0.69      0.65      0.67        74\n",
      "          34       0.62      0.79      0.69        56\n",
      "          35       0.87      0.89      0.88        66\n",
      "          36       0.83      0.86      0.84        66\n",
      "          37       0.70      0.75      0.72        61\n",
      "          38       0.69      0.65      0.67        79\n",
      "          39       0.55      0.87      0.67        68\n",
      "          40       0.69      0.91      0.79        58\n",
      "          41       0.66      0.56      0.60        63\n",
      "          42       1.00      0.90      0.95        58\n",
      "          43       0.84      0.80      0.82        74\n",
      "          44       0.68      0.71      0.69        72\n",
      "          45       0.96      0.88      0.92        58\n",
      "          46       0.90      0.88      0.89        65\n",
      "          47       0.79      0.84      0.82        64\n",
      "          48       0.71      0.58      0.64        69\n",
      "          49       0.72      0.83      0.77        58\n",
      "          50       0.27      0.39      0.32        54\n",
      "          51       0.97      1.00      0.99        35\n",
      "          52       0.86      0.88      0.87        43\n",
      "          53       0.88      0.62      0.73        60\n",
      "\n",
      "    accuracy                           0.75      3531\n",
      "   macro avg       0.77      0.76      0.76      3531\n",
      "weighted avg       0.77      0.75      0.75      3531\n",
      "\n"
     ]
    }
   ],
   "source": [
    "from sklearn.metrics import accuracy_score,confusion_matrix,classification_report\n",
    "svc.fit(x_train,y_train)\n",
    "pred=svc.predict(x_test)\n",
    "\n",
    "print(\"Accuracy Score = \",accuracy_score(y_test,pred))\n",
    "print(\"Confusion Matrix = \\n\",confusion_matrix(y_test,pred))\n",
    "print(\"Classification Report = \",classification_report(y_test,pred))"
   ]
  },
  {
   "cell_type": "markdown",
   "id": "b7bd9736",
   "metadata": {},
   "source": [
    "- accuracy score is 75%\n",
    "- Lets try with other models as well"
   ]
  },
  {
   "cell_type": "markdown",
   "id": "df8bf0c1",
   "metadata": {},
   "source": [
    "##### Checking Cross Validation Score"
   ]
  },
  {
   "cell_type": "markdown",
   "id": "b72458bc",
   "metadata": {},
   "source": [
    "- Lets try some other model"
   ]
  },
  {
   "cell_type": "code",
   "execution_count": 78,
   "id": "84cc5b8b",
   "metadata": {},
   "outputs": [
    {
     "name": "stdout",
     "output_type": "stream",
     "text": [
      "Accuracy Score is  0.8054375531011045\n",
      "[[62  0  0 ...  0  0  0]\n",
      " [ 0 51  0 ...  0  0  3]\n",
      " [ 0  0 73 ...  0  0  2]\n",
      " ...\n",
      " [ 0  0  0 ... 34  0  0]\n",
      " [ 0  0  0 ...  0 37  0]\n",
      " [ 0  0  0 ...  0  0 44]]\n",
      "              precision    recall  f1-score   support\n",
      "\n",
      "           0       0.84      0.83      0.83        75\n",
      "           1       0.72      0.71      0.71        72\n",
      "           2       0.94      0.91      0.92        80\n",
      "           3       0.75      0.80      0.78        65\n",
      "           4       0.88      0.96      0.92        70\n",
      "           5       0.77      0.68      0.72        65\n",
      "           6       0.91      0.88      0.89        56\n",
      "           7       0.82      0.79      0.81        63\n",
      "           8       0.85      0.95      0.90        66\n",
      "           9       0.85      0.68      0.75        59\n",
      "          10       0.75      0.72      0.74        76\n",
      "          11       0.89      0.86      0.87        72\n",
      "          12       0.84      0.84      0.84        58\n",
      "          13       0.82      0.74      0.78        76\n",
      "          14       0.77      0.86      0.81        63\n",
      "          15       0.93      0.93      0.93        60\n",
      "          16       0.84      0.96      0.90        54\n",
      "          17       0.85      0.71      0.78        73\n",
      "          18       0.84      0.90      0.87        69\n",
      "          19       0.79      0.74      0.77        78\n",
      "          20       0.85      0.87      0.86        54\n",
      "          21       0.75      0.71      0.73        66\n",
      "          22       0.90      0.98      0.94        62\n",
      "          23       0.83      0.82      0.82        66\n",
      "          24       0.69      0.64      0.66        69\n",
      "          25       0.88      0.89      0.88        56\n",
      "          26       0.76      0.79      0.77        78\n",
      "          27       0.75      0.70      0.72        63\n",
      "          28       0.91      0.84      0.88        83\n",
      "          29       0.85      0.85      0.85        75\n",
      "          30       0.89      0.84      0.86        64\n",
      "          31       0.71      0.63      0.67        81\n",
      "          32       0.79      0.78      0.78        63\n",
      "          33       0.74      0.82      0.78        74\n",
      "          34       0.89      0.84      0.86        56\n",
      "          35       0.88      0.85      0.86        66\n",
      "          36       0.72      0.70      0.71        66\n",
      "          37       0.68      0.84      0.75        61\n",
      "          38       0.78      0.77      0.78        79\n",
      "          39       0.86      0.88      0.87        68\n",
      "          40       0.79      0.93      0.86        58\n",
      "          41       0.73      0.81      0.77        63\n",
      "          42       0.96      0.81      0.88        58\n",
      "          43       0.74      0.70      0.72        74\n",
      "          44       0.88      0.78      0.82        72\n",
      "          45       0.85      0.91      0.88        58\n",
      "          46       0.92      0.85      0.88        65\n",
      "          47       0.75      0.83      0.79        64\n",
      "          48       0.77      0.74      0.76        69\n",
      "          49       0.72      0.76      0.74        58\n",
      "          50       0.38      0.50      0.43        54\n",
      "          51       0.97      0.97      0.97        35\n",
      "          52       0.84      0.86      0.85        43\n",
      "          53       0.69      0.73      0.71        60\n",
      "\n",
      "    accuracy                           0.81      3531\n",
      "   macro avg       0.81      0.81      0.81      3531\n",
      "weighted avg       0.81      0.81      0.81      3531\n",
      "\n"
     ]
    }
   ],
   "source": [
    "from sklearn.tree import DecisionTreeClassifier\n",
    "dtc=DecisionTreeClassifier()\n",
    "dtc.fit(x_train,y_train)\n",
    "pred_test=dtc.predict(x_test)\n",
    "print(\"Accuracy Score is \",accuracy_score(y_test,pred_test))\n",
    "print(confusion_matrix(y_test,pred_test))\n",
    "print(classification_report(y_test,pred_test))"
   ]
  },
  {
   "cell_type": "markdown",
   "id": "18ad4820",
   "metadata": {},
   "source": [
    "The accuracy of the model is 80% which is not good so we will try some other model"
   ]
  },
  {
   "cell_type": "code",
   "execution_count": 79,
   "id": "39235c85",
   "metadata": {},
   "outputs": [
    {
     "name": "stdout",
     "output_type": "stream",
     "text": [
      "Cross_val_score of dtc [0.65337423 0.69861963 0.70168712 0.65861143 0.58266206 0.57537399\n",
      " 0.570771  ] \n",
      "\n",
      "  mean  0.6344427814684862\n"
     ]
    }
   ],
   "source": [
    "from sklearn.model_selection import cross_val_score\n",
    "src=cross_val_score(dtc,x,y,cv=7)\n",
    "print(\"Cross_val_score of dtc\",src,\"\\n\\n  mean \",src.mean())"
   ]
  },
  {
   "cell_type": "code",
   "execution_count": 80,
   "id": "14e6ed15",
   "metadata": {},
   "outputs": [
    {
     "name": "stdout",
     "output_type": "stream",
     "text": [
      "Accuracy Score is  0.9212687623902577\n",
      "[[73  0  0 ...  0  0  0]\n",
      " [ 0 63  0 ...  0  0  0]\n",
      " [ 0  0 80 ...  0  0  0]\n",
      " ...\n",
      " [ 0  0  0 ... 35  0  0]\n",
      " [ 0  0  0 ...  1 42  0]\n",
      " [ 0  0  0 ...  0  0 57]]\n",
      "              precision    recall  f1-score   support\n",
      "\n",
      "           0       0.92      0.97      0.95        75\n",
      "           1       0.88      0.88      0.88        72\n",
      "           2       0.96      1.00      0.98        80\n",
      "           3       0.91      0.94      0.92        65\n",
      "           4       0.97      1.00      0.99        70\n",
      "           5       0.98      0.75      0.85        65\n",
      "           6       0.96      0.96      0.96        56\n",
      "           7       0.95      0.87      0.91        63\n",
      "           8       0.97      0.97      0.97        66\n",
      "           9       0.87      0.90      0.88        59\n",
      "          10       0.91      0.88      0.89        76\n",
      "          11       0.97      0.93      0.95        72\n",
      "          12       0.98      0.98      0.98        58\n",
      "          13       0.94      0.87      0.90        76\n",
      "          14       0.88      0.95      0.92        63\n",
      "          15       1.00      0.97      0.98        60\n",
      "          16       0.95      0.98      0.96        54\n",
      "          17       0.94      0.92      0.93        73\n",
      "          18       0.92      0.94      0.93        69\n",
      "          19       0.94      0.94      0.94        78\n",
      "          20       0.96      0.93      0.94        54\n",
      "          21       0.86      0.83      0.85        66\n",
      "          22       0.97      1.00      0.98        62\n",
      "          23       0.91      0.92      0.92        66\n",
      "          24       0.87      0.68      0.76        69\n",
      "          25       0.98      0.98      0.98        56\n",
      "          26       0.88      0.85      0.86        78\n",
      "          27       0.93      0.84      0.88        63\n",
      "          28       0.96      0.98      0.97        83\n",
      "          29       1.00      0.97      0.99        75\n",
      "          30       1.00      0.97      0.98        64\n",
      "          31       0.83      0.68      0.75        81\n",
      "          32       0.98      0.87      0.92        63\n",
      "          33       0.91      0.96      0.93        74\n",
      "          34       0.98      1.00      0.99        56\n",
      "          35       0.96      1.00      0.98        66\n",
      "          36       0.88      0.88      0.88        66\n",
      "          37       0.79      0.98      0.88        61\n",
      "          38       0.97      0.91      0.94        79\n",
      "          39       0.94      0.94      0.94        68\n",
      "          40       0.86      0.97      0.91        58\n",
      "          41       0.89      0.92      0.91        63\n",
      "          42       1.00      0.95      0.97        58\n",
      "          43       0.93      0.88      0.90        74\n",
      "          44       0.93      0.90      0.92        72\n",
      "          45       0.97      1.00      0.98        58\n",
      "          46       1.00      0.97      0.98        65\n",
      "          47       0.91      0.97      0.94        64\n",
      "          48       0.91      0.91      0.91        69\n",
      "          49       0.81      0.98      0.89        58\n",
      "          50       0.53      0.74      0.62        54\n",
      "          51       0.95      1.00      0.97        35\n",
      "          52       0.93      0.98      0.95        43\n",
      "          53       0.90      0.95      0.93        60\n",
      "\n",
      "    accuracy                           0.92      3531\n",
      "   macro avg       0.92      0.92      0.92      3531\n",
      "weighted avg       0.92      0.92      0.92      3531\n",
      "\n"
     ]
    }
   ],
   "source": [
    "from sklearn.ensemble import RandomForestClassifier\n",
    "rfc=RandomForestClassifier(n_estimators=300)\n",
    "rfc.fit(x_train,y_train)\n",
    "pred_test=rfc.predict(x_test)\n",
    "print(\"Accuracy Score is \",accuracy_score(y_test,pred_test))\n",
    "print(confusion_matrix(y_test,pred_test))\n",
    "print(classification_report(y_test,pred_test))"
   ]
  },
  {
   "cell_type": "markdown",
   "id": "ac381a00",
   "metadata": {},
   "source": [
    "The accuracy of the model is 94% which is also near to  SVC"
   ]
  },
  {
   "cell_type": "code",
   "execution_count": null,
   "id": "720d3b9e",
   "metadata": {},
   "outputs": [],
   "source": [
    "from sklearn.model_selection import cross_val_score\n",
    "src=cross_val_score(rfc,x,y,cv=7)\n",
    "print(\"Cross_val_score of rfc\",src,\"\\n\\n  mean \",src.mean())"
   ]
  },
  {
   "cell_type": "code",
   "execution_count": 82,
   "id": "4b9e7bf4",
   "metadata": {},
   "outputs": [
    {
     "name": "stdout",
     "output_type": "stream",
     "text": [
      "Accuracy Score is  0.8006230529595015\n",
      "[[67  0  0 ...  0  0  0]\n",
      " [ 0 53  0 ...  0  0  0]\n",
      " [ 0  0 78 ...  0  0  0]\n",
      " ...\n",
      " [ 0  0  0 ... 35  0  0]\n",
      " [ 0  0  0 ...  1 38  0]\n",
      " [ 0  0  1 ...  0  0 49]]\n",
      "              precision    recall  f1-score   support\n",
      "\n",
      "           0       0.86      0.89      0.88        75\n",
      "           1       0.64      0.74      0.68        72\n",
      "           2       0.80      0.97      0.88        80\n",
      "           3       0.76      0.83      0.79        65\n",
      "           4       0.88      0.86      0.87        70\n",
      "           5       0.81      0.68      0.74        65\n",
      "           6       0.98      0.93      0.95        56\n",
      "           7       0.79      0.86      0.82        63\n",
      "           8       0.89      1.00      0.94        66\n",
      "           9       0.60      0.75      0.67        59\n",
      "          10       0.56      0.66      0.60        76\n",
      "          11       0.80      0.79      0.80        72\n",
      "          12       0.96      0.91      0.94        58\n",
      "          13       0.73      0.68      0.71        76\n",
      "          14       0.92      0.95      0.94        63\n",
      "          15       0.96      0.87      0.91        60\n",
      "          16       0.84      0.91      0.88        54\n",
      "          17       0.92      0.82      0.87        73\n",
      "          18       0.74      0.80      0.77        69\n",
      "          19       0.71      0.73      0.72        78\n",
      "          20       0.89      0.89      0.89        54\n",
      "          21       0.62      0.76      0.68        66\n",
      "          22       0.97      0.94      0.95        62\n",
      "          23       0.91      0.77      0.84        66\n",
      "          24       0.56      0.49      0.52        69\n",
      "          25       0.80      0.95      0.87        56\n",
      "          26       0.76      0.67      0.71        78\n",
      "          27       0.84      0.83      0.83        63\n",
      "          28       0.97      0.92      0.94        83\n",
      "          29       0.99      0.95      0.97        75\n",
      "          30       0.89      0.84      0.86        64\n",
      "          31       0.58      0.52      0.55        81\n",
      "          32       0.85      0.71      0.78        63\n",
      "          33       0.83      0.81      0.82        74\n",
      "          34       0.88      0.95      0.91        56\n",
      "          35       0.90      0.86      0.88        66\n",
      "          36       0.75      0.73      0.74        66\n",
      "          37       0.72      0.90      0.80        61\n",
      "          38       0.86      0.71      0.78        79\n",
      "          39       0.66      0.56      0.60        68\n",
      "          40       0.73      0.88      0.80        58\n",
      "          41       0.73      0.75      0.74        63\n",
      "          42       0.98      0.78      0.87        58\n",
      "          43       0.90      0.81      0.85        74\n",
      "          44       0.81      0.83      0.82        72\n",
      "          45       0.90      0.93      0.92        58\n",
      "          46       0.89      0.89      0.89        65\n",
      "          47       0.81      0.81      0.81        64\n",
      "          48       0.87      0.65      0.74        69\n",
      "          49       0.73      0.83      0.77        58\n",
      "          50       0.24      0.28      0.26        54\n",
      "          51       0.97      1.00      0.99        35\n",
      "          52       0.84      0.88      0.86        43\n",
      "          53       0.88      0.82      0.84        60\n",
      "\n",
      "    accuracy                           0.80      3531\n",
      "   macro avg       0.81      0.81      0.80      3531\n",
      "weighted avg       0.81      0.80      0.80      3531\n",
      "\n"
     ]
    }
   ],
   "source": [
    "from sklearn.neighbors import KNeighborsClassifier\n",
    "knc=KNeighborsClassifier()\n",
    "knc.fit(x_train,y_train)\n",
    "pred_test=knc.predict(x_test)\n",
    "print(\"Accuracy Score is \",accuracy_score(y_test,pred_test))\n",
    "print(confusion_matrix(y_test,pred_test))\n",
    "print(classification_report(y_test,pred_test))"
   ]
  },
  {
   "cell_type": "markdown",
   "id": "a2499878",
   "metadata": {},
   "source": [
    "The accuracy of the model is 80% which is not good "
   ]
  },
  {
   "cell_type": "code",
   "execution_count": 83,
   "id": "b65f9dc4",
   "metadata": {},
   "outputs": [
    {
     "name": "stdout",
     "output_type": "stream",
     "text": [
      "Cross_val_score of knc [0.23389218 0.32527942 0.22715319] \n",
      "\n",
      "  mean  0.26210826210826216\n"
     ]
    }
   ],
   "source": [
    "from sklearn.model_selection import cross_val_score\n",
    "src=cross_val_score(knc,x,y,cv=3)\n",
    "print(\"Cross_val_score of knc\",src,\"\\n\\n  mean \",src.mean())"
   ]
  },
  {
   "cell_type": "code",
   "execution_count": 84,
   "id": "f34ed450",
   "metadata": {},
   "outputs": [
    {
     "name": "stdout",
     "output_type": "stream",
     "text": [
      "Accuracy Score is  0.8028521620884324\n"
     ]
    }
   ],
   "source": [
    "from sklearn.ensemble import RandomForestRegressor\n",
    "rfr=RandomForestRegressor()\n",
    "rfr.fit(x_train,y_train)\n",
    "pred_test=rfr.predict(x_test)\n",
    "print(\"Accuracy Score is \",r2_score(y_test,pred_test))"
   ]
  },
  {
   "cell_type": "raw",
   "id": "724ec082",
   "metadata": {},
   "source": [
    "The accuracy of the model is 80% which is not good best of all above lets try some other model"
   ]
  },
  {
   "cell_type": "code",
   "execution_count": null,
   "id": "94271646",
   "metadata": {},
   "outputs": [],
   "source": [
    "from sklearn.model_selection import cross_val_score\n",
    "src=cross_val_score(rfr,x,y,cv=7)\n",
    "print(\"Cross_val_score of rfr\",src,\"\\n\\n  mean \",src.mean())\n",
    "#taking too much time "
   ]
  },
  {
   "cell_type": "code",
   "execution_count": 86,
   "id": "bf3b4aa3",
   "metadata": {},
   "outputs": [
    {
     "name": "stdout",
     "output_type": "stream",
     "text": [
      "Accuracy Score is  0.8006230529595015\n",
      "[[67  0  0 ...  0  0  0]\n",
      " [ 0 53  0 ...  0  0  0]\n",
      " [ 0  0 78 ...  0  0  0]\n",
      " ...\n",
      " [ 0  0  0 ... 35  0  0]\n",
      " [ 0  0  0 ...  1 38  0]\n",
      " [ 0  0  1 ...  0  0 49]]\n",
      "              precision    recall  f1-score   support\n",
      "\n",
      "           0       0.86      0.89      0.88        75\n",
      "           1       0.64      0.74      0.68        72\n",
      "           2       0.80      0.97      0.88        80\n",
      "           3       0.76      0.83      0.79        65\n",
      "           4       0.88      0.86      0.87        70\n",
      "           5       0.81      0.68      0.74        65\n",
      "           6       0.98      0.93      0.95        56\n",
      "           7       0.79      0.86      0.82        63\n",
      "           8       0.89      1.00      0.94        66\n",
      "           9       0.60      0.75      0.67        59\n",
      "          10       0.56      0.66      0.60        76\n",
      "          11       0.80      0.79      0.80        72\n",
      "          12       0.96      0.91      0.94        58\n",
      "          13       0.73      0.68      0.71        76\n",
      "          14       0.92      0.95      0.94        63\n",
      "          15       0.96      0.87      0.91        60\n",
      "          16       0.84      0.91      0.88        54\n",
      "          17       0.92      0.82      0.87        73\n",
      "          18       0.74      0.80      0.77        69\n",
      "          19       0.71      0.73      0.72        78\n",
      "          20       0.89      0.89      0.89        54\n",
      "          21       0.62      0.76      0.68        66\n",
      "          22       0.97      0.94      0.95        62\n",
      "          23       0.91      0.77      0.84        66\n",
      "          24       0.56      0.49      0.52        69\n",
      "          25       0.80      0.95      0.87        56\n",
      "          26       0.76      0.67      0.71        78\n",
      "          27       0.84      0.83      0.83        63\n",
      "          28       0.97      0.92      0.94        83\n",
      "          29       0.99      0.95      0.97        75\n",
      "          30       0.89      0.84      0.86        64\n",
      "          31       0.58      0.52      0.55        81\n",
      "          32       0.85      0.71      0.78        63\n",
      "          33       0.83      0.81      0.82        74\n",
      "          34       0.88      0.95      0.91        56\n",
      "          35       0.90      0.86      0.88        66\n",
      "          36       0.75      0.73      0.74        66\n",
      "          37       0.72      0.90      0.80        61\n",
      "          38       0.86      0.71      0.78        79\n",
      "          39       0.66      0.56      0.60        68\n",
      "          40       0.73      0.88      0.80        58\n",
      "          41       0.73      0.75      0.74        63\n",
      "          42       0.98      0.78      0.87        58\n",
      "          43       0.90      0.81      0.85        74\n",
      "          44       0.81      0.83      0.82        72\n",
      "          45       0.90      0.93      0.92        58\n",
      "          46       0.89      0.89      0.89        65\n",
      "          47       0.81      0.81      0.81        64\n",
      "          48       0.87      0.65      0.74        69\n",
      "          49       0.73      0.83      0.77        58\n",
      "          50       0.24      0.28      0.26        54\n",
      "          51       0.97      1.00      0.99        35\n",
      "          52       0.84      0.88      0.86        43\n",
      "          53       0.88      0.82      0.84        60\n",
      "\n",
      "    accuracy                           0.80      3531\n",
      "   macro avg       0.81      0.81      0.80      3531\n",
      "weighted avg       0.81      0.80      0.80      3531\n",
      "\n"
     ]
    }
   ],
   "source": [
    "from sklearn.neighbors import KNeighborsClassifier\n",
    "knc=KNeighborsClassifier()\n",
    "knc.fit(x_train,y_train)\n",
    "pred_test=knc.predict(x_test)\n",
    "print(\"Accuracy Score is \",accuracy_score(y_test,pred_test))\n",
    "print(confusion_matrix(y_test,pred_test))\n",
    "print(classification_report(y_test,pred_test))"
   ]
  },
  {
   "cell_type": "code",
   "execution_count": 87,
   "id": "d8d93a6e",
   "metadata": {},
   "outputs": [
    {
     "name": "stdout",
     "output_type": "stream",
     "text": [
      "Cross_val_score of knc [0.41180982 0.46242331 0.52760736 0.47027234 0.39393939 0.42309168\n",
      " 0.43920215] \n",
      "\n",
      "  mean  0.44690657896373515\n"
     ]
    }
   ],
   "source": [
    "from sklearn.model_selection import cross_val_score\n",
    "src=cross_val_score(knc,x,y,cv=7)\n",
    "print(\"Cross_val_score of knc\",src,\"\\n\\n  mean \",src.mean())"
   ]
  },
  {
   "cell_type": "markdown",
   "id": "2a6012f5",
   "metadata": {},
   "source": [
    "- Accuracy score is 80% CV score = 44"
   ]
  },
  {
   "cell_type": "markdown",
   "id": "03c08b8a",
   "metadata": {},
   "source": [
    "\n",
    "#### Best model is RandomForestClassifier with 92% accuracy score and cross validation score 94.28%"
   ]
  },
  {
   "cell_type": "code",
   "execution_count": 90,
   "id": "386aa72d",
   "metadata": {},
   "outputs": [
    {
     "name": "stdout",
     "output_type": "stream",
     "text": [
      "At cross fold 3 the cv score is 0.6055774709620864 and testing accuracy is 0.8006230529595015\n",
      "\n",
      "\n",
      "At cross fold 4 the cv score is 0.6711593250054788 and testing accuracy is 0.8006230529595015\n",
      "\n",
      "\n",
      "At cross fold 5 the cv score is 0.7151494317563587 and testing accuracy is 0.8006230529595015\n",
      "\n",
      "\n",
      "At cross fold 6 the cv score is 0.7255643217181679 and testing accuracy is 0.8006230529595015\n",
      "\n",
      "\n",
      "At cross fold 7 the cv score is 0.7923435673590988 and testing accuracy is 0.8006230529595015\n",
      "\n",
      "\n",
      "At cross fold 8 the cv score is 0.8025876126412567 and testing accuracy is 0.8006230529595015\n",
      "\n",
      "\n"
     ]
    }
   ],
   "source": [
    "test_accuracy=accuracy_score(y_test,pred_test)\n",
    "\n",
    "from sklearn.model_selection import cross_val_score\n",
    "for j in range(3,9):\n",
    "    cv_score=cross_val_score(rfc,x,y,cv=j)\n",
    "    cv_mean=cv_score.mean()\n",
    "    print(f\"At cross fold {j} the cv score is {cv_mean} and testing accuracy is {test_accuracy}\")\n",
    "    print(\"\\n\")"
   ]
  },
  {
   "cell_type": "markdown",
   "id": "8abaa22f",
   "metadata": {},
   "source": [
    "- CV 8 is best"
   ]
  },
  {
   "cell_type": "markdown",
   "id": "6c63944d",
   "metadata": {},
   "source": [
    "##### Hyper Parameter Tuning"
   ]
  },
  {
   "cell_type": "markdown",
   "id": "bcc89698",
   "metadata": {},
   "source": [
    "#### Parameter fine tuning"
   ]
  },
  {
   "cell_type": "code",
   "execution_count": 91,
   "id": "38d8e65a",
   "metadata": {},
   "outputs": [],
   "source": [
    "from sklearn.model_selection import GridSearchCV\n",
    "from sklearn.model_selection import cross_val_score\n",
    "import warnings\n",
    "warnings.filterwarnings('ignore')"
   ]
  },
  {
   "cell_type": "code",
   "execution_count": null,
   "id": "042be38b",
   "metadata": {},
   "outputs": [],
   "source": [
    "\n",
    "parameters={'criterion':['gini', 'entropy'], 'max_depth':[1,2,3,4,5],'max_features':['sqrt', 'log2'],'n_estimators':[100,200,300,400,500]}\n",
    "rfc=RandomForestClassifier()\n",
    "    \n",
    "\n",
    "clf = GridSearchCV(rfc,parameters,cv=7)\n",
    "clf.fit(x_train,y_train)\n",
    "\n",
    "print(clf.best_params_)\n",
    "\n",
    "#taking too much time"
   ]
  },
  {
   "cell_type": "code",
   "execution_count": 98,
   "id": "7e5387da",
   "metadata": {},
   "outputs": [
    {
     "name": "stdout",
     "output_type": "stream",
     "text": [
      "accuracy score = 0.8431039365618805\n",
      "[[72  0  0 ...  0  0  0]\n",
      " [ 0 56  0 ...  0  0  0]\n",
      " [ 0  0 79 ...  0  0  0]\n",
      " ...\n",
      " [ 0  0  0 ... 35  0  0]\n",
      " [ 0  0  0 ...  0 42  0]\n",
      " [ 0  0  3 ...  0  0 40]]\n",
      "classification_report =               precision    recall  f1-score   support\n",
      "\n",
      "           0       0.85      0.96      0.90        75\n",
      "           1       0.70      0.78      0.74        72\n",
      "           2       0.92      0.99      0.95        80\n",
      "           3       0.86      0.85      0.85        65\n",
      "           4       0.96      0.97      0.96        70\n",
      "           5       0.95      0.65      0.77        65\n",
      "           6       0.95      0.96      0.96        56\n",
      "           7       0.73      0.71      0.72        63\n",
      "           8       0.97      0.95      0.96        66\n",
      "           9       0.65      0.81      0.72        59\n",
      "          10       0.77      0.79      0.78        76\n",
      "          11       0.96      0.93      0.94        72\n",
      "          12       0.95      0.97      0.96        58\n",
      "          13       0.82      0.64      0.72        76\n",
      "          14       0.80      0.89      0.84        63\n",
      "          15       0.93      0.95      0.94        60\n",
      "          16       0.96      0.98      0.97        54\n",
      "          17       0.87      0.89      0.88        73\n",
      "          18       0.90      0.90      0.90        69\n",
      "          19       0.84      0.86      0.85        78\n",
      "          20       0.91      0.93      0.92        54\n",
      "          21       0.72      0.71      0.72        66\n",
      "          22       0.94      1.00      0.97        62\n",
      "          23       0.82      0.95      0.88        66\n",
      "          24       0.65      0.59      0.62        69\n",
      "          25       0.95      0.98      0.96        56\n",
      "          26       0.92      0.42      0.58        78\n",
      "          27       0.78      0.84      0.81        63\n",
      "          28       0.96      0.95      0.96        83\n",
      "          29       0.99      0.93      0.96        75\n",
      "          30       0.92      0.95      0.94        64\n",
      "          31       0.76      0.62      0.68        81\n",
      "          32       0.86      0.78      0.82        63\n",
      "          33       0.81      0.85      0.83        74\n",
      "          34       0.96      0.91      0.94        56\n",
      "          35       0.90      0.95      0.93        66\n",
      "          36       0.86      0.82      0.84        66\n",
      "          37       0.62      0.74      0.67        61\n",
      "          38       0.80      0.80      0.80        79\n",
      "          39       0.74      0.82      0.78        68\n",
      "          40       0.62      0.91      0.74        58\n",
      "          41       0.77      0.81      0.79        63\n",
      "          42       0.93      0.90      0.91        58\n",
      "          43       0.90      0.88      0.89        74\n",
      "          44       0.85      0.76      0.80        72\n",
      "          45       0.95      1.00      0.97        58\n",
      "          46       1.00      0.94      0.97        65\n",
      "          47       0.85      0.78      0.81        64\n",
      "          48       0.81      0.78      0.79        69\n",
      "          49       0.83      0.95      0.89        58\n",
      "          50       0.42      0.44      0.43        54\n",
      "          51       0.97      1.00      0.99        35\n",
      "          52       0.91      0.98      0.94        43\n",
      "          53       0.87      0.67      0.75        60\n",
      "\n",
      "    accuracy                           0.84      3531\n",
      "   macro avg       0.85      0.85      0.84      3531\n",
      "weighted avg       0.85      0.84      0.84      3531\n",
      "\n"
     ]
    }
   ],
   "source": [
    "#final model training \n",
    "rfc=RandomForestClassifier(criterion='entropy',max_depth=9,max_features='sqrt',n_estimators=100)\n",
    "rfc.fit(x_train,y_train)\n",
    "rfc_score_training = rfc.score(x_train,y_train)\n",
    "pred = rfc.predict(x_test)\n",
    "\n",
    "print('accuracy score =',accuracy_score(y_test,pred))\n",
    "print(confusion_matrix(y_test,pred))\n",
    "print('classification_report =',classification_report(y_test,pred))"
   ]
  },
  {
   "cell_type": "code",
   "execution_count": null,
   "id": "f410d231",
   "metadata": {},
   "outputs": [],
   "source": [
    "- Accuracy score is 84%"
   ]
  },
  {
   "cell_type": "markdown",
   "id": "c49e79c4",
   "metadata": {},
   "source": [
    "#### We are getting model accuracy  score 84 %"
   ]
  },
  {
   "cell_type": "code",
   "execution_count": 104,
   "id": "245bac6a",
   "metadata": {},
   "outputs": [],
   "source": [
    "#saving the model\n",
    "import pickle\n",
    "outfile=open('tit.pkl','wb')\n",
    "pickle.dump(rfc,outfile)\n",
    "outfile.close()"
   ]
  },
  {
   "cell_type": "markdown",
   "id": "5d1e5653",
   "metadata": {},
   "source": [
    "## Conclusion"
   ]
  },
  {
   "cell_type": "code",
   "execution_count": 105,
   "id": "44805f14",
   "metadata": {},
   "outputs": [
    {
     "data": {
      "text/plain": [
       "84.31039365618805"
      ]
     },
     "execution_count": 105,
     "metadata": {},
     "output_type": "execute_result"
    }
   ],
   "source": [
    "#loading the model\n",
    "infile=open('tit.pkl','rb')\n",
    "new_rf=pickle.load(infile)\n",
    "infile.close()\n",
    "\n",
    "result = new_rf.score(x_test,y_test)\n",
    "result*100"
   ]
  },
  {
   "cell_type": "code",
   "execution_count": 106,
   "id": "bac229b0",
   "metadata": {},
   "outputs": [
    {
     "data": {
      "text/html": [
       "<div>\n",
       "<style scoped>\n",
       "    .dataframe tbody tr th:only-of-type {\n",
       "        vertical-align: middle;\n",
       "    }\n",
       "\n",
       "    .dataframe tbody tr th {\n",
       "        vertical-align: top;\n",
       "    }\n",
       "\n",
       "    .dataframe thead th {\n",
       "        text-align: right;\n",
       "    }\n",
       "</style>\n",
       "<table border=\"1\" class=\"dataframe\">\n",
       "  <thead>\n",
       "    <tr style=\"text-align: right;\">\n",
       "      <th></th>\n",
       "      <th>0</th>\n",
       "      <th>1</th>\n",
       "      <th>2</th>\n",
       "      <th>3</th>\n",
       "      <th>4</th>\n",
       "      <th>5</th>\n",
       "      <th>6</th>\n",
       "      <th>7</th>\n",
       "      <th>8</th>\n",
       "      <th>9</th>\n",
       "      <th>...</th>\n",
       "      <th>3521</th>\n",
       "      <th>3522</th>\n",
       "      <th>3523</th>\n",
       "      <th>3524</th>\n",
       "      <th>3525</th>\n",
       "      <th>3526</th>\n",
       "      <th>3527</th>\n",
       "      <th>3528</th>\n",
       "      <th>3529</th>\n",
       "      <th>3530</th>\n",
       "    </tr>\n",
       "  </thead>\n",
       "  <tbody>\n",
       "    <tr>\n",
       "      <th>Predicted</th>\n",
       "      <td>33</td>\n",
       "      <td>5</td>\n",
       "      <td>0</td>\n",
       "      <td>46</td>\n",
       "      <td>31</td>\n",
       "      <td>45</td>\n",
       "      <td>10</td>\n",
       "      <td>0</td>\n",
       "      <td>18</td>\n",
       "      <td>14</td>\n",
       "      <td>...</td>\n",
       "      <td>30</td>\n",
       "      <td>11</td>\n",
       "      <td>35</td>\n",
       "      <td>43</td>\n",
       "      <td>1</td>\n",
       "      <td>37</td>\n",
       "      <td>38</td>\n",
       "      <td>18</td>\n",
       "      <td>53</td>\n",
       "      <td>43</td>\n",
       "    </tr>\n",
       "    <tr>\n",
       "      <th>Original</th>\n",
       "      <td>33</td>\n",
       "      <td>5</td>\n",
       "      <td>0</td>\n",
       "      <td>46</td>\n",
       "      <td>31</td>\n",
       "      <td>45</td>\n",
       "      <td>10</td>\n",
       "      <td>0</td>\n",
       "      <td>18</td>\n",
       "      <td>14</td>\n",
       "      <td>...</td>\n",
       "      <td>30</td>\n",
       "      <td>11</td>\n",
       "      <td>35</td>\n",
       "      <td>43</td>\n",
       "      <td>50</td>\n",
       "      <td>37</td>\n",
       "      <td>38</td>\n",
       "      <td>41</td>\n",
       "      <td>53</td>\n",
       "      <td>43</td>\n",
       "    </tr>\n",
       "  </tbody>\n",
       "</table>\n",
       "<p>2 rows × 3531 columns</p>\n",
       "</div>"
      ],
      "text/plain": [
       "           0     1     2     3     4     5     6     7     8     9     ...  \\\n",
       "Predicted    33     5     0    46    31    45    10     0    18    14  ...   \n",
       "Original     33     5     0    46    31    45    10     0    18    14  ...   \n",
       "\n",
       "           3521  3522  3523  3524  3525  3526  3527  3528  3529  3530  \n",
       "Predicted    30    11    35    43     1    37    38    18    53    43  \n",
       "Original     30    11    35    43    50    37    38    41    53    43  \n",
       "\n",
       "[2 rows x 3531 columns]"
      ]
     },
     "execution_count": 106,
     "metadata": {},
     "output_type": "execute_result"
    }
   ],
   "source": [
    "pred_decision=y_test\n",
    "conclusion=pd.DataFrame([new_rf.predict(x_test)[:],pred_decision[:]],index=[\"Predicted\",\"Original\"])\n",
    "conclusion"
   ]
  },
  {
   "cell_type": "markdown",
   "id": "d998ceed",
   "metadata": {},
   "source": [
    "##### Regression Analysis"
   ]
  },
  {
   "cell_type": "code",
   "execution_count": 119,
   "id": "ff8cdee4",
   "metadata": {},
   "outputs": [],
   "source": [
    "x=df.drop('AveragePrice', axis=1)\n",
    "y=df['AveragePrice']"
   ]
  },
  {
   "cell_type": "code",
   "execution_count": 120,
   "id": "b9bc30da",
   "metadata": {},
   "outputs": [],
   "source": [
    "import warnings\n",
    "warnings.filterwarnings('ignore')\n",
    "\n",
    "from sklearn.linear_model import LinearRegression\n",
    "lr=LinearRegression()\n",
    "\n",
    "from sklearn.metrics import r2_score,mean_squared_error, mean_absolute_error #For checking loss function (errors)\n",
    "\n",
    "from sklearn.model_selection import train_test_split"
   ]
  },
  {
   "cell_type": "markdown",
   "id": "06645278",
   "metadata": {},
   "source": [
    "##### Checking the best random state for splitting the the data in train and test"
   ]
  },
  {
   "cell_type": "code",
   "execution_count": 121,
   "id": "47862b4d",
   "metadata": {},
   "outputs": [
    {
     "name": "stdout",
     "output_type": "stream",
     "text": [
      "best random state is 0   99\n"
     ]
    }
   ],
   "source": [
    "rstate=0\n",
    "rscore=0\n",
    "\n",
    "for i in range(0,1000):\n",
    "    x_train,x_test,y_train,y_test=train_test_split(x1,y,test_size=.2,random_state=i)\n",
    "    lr.fit(x_train,y_train)\n",
    "    pred=lr.predict(x_test)\n",
    "    if(round(r2_score(y_test,pred)*100)>rscore):\n",
    "        rstate=i\n",
    "        rscore=round(r2_score(y_test,pred)*100)\n",
    "\n",
    "print('best random state is',rstate,\" \",rscore)\n"
   ]
  },
  {
   "cell_type": "code",
   "execution_count": 122,
   "id": "08a29365",
   "metadata": {},
   "outputs": [],
   "source": [
    "#splitting the data in train and test variables\n",
    "x_train,x_test,y_train,y_test=train_test_split(x1,y,test_size=.2,random_state=0)"
   ]
  },
  {
   "cell_type": "code",
   "execution_count": 123,
   "id": "71995dea",
   "metadata": {},
   "outputs": [],
   "source": [
    "lr.fit(x_train,y_train)\n",
    "pred=lr.predict(x_test)\n"
   ]
  },
  {
   "cell_type": "code",
   "execution_count": 124,
   "id": "f768267c",
   "metadata": {},
   "outputs": [
    {
     "name": "stdout",
     "output_type": "stream",
     "text": [
      "99.07165313684396  %\n",
      "Error :\n",
      "Mean Absolute Error =  0.027163945039062772\n",
      "mean squared error =  0.0013912348400544556\n",
      "root mean squared error =  0.03729926058321338\n"
     ]
    }
   ],
   "source": [
    "print(r2_score(y_test,pred)*100,\" %\")        \n",
    "\n",
    "#Printing Error value\n",
    "print(\"Error :\")\n",
    "\n",
    "print(\"Mean Absolute Error = \",mean_absolute_error(y_test,pred))\n",
    "\n",
    "print(\"mean squared error = \",mean_squared_error(y_test,pred))\n",
    "\n",
    "print(\"root mean squared error = \",np.sqrt(mean_squared_error(y_test,pred)))"
   ]
  },
  {
   "cell_type": "markdown",
   "id": "4467a14f",
   "metadata": {},
   "source": [
    "- Accuracy score is 99%"
   ]
  },
  {
   "cell_type": "markdown",
   "id": "456ba1c1",
   "metadata": {},
   "source": [
    "##### Checking Cross Validation Score"
   ]
  },
  {
   "cell_type": "code",
   "execution_count": 130,
   "id": "9e0ed597",
   "metadata": {},
   "outputs": [
    {
     "name": "stdout",
     "output_type": "stream",
     "text": [
      "Cross_val_score of svc [  -0.2731108     0.19374507 -117.05570905] \n",
      "\n",
      "  mean  -39.04502492757331\n"
     ]
    }
   ],
   "source": [
    "from sklearn.model_selection import cross_val_score\n",
    "src=cross_val_score(lr,x,y,cv=3)\n",
    "print(\"Cross_val_score of svc\",src,\"\\n\\n  mean \",src.mean())"
   ]
  },
  {
   "cell_type": "code",
   "execution_count": 133,
   "id": "513b9b44",
   "metadata": {},
   "outputs": [
    {
     "name": "stdout",
     "output_type": "stream",
     "text": [
      "99.07306780381685  %\n",
      "Error :\n",
      "Mean Absolute Error =  0.027106744405576047\n",
      "mean squared error =  0.0013891147984429846\n",
      "root mean squared error =  0.03727083039647741\n"
     ]
    }
   ],
   "source": [
    "#Regularizing\n",
    "from sklearn.linear_model import Ridge\n",
    "ls=Ridge()\n",
    "ls.fit(x_train,y_train)\n",
    "pred=ls.predict(x_test)\n",
    "print(r2_score(y_test,pred)*100,\" %\")    \n",
    "\n",
    "#Printing Error value\n",
    "print(\"Error :\")\n",
    "\n",
    "print(\"Mean Absolute Error = \",mean_absolute_error(y_test,pred))\n",
    "\n",
    "print(\"mean squared error = \",mean_squared_error(y_test,pred))\n",
    "\n",
    "print(\"root mean squared error = \",np.sqrt(mean_squared_error(y_test,pred)))"
   ]
  },
  {
   "cell_type": "markdown",
   "id": "4c094aac",
   "metadata": {},
   "source": [
    "- Good Accuracy of 99%"
   ]
  },
  {
   "cell_type": "code",
   "execution_count": 134,
   "id": "fe43142b",
   "metadata": {},
   "outputs": [
    {
     "name": "stdout",
     "output_type": "stream",
     "text": [
      "Cross_val_score of Lasso [  -0.27403515    0.19342294 -106.40559933] \n",
      "\n",
      "  mean  -35.49540384853747\n"
     ]
    }
   ],
   "source": [
    "#Checking cross validation score of Lasso\n",
    "from sklearn.model_selection import cross_val_score\n",
    "src=cross_val_score(ls,x,y,cv=3)\n",
    "print(\"Cross_val_score of Lasso\",src,\"\\n\\n  mean \",src.mean())"
   ]
  },
  {
   "cell_type": "markdown",
   "id": "8e4333be",
   "metadata": {},
   "source": [
    "- Lets  try some other model"
   ]
  },
  {
   "cell_type": "code",
   "execution_count": 136,
   "id": "eb1fb919",
   "metadata": {},
   "outputs": [
    {
     "name": "stdout",
     "output_type": "stream",
     "text": [
      "98.65008811245222  %\n",
      "Error :\n",
      "Mean Absolute Error =  0.03738595170185555\n",
      "mean squared error =  0.0020229986479142876\n",
      "root mean squared error =  0.044977757257496594\n"
     ]
    }
   ],
   "source": [
    "from sklearn.svm import SVR\n",
    "svr=SVR()\n",
    "svr.fit(x_train,y_train)\n",
    "pred=svr.predict(x_test)\n",
    "\n",
    "print(r2_score(y_test,pred)*100,\" %\")    \n",
    "\n",
    "#Printing Error value\n",
    "print(\"Error :\")\n",
    "\n",
    "print(\"Mean Absolute Error = \",mean_absolute_error(y_test,pred))\n",
    "\n",
    "print(\"mean squared error = \",mean_squared_error(y_test,pred))\n",
    "\n",
    "print(\"root mean squared error = \",np.sqrt(mean_squared_error(y_test,pred)))\n"
   ]
  },
  {
   "cell_type": "code",
   "execution_count": 138,
   "id": "4180fc48",
   "metadata": {},
   "outputs": [
    {
     "name": "stdout",
     "output_type": "stream",
     "text": [
      "Cross_val_score of Ridge [-0.77243657  0.2896386  -0.1422113 ] \n",
      "\n",
      "  mean  -0.20833642240253503\n"
     ]
    }
   ],
   "source": [
    "#Checking cross validation score of DTR\n",
    "from sklearn.model_selection import cross_val_score\n",
    "src=cross_val_score(svr,x,y,cv=3)\n",
    "print(\"Cross_val_score of Ridge\",src,\"\\n\\n  mean \",src.mean())"
   ]
  },
  {
   "cell_type": "markdown",
   "id": "2370e5a3",
   "metadata": {},
   "source": [
    "- Good Accuracy of 98%"
   ]
  },
  {
   "cell_type": "code",
   "execution_count": 139,
   "id": "1b86e99c",
   "metadata": {},
   "outputs": [
    {
     "name": "stdout",
     "output_type": "stream",
     "text": [
      "Accuracy Score is  99.9998775968163  %\n",
      "Error :\n",
      "Mean Absolute Error =  1.543472104397125e-05\n",
      "mean squared error =  1.83435287453967e-07\n",
      "root mean squared error =  0.000428293459504073\n"
     ]
    }
   ],
   "source": [
    "from sklearn.ensemble import RandomForestRegressor\n",
    "rfr=RandomForestRegressor()\n",
    "rfr.fit(x_train,y_train)\n",
    "pred=rfr.predict(x_test)\n",
    "print(\"Accuracy Score is \",r2_score(y_test,pred)*100,\" %\")    \n",
    "\n",
    "#Printing Error value\n",
    "print(\"Error :\")\n",
    "\n",
    "print(\"Mean Absolute Error = \",mean_absolute_error(y_test,pred))\n",
    "\n",
    "print(\"mean squared error = \",mean_squared_error(y_test,pred))\n",
    "\n",
    "print(\"root mean squared error = \",np.sqrt(mean_squared_error(y_test,pred)))"
   ]
  },
  {
   "cell_type": "code",
   "execution_count": 140,
   "id": "b3cf6e8a",
   "metadata": {},
   "outputs": [
    {
     "name": "stdout",
     "output_type": "stream",
     "text": [
      "Cross_val_score of RFR [0.17704998 0.58148551 0.26534261] \n",
      "\n",
      "  mean  0.34129269929042766\n"
     ]
    }
   ],
   "source": [
    "#Checking cross validation score of RFR\n",
    "from sklearn.model_selection import cross_val_score\n",
    "src=cross_val_score(rfr,x,y,cv=3)\n",
    "print(\"Cross_val_score of RFR\",src,\"\\n\\n  mean \",src.mean())"
   ]
  },
  {
   "cell_type": "code",
   "execution_count": 141,
   "id": "552d193f",
   "metadata": {},
   "outputs": [
    {
     "name": "stdout",
     "output_type": "stream",
     "text": [
      "Accuracy Score is  99.99969309911792  %\n",
      "Error :\n",
      "Mean Absolute Error =  2.3789294817867854e-05\n",
      "mean squared error =  4.5992636646842427e-07\n",
      "root mean squared error =  0.0006781787127803587\n"
     ]
    }
   ],
   "source": [
    "from sklearn.ensemble import BaggingRegressor as BR\n",
    "br=BR()\n",
    "\n",
    "br.fit(x_train,y_train)\n",
    "pred=br.predict(x_test)\n",
    "print(\"Accuracy Score is \",r2_score(y_test,pred)*100,\" %\")    \n",
    "\n",
    "#Printing Error value\n",
    "print(\"Error :\")\n",
    "\n",
    "print(\"Mean Absolute Error = \",mean_absolute_error(y_test,pred))\n",
    "\n",
    "print(\"mean squared error = \",mean_squared_error(y_test,pred))\n",
    "\n",
    "print(\"root mean squared error = \",np.sqrt(mean_squared_error(y_test,pred)))"
   ]
  },
  {
   "cell_type": "code",
   "execution_count": 142,
   "id": "31b06c31",
   "metadata": {},
   "outputs": [
    {
     "name": "stdout",
     "output_type": "stream",
     "text": [
      "Cross_val_score of BR [0.17383041 0.5287489  0.27088292] \n",
      "\n",
      "  mean  0.32448741093684\n"
     ]
    }
   ],
   "source": [
    "#Checking cross validation score of RFR\n",
    "from sklearn.model_selection import cross_val_score\n",
    "src=cross_val_score(br,x,y,cv=3)\n",
    "print(\"Cross_val_score of BR\",src,\"\\n\\n  mean \",src.mean())"
   ]
  },
  {
   "cell_type": "markdown",
   "id": "b8605b07",
   "metadata": {},
   "source": [
    "##### Best model is RandomForestRegressor with 99.99% almost 100% accuracy and the difference with cv score is less than other models"
   ]
  },
  {
   "cell_type": "markdown",
   "id": "9c8f7111",
   "metadata": {},
   "source": [
    "##### Hyper Parameter Tuning"
   ]
  },
  {
   "cell_type": "code",
   "execution_count": null,
   "id": "9a72abd2",
   "metadata": {},
   "outputs": [],
   "source": [
    "from sklearn.model_selection import GridSearchCV\n",
    "parameters={'n_estimators':[100,300],'criterion':['squared_error','absolute_error'],'max_depth':[5,7,9],'max_features':['sqrt', 'log2']}\n",
    "rfr=RandomForestRegressor()    \n",
    "    \n",
    "\n",
    "clf = GridSearchCV(rfr,parameters,cv=8)\n",
    "clf.fit(x_train,y_train)\n",
    "\n",
    "print(clf.best_params_)\n",
    "\n",
    "#taking too much time hense left"
   ]
  },
  {
   "cell_type": "code",
   "execution_count": 144,
   "id": "162d1816",
   "metadata": {},
   "outputs": [
    {
     "name": "stdout",
     "output_type": "stream",
     "text": [
      "score = 0.9902974050449244\n",
      "Accuracy R2 Score is  97.96505389730886  %\n",
      "Error :\n",
      "Mean Absolute Error =  0.03539243708417088\n",
      "mean squared error =  0.0030496014238388163\n",
      "root mean squared error =  0.05522319642902624\n"
     ]
    }
   ],
   "source": [
    "#final model training \n",
    "rfr=RandomForestRegressor(n_estimators=100 , criterion='squared_error' , max_depth=9 , max_features='sqrt' )  \n",
    "rfr.fit(x_train,y_train)\n",
    "rfr_score_testing = lr.score(x_train,y_train)\n",
    "pred = rfr.predict(x_test)\n",
    "\n",
    "print('score =',rfr_score_testing)\n",
    "\n",
    "print(\"Accuracy R2 Score is \",r2_score(y_test,pred)*100,\" %\")    \n",
    "\n",
    "#Printing Error value\n",
    "print(\"Error :\")\n",
    "\n",
    "print(\"Mean Absolute Error = \",mean_absolute_error(y_test,pred))\n",
    "\n",
    "print(\"mean squared error = \",mean_squared_error(y_test,pred))\n",
    "\n",
    "print(\"root mean squared error = \",np.sqrt(mean_squared_error(y_test,pred)))"
   ]
  },
  {
   "cell_type": "code",
   "execution_count": 146,
   "id": "270ad53d",
   "metadata": {},
   "outputs": [
    {
     "name": "stdout",
     "output_type": "stream",
     "text": [
      "Cross_val_score of LR [0.32614768 0.52235964 0.58179172 0.40611867 0.63473724 0.32141971\n",
      " 0.40107109 0.44643954 0.30550493] \n",
      "\n",
      "  mean  0.4383989130246271\n"
     ]
    }
   ],
   "source": [
    "#Checking cross validation score of LR\n",
    "from sklearn.model_selection import cross_val_score\n",
    "src=cross_val_score(rfr,x,y,cv=9)\n",
    "print(\"Cross_val_score of LR\",src,\"\\n\\n  mean \",src.mean())"
   ]
  },
  {
   "cell_type": "markdown",
   "id": "084c6d0c",
   "metadata": {},
   "source": [
    "# Conclusion Saving the best model"
   ]
  },
  {
   "cell_type": "code",
   "execution_count": 147,
   "id": "8b714ffa",
   "metadata": {},
   "outputs": [],
   "source": [
    "#saving the model\n",
    "import pickle\n",
    "outfile=open('rfr.pkl','wb')\n",
    "pickle.dump(lr,outfile)\n",
    "outfile.close()"
   ]
  },
  {
   "cell_type": "code",
   "execution_count": 148,
   "id": "ecafc859",
   "metadata": {},
   "outputs": [
    {
     "data": {
      "text/plain": [
       "99.07165313684396"
      ]
     },
     "execution_count": 148,
     "metadata": {},
     "output_type": "execute_result"
    }
   ],
   "source": [
    "#loading the model\n",
    "infile=open('rfr.pkl','rb')\n",
    "new_rf=pickle.load(infile)\n",
    "infile.close()\n",
    "\n",
    "result = new_rf.score(x_test,y_test)\n",
    "result*100"
   ]
  },
  {
   "cell_type": "code",
   "execution_count": 149,
   "id": "bebe05eb",
   "metadata": {},
   "outputs": [
    {
     "data": {
      "text/html": [
       "<div>\n",
       "<style scoped>\n",
       "    .dataframe tbody tr th:only-of-type {\n",
       "        vertical-align: middle;\n",
       "    }\n",
       "\n",
       "    .dataframe tbody tr th {\n",
       "        vertical-align: top;\n",
       "    }\n",
       "\n",
       "    .dataframe thead th {\n",
       "        text-align: right;\n",
       "    }\n",
       "</style>\n",
       "<table border=\"1\" class=\"dataframe\">\n",
       "  <thead>\n",
       "    <tr style=\"text-align: right;\">\n",
       "      <th></th>\n",
       "      <th>0</th>\n",
       "      <th>1</th>\n",
       "      <th>2</th>\n",
       "      <th>3</th>\n",
       "      <th>4</th>\n",
       "      <th>5</th>\n",
       "      <th>6</th>\n",
       "      <th>7</th>\n",
       "      <th>8</th>\n",
       "      <th>9</th>\n",
       "      <th>...</th>\n",
       "      <th>3521</th>\n",
       "      <th>3522</th>\n",
       "      <th>3523</th>\n",
       "      <th>3524</th>\n",
       "      <th>3525</th>\n",
       "      <th>3526</th>\n",
       "      <th>3527</th>\n",
       "      <th>3528</th>\n",
       "      <th>3529</th>\n",
       "      <th>3530</th>\n",
       "    </tr>\n",
       "  </thead>\n",
       "  <tbody>\n",
       "    <tr>\n",
       "      <th>Predicted</th>\n",
       "      <td>0.564503</td>\n",
       "      <td>1.787866</td>\n",
       "      <td>1.27834</td>\n",
       "      <td>1.067947</td>\n",
       "      <td>1.903844</td>\n",
       "      <td>1.82628</td>\n",
       "      <td>0.978149</td>\n",
       "      <td>0.94884</td>\n",
       "      <td>1.453922</td>\n",
       "      <td>1.886598</td>\n",
       "      <td>...</td>\n",
       "      <td>0.85207</td>\n",
       "      <td>1.069109</td>\n",
       "      <td>0.955598</td>\n",
       "      <td>1.662175</td>\n",
       "      <td>2.150603</td>\n",
       "      <td>1.515125</td>\n",
       "      <td>0.624797</td>\n",
       "      <td>1.077502</td>\n",
       "      <td>0.910705</td>\n",
       "      <td>0.728924</td>\n",
       "    </tr>\n",
       "    <tr>\n",
       "      <th>Original</th>\n",
       "      <td>0.670000</td>\n",
       "      <td>1.770000</td>\n",
       "      <td>1.26000</td>\n",
       "      <td>1.060000</td>\n",
       "      <td>1.920000</td>\n",
       "      <td>1.84000</td>\n",
       "      <td>0.990000</td>\n",
       "      <td>0.97000</td>\n",
       "      <td>1.430000</td>\n",
       "      <td>1.900000</td>\n",
       "      <td>...</td>\n",
       "      <td>0.88000</td>\n",
       "      <td>1.060000</td>\n",
       "      <td>0.970000</td>\n",
       "      <td>1.650000</td>\n",
       "      <td>2.250000</td>\n",
       "      <td>1.480000</td>\n",
       "      <td>0.710000</td>\n",
       "      <td>1.080000</td>\n",
       "      <td>0.930000</td>\n",
       "      <td>0.790000</td>\n",
       "    </tr>\n",
       "  </tbody>\n",
       "</table>\n",
       "<p>2 rows × 3531 columns</p>\n",
       "</div>"
      ],
      "text/plain": [
       "               0         1        2         3         4        5         6     \\\n",
       "Predicted  0.564503  1.787866  1.27834  1.067947  1.903844  1.82628  0.978149   \n",
       "Original   0.670000  1.770000  1.26000  1.060000  1.920000  1.84000  0.990000   \n",
       "\n",
       "              7         8         9     ...     3521      3522      3523  \\\n",
       "Predicted  0.94884  1.453922  1.886598  ...  0.85207  1.069109  0.955598   \n",
       "Original   0.97000  1.430000  1.900000  ...  0.88000  1.060000  0.970000   \n",
       "\n",
       "               3524      3525      3526      3527      3528      3529  \\\n",
       "Predicted  1.662175  2.150603  1.515125  0.624797  1.077502  0.910705   \n",
       "Original   1.650000  2.250000  1.480000  0.710000  1.080000  0.930000   \n",
       "\n",
       "               3530  \n",
       "Predicted  0.728924  \n",
       "Original   0.790000  \n",
       "\n",
       "[2 rows x 3531 columns]"
      ]
     },
     "execution_count": 149,
     "metadata": {},
     "output_type": "execute_result"
    }
   ],
   "source": [
    "#printing the predicted data in a dataframe\n",
    "pred_decision=y_test\n",
    "conclusion=pd.DataFrame([new_rf.predict(x_test)[:],pred_decision[:]],index=[\"Predicted\",\"Original\"])\n",
    "conclusion"
   ]
  },
  {
   "cell_type": "markdown",
   "id": "fd92384a",
   "metadata": {},
   "source": [
    "- Some more graphs can be used to visualize it further if required and some more models may be tried "
   ]
  }
 ],
 "metadata": {
  "kernelspec": {
   "display_name": "Python 3 (ipykernel)",
   "language": "python",
   "name": "python3"
  },
  "language_info": {
   "codemirror_mode": {
    "name": "ipython",
    "version": 3
   },
   "file_extension": ".py",
   "mimetype": "text/x-python",
   "name": "python",
   "nbconvert_exporter": "python",
   "pygments_lexer": "ipython3",
   "version": "3.9.7"
  }
 },
 "nbformat": 4,
 "nbformat_minor": 5
}
